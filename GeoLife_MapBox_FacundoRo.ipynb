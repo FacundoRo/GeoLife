{
  "nbformat": 4,
  "nbformat_minor": 0,
  "metadata": {
    "colab": {
      "name": "GeoLife_MapBox_FacundoRo.ipynb",
      "provenance": [],
      "collapsed_sections": [],
      "authorship_tag": "ABX9TyNuuTqCa8PpdkMfQcKUw43q",
      "include_colab_link": true
    },
    "kernelspec": {
      "name": "python3",
      "display_name": "Python 3"
    }
  },
  "cells": [
    {
      "cell_type": "markdown",
      "metadata": {
        "id": "view-in-github",
        "colab_type": "text"
      },
      "source": [
        "<a href=\"https://colab.research.google.com/github/FacundoRo/GeoLife/blob/master/GeoLife_MapBox_FacundoRo.ipynb\" target=\"_parent\"><img src=\"https://colab.research.google.com/assets/colab-badge.svg\" alt=\"Open In Colab\"/></a>"
      ]
    },
    {
      "cell_type": "code",
      "metadata": {
        "id": "l5GjCY9vudcN",
        "colab_type": "code",
        "colab": {}
      },
      "source": [
        "token = \"sk.eyJ1IjoiZmFjdW5kb3JvIiwiYSI6ImNrYzJsc2EyazAydWUyd2tnanZ3NXB1YW8ifQ.gKCUgLsIa_7mVzIYQmnnhw\""
      ],
      "execution_count": null,
      "outputs": []
    },
    {
      "cell_type": "markdown",
      "metadata": {
        "id": "Ksn1YyLoufHs",
        "colab_type": "text"
      },
      "source": [
        "## List datasets"
      ]
    },
    {
      "cell_type": "code",
      "metadata": {
        "id": "f2sWJ6VMr4MQ",
        "colab_type": "code",
        "colab": {
          "base_uri": "https://localhost:8080/",
          "height": 54
        },
        "outputId": "769f48bb-45e3-4d75-f2f0-8e3bdfed232f"
      },
      "source": [
        "!curl https://api.mapbox.com/datasets/v1/facundoro?access_token=sk.eyJ1IjoiZmFjdW5kb3JvIiwiYSI6ImNrYzJsc2EyazAydWUyd2tnanZ3NXB1YW8ifQ.gKCUgLsIa_7mVzIYQmnnhw\n",
        "#This endpoint requires a token with datasets:list scope.\n"
      ],
      "execution_count": null,
      "outputs": [
        {
          "output_type": "stream",
          "text": [
            "[{\"owner\":\"facundoro\",\"id\":\"ckc2koin2015d24nx4wcqsr20\",\"name\":\"geo_007\",\"description\":null,\"created\":\"2020-06-30T23:38:58.821Z\",\"modified\":\"2020-06-30T23:39:02.844Z\",\"features\":96,\"size\":10176,\"bounds\":[116.334456,39.976211,116.343143,39.982674]}]"
          ],
          "name": "stdout"
        }
      ]
    },
    {
      "cell_type": "markdown",
      "metadata": {
        "id": "owpFRwybwF_k",
        "colab_type": "text"
      },
      "source": [
        "## Retrieve datasets"
      ]
    },
    {
      "cell_type": "code",
      "metadata": {
        "id": "JozqK2xMsUKc",
        "colab_type": "code",
        "colab": {
          "base_uri": "https://localhost:8080/",
          "height": 54
        },
        "outputId": "af929178-00fb-49f6-9065-79fbf1148bad"
      },
      "source": [
        "!curl https://api.mapbox.com/datasets/v1/facundoro/ckc2koin2015d24nx4wcqsr20?access_token=sk.eyJ1IjoiZmFjdW5kb3JvIiwiYSI6ImNrYzJsc2EyazAydWUyd2tnanZ3NXB1YW8ifQ.gKCUgLsIa_7mVzIYQmnnhw\n",
        "#id ckc2koin2015d24nx4wcqsr20"
      ],
      "execution_count": null,
      "outputs": [
        {
          "output_type": "stream",
          "text": [
            "{\"owner\":\"facundoro\",\"id\":\"ckc2koin2015d24nx4wcqsr20\",\"name\":\"geo_007\",\"description\":null,\"created\":\"2020-06-30T23:38:58.821Z\",\"modified\":\"2020-06-30T23:39:02.844Z\",\"features\":96,\"size\":10176,\"bounds\":[116.334456,39.976211,116.343143,39.982674]}"
          ],
          "name": "stdout"
        }
      ]
    },
    {
      "cell_type": "markdown",
      "metadata": {
        "id": "U5A1XpqpwGmD",
        "colab_type": "text"
      },
      "source": [
        "## Retrieve features"
      ]
    },
    {
      "cell_type": "code",
      "metadata": {
        "id": "hqJ7t2OPurRi",
        "colab_type": "code",
        "colab": {
          "base_uri": "https://localhost:8080/",
          "height": 54
        },
        "outputId": "76f5d604-263c-429d-d42a-4c2d99969d2f"
      },
      "source": [
        "!curl https://api.mapbox.com/datasets/v1/facundoro/ckc2koin2015d24nx4wcqsr20/features?access_token=sk.eyJ1IjoiZmFjdW5kb3JvIiwiYSI6ImNrYzJsc2EyazAydWUyd2tnanZ3NXB1YW8ifQ.gKCUgLsIa_7mVzIYQmnnhw\n",
        "#id ckc2koin2015d24nx4wcqsr20"
      ],
      "execution_count": null,
      "outputs": [
        {
          "output_type": "stream",
          "text": [
            "{\"type\":\"FeatureCollection\",\"features\":[{\"type\":\"Feature\",\"properties\":{\"altitude\":\"214\",\"date\":\"2008-10-28 16:26:37\"},\"geometry\":{\"coordinates\":[116.339044,39.976379],\"type\":\"Point\"},\"id\":\"030774ded561225f86efa00fb1e5568b\"},{\"type\":\"Feature\",\"properties\":{\"altitude\":\"204\",\"date\":\"2008-10-28 16:26:27\"},\"geometry\":{\"coordinates\":[116.339033,39.976599],\"type\":\"Point\"},\"id\":\"0547c83d7085361f028b4c94b00ab464\"},{\"type\":\"Feature\",\"properties\":{\"altitude\":\"380\",\"date\":\"2008-10-28 16:23:42\"},\"geometry\":{\"coordinates\":[116.338848,39.978037],\"type\":\"Point\"},\"id\":\"05c8838493d06745843de13b626faeb5\"},{\"type\":\"Feature\",\"properties\":{\"altitude\":\"213\",\"date\":\"2008-10-28 16:26:47\"},\"geometry\":{\"coordinates\":[116.339231,39.976514],\"type\":\"Point\"},\"id\":\"08884dbab690f22f6e8287f0cb8e0ce6\"},{\"type\":\"Feature\",\"properties\":{\"altitude\":\"262\",\"date\":\"2008-10-28 16:25:17\"},\"geometry\":{\"coordinates\":[116.339539,39.977014],\"type\":\"Point\"},\"id\":\"0a0adc199cf5b8697649ab6fd767054f\"},{\"type\":\"Feature\",\"properties\":{\"altitude\":\"175\",\"date\":\"2008-10-28 16:21:27\"},\"geometry\":{\"coordinates\":[116.342358,39.981971],\"type\":\"Point\"},\"id\":\"0cae100a6c21b53e80692177bc117f97\"},{\"type\":\"Feature\",\"properties\":{\"altitude\":\"356\",\"date\":\"2008-10-28 16:20:32\"},\"geometry\":{\"coordinates\":[116.339821,39.980808],\"type\":\"Point\"},\"id\":\"0d0f46623fa3f2c841f184f437418e62\"},{\"type\":\"Feature\",\"properties\":{\"altitude\":\"138\",\"date\":\"2008-10-28 16:22:17\"},\"geometry\":{\"coordinates\":[116.340699,39.980473],\"type\":\"Point\"},\"id\":\"0dcdc7d5d300f20f02cda43999d440ac\"},{\"type\":\"Feature\",\"properties\":{\"altitude\":\"215\",\"date\":\"2008-10-28 16:26:32\"},\"geometry\":{\"coordinates\":[116.338924,39.976374],\"type\":\"Point\"},\"id\":\"0e1a880f966cfa4be93cd1bf8a3620a4\"},{\"type\":\"Feature\",\"properties\":{\"altitude\":\"270\",\"date\":\"2008-10-28 16:25:12\"},\"geometry\":{\"coordinates\":[116.339542,39.977082],\"type\":\"Point\"},\"id\":\"0e3ac8223982677bb2e9216523d9908d\"},{\"type\":\"Feature\",\"properties\":{\"altitude\":\"303\",\"date\":\"2008-10-28 16:23:22\"},\"geometry\":{\"coordinates\":[116.334456,39.976211],\"type\":\"Point\"},\"id\":\"0f02daa5fb84bb0bab1fcffafe527fb3\"},{\"type\":\"Feature\",\"properties\":{\"altitude\":\"365\",\"date\":\"2008-10-28 16:20:17\"},\"geometry\":{\"coordinates\":[116.338892,39.980166],\"type\":\"Point\"},\"id\":\"0f897b54cc4bae1b70720a6e2ec0555d\"},{\"type\":\"Feature\",\"properties\":{\"altitude\":\"338\",\"date\":\"2008-10-28 16:20:07\"},\"geometry\":{\"coordinates\":[116.339161,39.980274],\"type\":\"Point\"},\"id\":\"1086ed6a2518b43054f352ffaa07e527\"},{\"type\":\"Feature\",\"properties\":{\"altitude\":\"260\",\"date\":\"2008-10-28 16:25:07\"},\"geometry\":{\"coordinates\":[116.339567,39.97715],\"type\":\"Point\"},\"id\":\"13db507b6151642dc678405e2d5fd4ba\"},{\"type\":\"Feature\",\"properties\":{\"altitude\":\"210\",\"date\":\"2008-10-28 16:24:12\"},\"geometry\":{\"coordinates\":[116.339352,39.978058],\"type\":\"Point\"},\"id\":\"170eb2bb476aa39679c58928864e4af3\"},{\"type\":\"Feature\",\"properties\":{\"altitude\":\"222\",\"date\":\"2008-10-28 16:24:37\"},\"geometry\":{\"coordinates\":[116.339485,39.977598],\"type\":\"Point\"},\"id\":\"1867eaf241d0f8288c59441f2d5aaf2c\"},{\"type\":\"Feature\",\"properties\":{\"altitude\":\"118\",\"date\":\"2008-10-28 16:21:47\"},\"geometry\":{\"coordinates\":[116.342065,39.981575],\"type\":\"Point\"},\"id\":\"225e6d9faf28202584e7319583f52ee2\"},{\"type\":\"Feature\",\"properties\":{\"altitude\":\"221\",\"date\":\"2008-10-28 16:24:22\"},\"geometry\":{\"coordinates\":[116.339432,39.97786],\"type\":\"Point\"},\"id\":\"2b4ec88117d80a8bed748f40640f8fad\"},{\"type\":\"Feature\",\"properties\":{\"altitude\":\"233\",\"date\":\"2008-10-28 16:25:57\"},\"geometry\":{\"coordinates\":[116.33919,39.976517],\"type\":\"Point\"},\"id\":\"32f33a1e7059b3145a43117c7d315b1d\"},{\"type\":\"Feature\",\"properties\":{\"altitude\":\"261\",\"date\":\"2008-10-28 16:25:22\"},\"geometry\":{\"coordinates\":[116.339542,39.976936],\"type\":\"Point\"},\"id\":\"35dbf48a8b386121dcd3ea7654db87a6\"},{\"type\":\"Feature\",\"properties\":{\"altitude\":\"155\",\"date\":\"2008-10-28 16:21:32\"},\"geometry\":{\"coordinates\":[116.342128,39.981857],\"type\":\"Point\"},\"id\":\"374224b2c7174a46b904307c85df430a\"},{\"type\":\"Feature\",\"properties\":{\"altitude\":\"127\",\"date\":\"2008-10-28 16:22:12\"},\"geometry\":{\"coordinates\":[116.340887,39.980694],\"type\":\"Point\"},\"id\":\"3f6bf4d0de13f7e193f36935c647d0b3\"},{\"type\":\"Feature\",\"properties\":{\"altitude\":\"247\",\"date\":\"2008-10-28 16:22:57\"},\"geometry\":{\"coordinates\":[116.337899,39.978292],\"type\":\"Point\"},\"id\":\"4182d664f69a436ec96a2d26a8f4d581\"},{\"type\":\"Feature\",\"properties\":{\"altitude\":\"366\",\"date\":\"2008-10-28 16:20:27\"},\"geometry\":{\"coordinates\":[116.339188,39.980391],\"type\":\"Point\"},\"id\":\"457f26dd191adc327ba528536ef4ffb8\"},{\"type\":\"Feature\",\"properties\":{\"altitude\":\"314\",\"date\":\"2008-10-28 16:20:02\"},\"geometry\":{\"coordinates\":[116.339276,39.980373],\"type\":\"Point\"},\"id\":\"45e706e6434661b0d1e877a879e993aa\"},{\"type\":\"Feature\",\"properties\":{\"altitude\":\"287\",\"date\":\"2008-10-28 16:20:52\"},\"geometry\":{\"coordinates\":[116.342973,39.982674],\"type\":\"Point\"},\"id\":\"475d6a34b8746ced700572b4f3b2d707\"},{\"type\":\"Feature\",\"properties\":{\"altitude\":\"352\",\"date\":\"2008-10-28 16:20:12\"},\"geometry\":{\"coordinates\":[116.33895,39.980193],\"type\":\"Point\"},\"id\":\"48e927db5c3a9093550839b0d0caf3bb\"},{\"type\":\"Feature\",\"properties\":{\"altitude\":\"271\",\"date\":\"2008-10-28 16:23:07\"},\"geometry\":{\"coordinates\":[116.336378,39.977345],\"type\":\"Point\"},\"id\":\"4a5b7e64f40a2d0789dbdc9ed568095f\"},{\"type\":\"Feature\",\"properties\":{\"altitude\":\"175\",\"date\":\"2008-10-28 16:27:27\"},\"geometry\":{\"coordinates\":[116.338796,39.976489],\"type\":\"Point\"},\"id\":\"4f3fb87dbafe464185f371943f2056bb\"},{\"type\":\"Feature\",\"properties\":{\"altitude\":\"309\",\"date\":\"2008-10-28 16:19:57\"},\"geometry\":{\"coordinates\":[116.339364,39.980456],\"type\":\"Point\"},\"id\":\"504c2eaa02488ec7f9067dc63e4ec795\"},{\"type\":\"Feature\",\"properties\":{\"altitude\":\"231\",\"date\":\"2008-10-28 16:24:47\"},\"geometry\":{\"coordinates\":[116.339489,39.977452],\"type\":\"Point\"},\"id\":\"5094d0209dedad1d2b39adc8a77c46a0\"},{\"type\":\"Feature\",\"properties\":{\"altitude\":\"256\",\"date\":\"2008-10-28 16:25:37\"},\"geometry\":{\"coordinates\":[116.339421,39.976826],\"type\":\"Point\"},\"id\":\"510b24dc62a1f3ee55876ebf54968d2a\"},{\"type\":\"Feature\",\"properties\":{\"altitude\":\"250\",\"date\":\"2008-10-28 16:25:42\"},\"geometry\":{\"coordinates\":[116.339332,39.976729],\"type\":\"Point\"},\"id\":\"516128928fb28a02d0b6d96343dd0c5a\"},{\"type\":\"Feature\",\"properties\":{\"altitude\":\"238\",\"date\":\"2008-10-28 16:25:52\"},\"geometry\":{\"coordinates\":[116.339238,39.976576],\"type\":\"Point\"},\"id\":\"533480c02cabd6f3120af1d82ed44368\"},{\"type\":\"Feature\",\"properties\":{\"altitude\":\"343\",\"date\":\"2008-10-28 16:20:37\"},\"geometry\":{\"coordinates\":[116.340634,39.981344],\"type\":\"Point\"},\"id\":\"550bca69cec81cb87517b5f165fa4e53\"},{\"type\":\"Feature\",\"properties\":{\"altitude\":\"233\",\"date\":\"2008-10-28 16:24:52\"},\"geometry\":{\"coordinates\":[116.339525,39.977375],\"type\":\"Point\"},\"id\":\"57439a2f23dca8509255c63f2aa15a3b\"},{\"type\":\"Feature\",\"properties\":{\"altitude\":\"114\",\"date\":\"2008-10-28 16:21:52\"},\"geometry\":{\"coordinates\":[116.34214,39.981504],\"type\":\"Point\"},\"id\":\"5768e4e58550e66fe31732860a3e1b77\"},{\"type\":\"Feature\",\"properties\":{\"altitude\":\"242\",\"date\":\"2008-10-28 16:25:47\"},\"geometry\":{\"coordinates\":[116.339294,39.976653],\"type\":\"Point\"},\"id\":\"57846fee1c2103cefeeb4d07d0e3f33c\"},{\"type\":\"Feature\",\"properties\":{\"altitude\":\"228\",\"date\":\"2008-10-28 16:26:07\"},\"geometry\":{\"coordinates\":[116.339033,39.976493],\"type\":\"Point\"},\"id\":\"5e910d81b56a463caa71d25fc604b976\"},{\"type\":\"Feature\",\"properties\":{\"altitude\":\"253\",\"date\":\"2008-10-28 16:25:32\"},\"geometry\":{\"coordinates\":[116.339484,39.976893],\"type\":\"Point\"},\"id\":\"659abe71f061c79151ad243430031d04\"},{\"type\":\"Feature\",\"properties\":{\"altitude\":\"255\",\"date\":\"2008-10-28 16:25:27\"},\"geometry\":{\"coordinates\":[116.339526,39.976909],\"type\":\"Point\"},\"id\":\"666c8e71948c6fa94a584b7c67567975\"},{\"type\":\"Feature\",\"properties\":{\"altitude\":\"223\",\"date\":\"2008-10-28 16:21:07\"},\"geometry\":{\"coordinates\":[116.342944,39.982255],\"type\":\"Point\"},\"id\":\"6916d0e39a8098c5d7321a718b49e562\"},{\"type\":\"Feature\",\"properties\":{\"altitude\":\"187\",\"date\":\"2008-10-28 16:22:37\"},\"geometry\":{\"coordinates\":[116.337262,39.978296],\"type\":\"Point\"},\"id\":\"6cde9a57a7ed05e3daf8c245ef87f16b\"},{\"type\":\"Feature\",\"properties\":{\"altitude\":\"224\",\"date\":\"2008-10-28 16:26:17\"},\"geometry\":{\"coordinates\":[116.338917,39.976566],\"type\":\"Point\"},\"id\":\"6dfb51cf4788570eace5de9919a63b68\"},{\"type\":\"Feature\",\"properties\":{\"altitude\":\"176\",\"date\":\"2008-10-28 16:27:22\"},\"geometry\":{\"coordinates\":[116.338805,39.976471],\"type\":\"Point\"},\"id\":\"6e0441940a1bb7197249dc8ef6806f00\"},{\"type\":\"Feature\",\"properties\":{\"altitude\":\"263\",\"date\":\"2008-10-28 16:20:57\"},\"geometry\":{\"coordinates\":[116.343143,39.982616],\"type\":\"Point\"},\"id\":\"6fa6029a74aa884f2cd16a03d31777a9\"},{\"type\":\"Feature\",\"properties\":{\"altitude\":\"310\",\"date\":\"2008-10-28 16:19:55\"},\"geometry\":{\"coordinates\":[116.339366,39.980456],\"type\":\"Point\"},\"id\":\"7099371287d384e07718e203e92a8842\"},{\"type\":\"Feature\",\"properties\":{\"altitude\":\"227\",\"date\":\"2008-10-28 16:26:12\"},\"geometry\":{\"coordinates\":[116.338965,39.976509],\"type\":\"Point\"},\"id\":\"73960022bf1a8711a79537c44f6a67fc\"},{\"type\":\"Feature\",\"properties\":{\"altitude\":\"180\",\"date\":\"2008-10-28 16:27:17\"},\"geometry\":{\"coordinates\":[116.338818,39.976506],\"type\":\"Point\"},\"id\":\"7429c02e129db0839ee2deee0b2442b0\"},{\"type\":\"Feature\",\"properties\":{\"altitude\":\"215\",\"date\":\"2008-10-28 16:26:22\"},\"geometry\":{\"coordinates\":[116.338946,39.976617],\"type\":\"Point\"},\"id\":\"7865afdaa04c090b58f7d6ebb3c469cb\"},{\"type\":\"Feature\",\"properties\":{\"altitude\":\"106\",\"date\":\"2008-10-28 16:21:57\"},\"geometry\":{\"coordinates\":[116.342058,39.981352],\"type\":\"Point\"},\"id\":\"7e860fcded6b0212094976c325a39eb2\"},{\"type\":\"Feature\",\"properties\":{\"altitude\":\"310\",\"date\":\"2008-10-28 16:19:52\"},\"geometry\":{\"coordinates\":[116.339366,39.980456],\"type\":\"Point\"},\"id\":\"7f2f45b783bcf37692598f1fee694816\"},{\"type\":\"Feature\",\"properties\":{\"altitude\":\"225\",\"date\":\"2008-10-28 16:24:42\"},\"geometry\":{\"coordinates\":[116.33948,39.977523],\"type\":\"Point\"},\"id\":\"85a6e3d39560c15fb594a36c88a2a8e7\"},{\"type\":\"Feature\",\"properties\":{\"altitude\":\"282\",\"date\":\"2008-10-28 16:23:12\"},\"geometry\":{\"coordinates\":[116.33544,39.976771],\"type\":\"Point\"},\"id\":\"895cef6d7df39d0da579192358f4ed66\"},{\"type\":\"Feature\",\"properties\":{\"altitude\":\"223\",\"date\":\"2008-10-28 16:24:27\"},\"geometry\":{\"coordinates\":[116.33945,39.977764],\"type\":\"Point\"},\"id\":\"898b5f4d9d82a440188df838718f85a4\"},{\"type\":\"Feature\",\"properties\":{\"altitude\":\"254\",\"date\":\"2008-10-28 16:23:57\"},\"geometry\":{\"coordinates\":[116.339164,39.978004],\"type\":\"Point\"},\"id\":\"8996c2d3d1ad86b543ad4edef041bc0a\"},{\"type\":\"Feature\",\"properties\":{\"altitude\":\"159\",\"date\":\"2008-10-28 16:22:27\"},\"geometry\":{\"coordinates\":[116.339558,39.979697],\"type\":\"Point\"},\"id\":\"8c22690ab9b617c9c2f47a5a12f09be7\"},{\"type\":\"Feature\",\"properties\":{\"altitude\":\"149\",\"date\":\"2008-10-28 16:22:22\"},\"geometry\":{\"coordinates\":[116.340453,39.980238],\"type\":\"Point\"},\"id\":\"8ddc5995548d2e5678d0219861a5320d\"},{\"type\":\"Feature\",\"properties\":{\"altitude\":\"141\",\"date\":\"2008-10-28 16:21:37\"},\"geometry\":{\"coordinates\":[116.341881,39.981738],\"type\":\"Point\"},\"id\":\"8e672f9a0b52864d9811588132818b2b\"},{\"type\":\"Feature\",\"properties\":{\"altitude\":\"237\",\"date\":\"2008-10-28 16:24:57\"},\"geometry\":{\"coordinates\":[116.339528,39.977329],\"type\":\"Point\"},\"id\":\"8e7b988f32e5764f72e133a338f069e1\"},{\"type\":\"Feature\",\"properties\":{\"altitude\":\"188\",\"date\":\"2008-10-28 16:21:17\"},\"geometry\":{\"coordinates\":[116.342723,39.982061],\"type\":\"Point\"},\"id\":\"90513724c94ffe10b43d4b73635b64dd\"},{\"type\":\"Feature\",\"properties\":{\"altitude\":\"315\",\"date\":\"2008-10-28 16:19:42\"},\"geometry\":{\"coordinates\":[116.339357,39.980437],\"type\":\"Point\"},\"id\":\"9f2db6da6f5fd22d6ee554581b219e89\"},{\"type\":\"Feature\",\"properties\":{\"altitude\":\"125\",\"date\":\"2008-10-28 16:21:42\"},\"geometry\":{\"coordinates\":[116.341719,39.981631],\"type\":\"Point\"},\"id\":\"9fbc4cc1aa8600166442e343cf1d28b6\"},{\"type\":\"Feature\",\"properties\":{\"altitude\":\"236\",\"date\":\"2008-10-28 16:22:52\"},\"geometry\":{\"coordinates\":[116.338441,39.978705],\"type\":\"Point\"},\"id\":\"a01b23dd3eb9402b454997c12867305f\"},{\"type\":\"Feature\",\"properties\":{\"altitude\":\"173\",\"date\":\"2008-10-28 16:22:32\"},\"geometry\":{\"coordinates\":[116.338376,39.978985],\"type\":\"Point\"},\"id\":\"a3ec54aa4b610b72e63f54b371843c37\"},{\"type\":\"Feature\",\"properties\":{\"altitude\":\"257\",\"date\":\"2008-10-28 16:23:02\"},\"geometry\":{\"coordinates\":[116.337173,39.977839],\"type\":\"Point\"},\"id\":\"aa6ef98aa8a4ad45666d206814d9a898\"},{\"type\":\"Feature\",\"properties\":{\"altitude\":\"110\",\"date\":\"2008-10-28 16:22:07\"},\"geometry\":{\"coordinates\":[116.341364,39.981049],\"type\":\"Point\"},\"id\":\"ac3b219e7114e02697b25b4cc48bb058\"},{\"type\":\"Feature\",\"properties\":{\"altitude\":\"200\",\"date\":\"2008-10-28 16:22:42\"},\"geometry\":{\"coordinates\":[116.338343,39.978781],\"type\":\"Point\"},\"id\":\"acf7eb4939fbe4e52cc70154e8b66f20\"},{\"type\":\"Feature\",\"properties\":{\"altitude\":\"249\",\"date\":\"2008-10-28 16:21:02\"},\"geometry\":{\"coordinates\":[116.342952,39.982488],\"type\":\"Point\"},\"id\":\"b02c04583c41f7a29cb44d7537e5067f\"},{\"type\":\"Feature\",\"properties\":{\"altitude\":\"312\",\"date\":\"2008-10-28 16:19:47\"},\"geometry\":{\"coordinates\":[116.339372,39.980455],\"type\":\"Point\"},\"id\":\"c00964f344aee65c031787465ccdf6af\"},{\"type\":\"Feature\",\"properties\":{\"altitude\":\"192\",\"date\":\"2008-10-28 16:27:07\"},\"geometry\":{\"coordinates\":[116.338964,39.976577],\"type\":\"Point\"},\"id\":\"c0a6df07947077071c828d06afd5595c\"},{\"type\":\"Feature\",\"properties\":{\"altitude\":\"220\",\"date\":\"2008-10-28 16:24:07\"},\"geometry\":{\"coordinates\":[116.339316,39.978207],\"type\":\"Point\"},\"id\":\"c26617de21f86f3b4b07b49a7fc3d885\"},{\"type\":\"Feature\",\"properties\":{\"altitude\":\"316\",\"date\":\"2008-10-28 16:19:37\"},\"geometry\":{\"coordinates\":[116.339339,39.980418],\"type\":\"Point\"},\"id\":\"c68f713ccccbe86c7b214b4c95b00768\"},{\"type\":\"Feature\",\"properties\":{\"altitude\":\"186\",\"date\":\"2008-10-28 16:27:12\"},\"geometry\":{\"coordinates\":[116.338879,39.976519],\"type\":\"Point\"},\"id\":\"c80953924996930f4db620db0a0d81c1\"},{\"type\":\"Feature\",\"properties\":{\"altitude\":\"313\",\"date\":\"2008-10-28 16:23:27\"},\"geometry\":{\"coordinates\":[116.334704,39.976262],\"type\":\"Point\"},\"id\":\"cab1d77482635f848632d1c50de57a92\"},{\"type\":\"Feature\",\"properties\":{\"altitude\":\"245\",\"date\":\"2008-10-28 16:25:02\"},\"geometry\":{\"coordinates\":[116.339538,39.977254],\"type\":\"Point\"},\"id\":\"cb65f249dfbfe73ca033a812851da757\"},{\"type\":\"Feature\",\"properties\":{\"altitude\":\"205\",\"date\":\"2008-10-28 16:21:12\"},\"geometry\":{\"coordinates\":[116.342916,39.982202],\"type\":\"Point\"},\"id\":\"d1a6784874d9c250d4f745f53e65467b\"},{\"type\":\"Feature\",\"properties\":{\"altitude\":\"325\",\"date\":\"2008-10-28 16:20:42\"},\"geometry\":{\"coordinates\":[116.341473,39.981869],\"type\":\"Point\"},\"id\":\"d2497b47252f780ab17cee9fa4dd2e49\"},{\"type\":\"Feature\",\"properties\":{\"altitude\":\"315\",\"date\":\"2008-10-28 16:23:47\"},\"geometry\":{\"coordinates\":[116.338921,39.978003],\"type\":\"Point\"},\"id\":\"d270810cd2251288cc505e628036d8cc\"},{\"type\":\"Feature\",\"properties\":{\"altitude\":\"365\",\"date\":\"2008-10-28 16:20:22\"},\"geometry\":{\"coordinates\":[116.338981,39.980229],\"type\":\"Point\"},\"id\":\"d89abe9a2a8b6493045ba9a42b5494ad\"},{\"type\":\"Feature\",\"properties\":{\"altitude\":\"287\",\"date\":\"2008-10-28 16:23:52\"},\"geometry\":{\"coordinates\":[116.339034,39.977931],\"type\":\"Point\"},\"id\":\"d93ac3580de2a7ae67cace8f7388187e\"},{\"type\":\"Feature\",\"properties\":{\"altitude\":\"213\",\"date\":\"2008-10-28 16:26:42\"},\"geometry\":{\"coordinates\":[116.339158,39.976449],\"type\":\"Point\"},\"id\":\"da81585be6549c277d25fd373b155c9e\"},{\"type\":\"Feature\",\"properties\":{\"altitude\":\"198\",\"date\":\"2008-10-28 16:27:02\"},\"geometry\":{\"coordinates\":[116.339046,39.976607],\"type\":\"Point\"},\"id\":\"de951046c3a9b03d61adc45aa7d69883\"},{\"type\":\"Feature\",\"properties\":{\"altitude\":\"174\",\"date\":\"2008-10-28 16:27:32\"},\"geometry\":{\"coordinates\":[116.338763,39.976598],\"type\":\"Point\"},\"id\":\"e59d74e19a56ef2ac47989aaa51e8d69\"},{\"type\":\"Feature\",\"properties\":{\"altitude\":\"225\",\"date\":\"2008-10-28 16:22:47\"},\"geometry\":{\"coordinates\":[116.338423,39.978776],\"type\":\"Point\"},\"id\":\"e63291ed9722e4d1592d57419e675fa7\"},{\"type\":\"Feature\",\"properties\":{\"altitude\":\"230\",\"date\":\"2008-10-28 16:26:02\"},\"geometry\":{\"coordinates\":[116.339144,39.976491],\"type\":\"Point\"},\"id\":\"e668e0dfd6ee5e3a59b0600d32b0c746\"},{\"type\":\"Feature\",\"properties\":{\"altitude\":\"102\",\"date\":\"2008-10-28 16:22:02\"},\"geometry\":{\"coordinates\":[116.341898,39.981263],\"type\":\"Point\"},\"id\":\"ee9b74cf2362e14cdd82460b16a75d74\"},{\"type\":\"Feature\",\"properties\":{\"altitude\":\"210\",\"date\":\"2008-10-28 16:26:52\"},\"geometry\":{\"coordinates\":[116.339162,39.976599],\"type\":\"Point\"},\"id\":\"eefdcd9913340bfb2afdd2844b478d27\"},{\"type\":\"Feature\",\"properties\":{\"altitude\":\"303\",\"date\":\"2008-10-28 16:20:47\"},\"geometry\":{\"coordinates\":[116.342234,39.982251],\"type\":\"Point\"},\"id\":\"ef5339f9686f60150e241c0819368530\"},{\"type\":\"Feature\",\"properties\":{\"altitude\":\"180\",\"date\":\"2008-10-28 16:21:22\"},\"geometry\":{\"coordinates\":[116.342572,39.982053],\"type\":\"Point\"},\"id\":\"f0eedc40d1e771613ca1cf9be0299a53\"},{\"type\":\"Feature\",\"properties\":{\"altitude\":\"205\",\"date\":\"2008-10-28 16:26:57\"},\"geometry\":{\"coordinates\":[116.339082,39.9766],\"type\":\"Point\"},\"id\":\"f0f4c502f6f2a6de6db71bc53f23ba78\"},{\"type\":\"Feature\",\"properties\":{\"altitude\":\"293\",\"date\":\"2008-10-28 16:23:17\"},\"geometry\":{\"coordinates\":[116.334578,39.976297],\"type\":\"Point\"},\"id\":\"f445f6e19135699348c7bf97d9c4b57a\"},{\"type\":\"Feature\",\"properties\":{\"altitude\":\"240\",\"date\":\"2008-10-28 16:24:02\"},\"geometry\":{\"coordinates\":[116.33925,39.9782],\"type\":\"Point\"},\"id\":\"f57ea7350fbebfe0438cec7308e2c39f\"},{\"type\":\"Feature\",\"properties\":{\"altitude\":\"325\",\"date\":\"2008-10-28 16:23:32\"},\"geometry\":{\"coordinates\":[116.335137,39.976388],\"type\":\"Point\"},\"id\":\"fd4cf206c75ebce957443add40dfd8ef\"},{\"type\":\"Feature\",\"properties\":{\"altitude\":\"217\",\"date\":\"2008-10-28 16:24:17\"},\"geometry\":{\"coordinates\":[116.33943,39.977975],\"type\":\"Point\"},\"id\":\"fe31e14b0d84abb9fd7de72ee6436506\"},{\"type\":\"Feature\",\"properties\":{\"altitude\":\"224\",\"date\":\"2008-10-28 16:24:32\"},\"geometry\":{\"coordinates\":[116.339469,39.97768],\"type\":\"Point\"},\"id\":\"ffc37427708231684c10f11c140ef422\"}]}"
          ],
          "name": "stdout"
        }
      ]
    },
    {
      "cell_type": "code",
      "metadata": {
        "id": "MOmJck9owSJM",
        "colab_type": "code",
        "colab": {}
      },
      "source": [
        ""
      ],
      "execution_count": null,
      "outputs": []
    }
  ]
}