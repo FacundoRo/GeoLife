{
 "cells": [
  {
   "cell_type": "markdown",
   "metadata": {},
   "source": [
    "# **GeolifePrj_01_df2gjson.ipynb**\n",
    "## Convierte los DataFrames creados en **GeolifePrj_00_plt2df** (archivos geolife_xxx.zip) a archivos GeoJson simplificados:\n",
    "## **geolife_xxx_simpl.geojson** (puntos gps=(lat,lon) y su date=\"fecha/hora\" respectiva)\n",
    "## **geolife_xxx_lines.geojson** (una linea por trayectoria)\n",
    "## **geolife_xxx_linesimpl.geojson** (lineas despues de simplificar la data)\n"
   ]
  },
  {
   "cell_type": "code",
   "execution_count": 8,
   "metadata": {},
   "outputs": [],
   "source": [
    "import geopandas\n",
    "import numpy as np\n",
    "import pandas as pd\n",
    "#from shapely.geometry import Point\n",
    "from geojson import  Point,Feature, FeatureCollection, dumps\n",
    "\n",
    "import csv, json\n",
    "\n",
    "import seaborn as sns\n",
    "\n",
    "from shapely.geometry import LineString\n",
    "from shapely.geometry import Point\n",
    "\n",
    "from dateutil.parser import parse as parsedt"
   ]
  },
  {
   "cell_type": "markdown",
   "metadata": {},
   "source": [
    "### def **plt2geojson(...):** Convierte archivo original plt a geojson\n",
    "### def **simplecsv2geojson(...)** Convierte un archivo **geolife_xxx_simpl.csv** generado por la funcion **crea_csv_simpl():** a un archivo geojson"
   ]
  },
  {
   "cell_type": "code",
   "execution_count": 9,
   "metadata": {},
   "outputs": [],
   "source": [
    "def plt2geojson(from_plt_file,to_geojson_file):\n",
    "    features = []\n",
    "    with open(from_plt_file, newline='') as csvfile:\n",
    "        reader = csv.reader(csvfile, delimiter=',')\n",
    "        for _ in range(6): next(reader)\n",
    "        for latitude,longitude,empty,altitude,days,date,time in reader:\n",
    "            latitude, longitude = map(float, (latitude, longitude))\n",
    "            features.append(\n",
    "                Feature(\n",
    "                    geometry = Point((longitude, latitude)),\n",
    "                    properties = {\n",
    "                        'altitude': altitude,\n",
    "                        'date': f\"{date} {time}\"\n",
    "                    }\n",
    "                )\n",
    "            )\n",
    "\n",
    "    collection = FeatureCollection(features)\n",
    "    with open(to_geojson_file, \"w\") as f:\n",
    "        f.write(f\"{collection}\")\n",
    "        \n",
    "def simplecsv2geojson(from_csv_file,to_geojson_file):\n",
    "    features = []\n",
    "    with open(from_csv_file, newline='') as csvfile:\n",
    "        reader = csv.reader(csvfile, delimiter=',')\n",
    "        next(reader)\n",
    "        for date,latitude,longitude,label in reader:\n",
    "            latitude, longitude = map(float, (latitude, longitude))\n",
    "            features.append(\n",
    "                Feature(\n",
    "                    geometry = Point((longitude, latitude)),\n",
    "                    properties = {\n",
    "                        'date': f\"{date}\",\n",
    "                        'label': f\"{label}\"\n",
    "                    }\n",
    "                )\n",
    "            )\n",
    "\n",
    "    collection = FeatureCollection(features)\n",
    "    with open(to_geojson_file, \"w\") as f:\n",
    "        f.write(f\"{collection}\")"
   ]
  },
  {
   "cell_type": "markdown",
   "metadata": {},
   "source": [
    "### def **df2geojson(...)** genera desde **geolife_xxx.zip** un archivo **geolife_xxx.geojson** (TODA LA DATA)"
   ]
  },
  {
   "cell_type": "code",
   "execution_count": 10,
   "metadata": {},
   "outputs": [],
   "source": [
    "def df2geojson(df,to_geojson_file):\n",
    "    df=df.astype(str)\n",
    "    lat = df['lat']\n",
    "    lng = df['lon']\n",
    "    #df = df.drop(columns=['lat', 'lon'])\n",
    "    df = df.drop(columns=['lat', 'lon','user'])    \n",
    "    \n",
    "    feat_list = []\n",
    "    failed = []\n",
    "    for i in range(0, len(df.index)):\n",
    "        props = dict(df.iloc[i])\n",
    "        try:\n",
    "            f = Feature(geometry=Point((float(lng.iloc[i]),float(lat.iloc[i]))),\n",
    "                       properties = props)\n",
    "            feat_list.append(f)\n",
    "        except Exception as ex:\n",
    "            print(\"Exception:\",ex)\n",
    "        \n",
    "    collection = FeatureCollection(feat_list)\n",
    "    with open(to_geojson_file, \"w\") as f:\n",
    "        f.write(f\"{collection}\")"
   ]
  },
  {
   "cell_type": "markdown",
   "metadata": {},
   "source": [
    "## def **crea_simpl_csv(**xxx**):** genera una version simplificada del DataFrame almacenado en **geolife_xxx.zip** y lo guarda como **geolife_xxx_simpl.csv**\n",
    "### Simplificaciones:\n",
    "### - *Guarda solo 5 digitos decimales para latitude y longitude*\n",
    "### - *Bota la columna 'user' y 'altitude'*\n",
    "### - *Guarda solo maximo UNA coordena gps por minuto (si hay mas de un punto gps por minuto desecha los sobrantes)*"
   ]
  },
  {
   "cell_type": "code",
   "execution_count": 14,
   "metadata": {},
   "outputs": [
    {
     "name": "stdout",
     "output_type": "stream",
     "text": [
      "Wall time: 0 ns\n"
     ]
    }
   ],
   "source": [
    "%%time\n",
    "#creamos una version simplificada en csv\n",
    "def crea_simpl_csv(xxx):\n",
    "    usrdf = pd.read_pickle(f'geolife_{xxx:03d}.zip')\n",
    "    usrdf.columns=['date','latitude','longitude','altitude','label','user']\n",
    "    #dejamos 5 digitos de precision, que equivale a una resolucion de 8m^2 en el mapa. Explicacion: https://planspace.org/20180719-geolocation_precision_by_digit/\n",
    "    usrdf['latitude']=usrdf['latitude'].apply(lambda x:f\"{x:.5f}\")\n",
    "    usrdf['longitude']=usrdf['longitude'].apply(lambda x:f\"{x:.5f}\")\n",
    "    usrdf.drop(columns=['user','altitude'],inplace=True)\n",
    "    usrdf=usrdf.astype(str)\n",
    "    #elimina los segundos y luego los repetidos, con lo que solo nos quedamos con una resolucion de \n",
    "    #un punto gps por minutos:\n",
    "    usrdf['date']=usrdf['date'].apply(lambda x:x[:-3]+':00')\n",
    "    usrdf = usrdf.drop_duplicates(subset='date', keep='first')\n",
    "    usrdf.to_csv(f\"geolife_{xxx:03d}_simpl.csv\", index=False)\n"
   ]
  },
  {
   "cell_type": "markdown",
   "metadata": {},
   "source": [
    "#### Creamos los CSV simplificados"
   ]
  },
  {
   "cell_type": "code",
   "execution_count": null,
   "metadata": {},
   "outputs": [],
   "source": [
    "for xxx in range(0,182):\n",
    "    crea_simpl_csv(xxx)    \n",
    "    ## Muestra avance ;) [########>-------------------------------------] \n",
    "    print(\"[\"+\"#\"*int(100*(1+xxx)/182)+\">\"+\"-\"*int(100*(181-xxx)/181)+\"]\"+f\" {xxx:03d}/182\",end=\"\\r\")"
   ]
  },
  {
   "cell_type": "markdown",
   "metadata": {},
   "source": [
    "#### Generamos **geolife_xxx_simpl.geojson** a partir de **geolife_xxx_simple.csv**"
   ]
  },
  {
   "cell_type": "code",
   "execution_count": 7,
   "metadata": {},
   "outputs": [
    {
     "name": "stdout",
     "output_type": "stream",
     "text": [
      "Wall time: 24.7 s####################################################################################>] 181/182\n"
     ]
    }
   ],
   "source": [
    "%%time\n",
    "#creamos una version simplificada en geojson\n",
    "for usuario_num in range(0,182):\n",
    "    simplecsv2geojson(f\"geolife_{usuario_num:03d}_simpl.csv\",f\"geolife_{usuario_num:03d}_simpl.geojson\")\n",
    "    ## Avance ;)\n",
    "    print(\"[\"+\"#\"*int(100*(1+usuario_num)/182)+\">\"+\"-\"*int(100*(181-usuario_num)/181)+\"]\"+f\" {usuario_num:03d}/182\",end=\"\\r\")"
   ]
  },
  {
   "cell_type": "markdown",
   "metadata": {},
   "source": [
    "## Ahora generamos\n",
    "## **geolife_xxx_lines.geojson** (una linea por trayectoria)\n",
    "## **geolife_xxx_linesimpl.geojson** (lineas despues de simplificar la data)"
   ]
  },
  {
   "cell_type": "code",
   "execution_count": 29,
   "metadata": {},
   "outputs": [
    {
     "name": "stdout",
     "output_type": "stream",
     "text": [
      "geolife_052_simpl.geojson  ->  geolife_052_lines.geojson\n"
     ]
    },
    {
     "data": {
      "text/html": [
       "<div>\n",
       "<style scoped>\n",
       "    .dataframe tbody tr th:only-of-type {\n",
       "        vertical-align: middle;\n",
       "    }\n",
       "\n",
       "    .dataframe tbody tr th {\n",
       "        vertical-align: top;\n",
       "    }\n",
       "\n",
       "    .dataframe thead th {\n",
       "        text-align: right;\n",
       "    }\n",
       "</style>\n",
       "<table border=\"1\" class=\"dataframe\">\n",
       "  <thead>\n",
       "    <tr style=\"text-align: right;\">\n",
       "      <th></th>\n",
       "      <th>date</th>\n",
       "      <th>label</th>\n",
       "      <th>geometry</th>\n",
       "    </tr>\n",
       "  </thead>\n",
       "  <tbody>\n",
       "    <tr>\n",
       "      <th>0</th>\n",
       "      <td>2008-01-16T07:36:00</td>\n",
       "      <td>0</td>\n",
       "      <td>POINT (116.25773 39.91637)</td>\n",
       "    </tr>\n",
       "    <tr>\n",
       "      <th>1</th>\n",
       "      <td>2008-01-16T07:37:00</td>\n",
       "      <td>0</td>\n",
       "      <td>POINT (116.25868 39.92080)</td>\n",
       "    </tr>\n",
       "    <tr>\n",
       "      <th>2</th>\n",
       "      <td>2008-01-16T07:39:00</td>\n",
       "      <td>0</td>\n",
       "      <td>POINT (116.26585 39.92275)</td>\n",
       "    </tr>\n",
       "    <tr>\n",
       "      <th>3</th>\n",
       "      <td>2008-01-16T07:40:00</td>\n",
       "      <td>0</td>\n",
       "      <td>POINT (116.26950 39.92432)</td>\n",
       "    </tr>\n",
       "    <tr>\n",
       "      <th>4</th>\n",
       "      <td>2008-01-16T07:42:00</td>\n",
       "      <td>0</td>\n",
       "      <td>POINT (116.26862 39.94303)</td>\n",
       "    </tr>\n",
       "    <tr>\n",
       "      <th>...</th>\n",
       "      <td>...</td>\n",
       "      <td>...</td>\n",
       "      <td>...</td>\n",
       "    </tr>\n",
       "    <tr>\n",
       "      <th>21992</th>\n",
       "      <td>2008-10-30T07:33:00</td>\n",
       "      <td>0</td>\n",
       "      <td>POINT (116.32586 39.97504)</td>\n",
       "    </tr>\n",
       "    <tr>\n",
       "      <th>21993</th>\n",
       "      <td>2008-10-30T07:34:00</td>\n",
       "      <td>0</td>\n",
       "      <td>POINT (116.32754 39.97511)</td>\n",
       "    </tr>\n",
       "    <tr>\n",
       "      <th>21994</th>\n",
       "      <td>2008-10-30T07:35:00</td>\n",
       "      <td>0</td>\n",
       "      <td>POINT (116.32909 39.97522)</td>\n",
       "    </tr>\n",
       "    <tr>\n",
       "      <th>21995</th>\n",
       "      <td>2008-10-30T07:36:00</td>\n",
       "      <td>0</td>\n",
       "      <td>POINT (116.33010 39.97530)</td>\n",
       "    </tr>\n",
       "    <tr>\n",
       "      <th>21996</th>\n",
       "      <td>2008-10-30T07:37:00</td>\n",
       "      <td>0</td>\n",
       "      <td>POINT (116.33086 39.97563)</td>\n",
       "    </tr>\n",
       "  </tbody>\n",
       "</table>\n",
       "<p>21997 rows × 3 columns</p>\n",
       "</div>"
      ],
      "text/plain": [
       "                      date label                    geometry\n",
       "0      2008-01-16T07:36:00     0  POINT (116.25773 39.91637)\n",
       "1      2008-01-16T07:37:00     0  POINT (116.25868 39.92080)\n",
       "2      2008-01-16T07:39:00     0  POINT (116.26585 39.92275)\n",
       "3      2008-01-16T07:40:00     0  POINT (116.26950 39.92432)\n",
       "4      2008-01-16T07:42:00     0  POINT (116.26862 39.94303)\n",
       "...                    ...   ...                         ...\n",
       "21992  2008-10-30T07:33:00     0  POINT (116.32586 39.97504)\n",
       "21993  2008-10-30T07:34:00     0  POINT (116.32754 39.97511)\n",
       "21994  2008-10-30T07:35:00     0  POINT (116.32909 39.97522)\n",
       "21995  2008-10-30T07:36:00     0  POINT (116.33010 39.97530)\n",
       "21996  2008-10-30T07:37:00     0  POINT (116.33086 39.97563)\n",
       "\n",
       "[21997 rows x 3 columns]"
      ]
     },
     "execution_count": 29,
     "metadata": {},
     "output_type": "execute_result"
    }
   ],
   "source": [
    "xxx=52\n",
    "archivo_gj=f\"geolife_{xxx:03d}_\"\n",
    "archivo_salida_gj = archivo_gj+\"lines.geojson\"\n",
    "archivo_gj=archivo_gj+\"simpl.geojson\"\n",
    "print(archivo_gj,\" -> \" ,archivo_salida_gj)\n",
    "gdf = geopandas.read_file(archivo_gj)\n",
    "gdf"
   ]
  },
  {
   "cell_type": "code",
   "execution_count": 28,
   "metadata": {},
   "outputs": [
    {
     "data": {
      "text/plain": [
       "str"
      ]
     },
     "execution_count": 28,
     "metadata": {},
     "output_type": "execute_result"
    }
   ],
   "source": [
    "for dia in list(gdf.date.str[:10].unique()):\n",
    "    gdf.loc[gdf.date.str[:10]]"
   ]
  },
  {
   "cell_type": "code",
   "execution_count": null,
   "metadata": {},
   "outputs": [],
   "source": [
    "gdf.geometry.iloc[10:100].to_list()"
   ]
  },
  {
   "cell_type": "code",
   "execution_count": 37,
   "metadata": {},
   "outputs": [],
   "source": [
    "list_dates=list(gdf.date.str[:10].unique())"
   ]
  },
  {
   "cell_type": "code",
   "execution_count": 43,
   "metadata": {},
   "outputs": [
    {
     "data": {
      "text/html": [
       "<div>\n",
       "<style scoped>\n",
       "    .dataframe tbody tr th:only-of-type {\n",
       "        vertical-align: middle;\n",
       "    }\n",
       "\n",
       "    .dataframe tbody tr th {\n",
       "        vertical-align: top;\n",
       "    }\n",
       "\n",
       "    .dataframe thead th {\n",
       "        text-align: right;\n",
       "    }\n",
       "</style>\n",
       "<table border=\"1\" class=\"dataframe\">\n",
       "  <thead>\n",
       "    <tr style=\"text-align: right;\">\n",
       "      <th></th>\n",
       "      <th>date</th>\n",
       "      <th>label</th>\n",
       "      <th>geometry</th>\n",
       "    </tr>\n",
       "  </thead>\n",
       "  <tbody>\n",
       "    <tr>\n",
       "      <th>9080</th>\n",
       "      <td>2008-07-01T08:38:00</td>\n",
       "      <td>0</td>\n",
       "      <td>POINT (116.24674 39.90606)</td>\n",
       "    </tr>\n",
       "    <tr>\n",
       "      <th>9081</th>\n",
       "      <td>2008-07-01T08:39:00</td>\n",
       "      <td>0</td>\n",
       "      <td>POINT (116.24727 39.90595)</td>\n",
       "    </tr>\n",
       "    <tr>\n",
       "      <th>9082</th>\n",
       "      <td>2008-07-01T08:40:00</td>\n",
       "      <td>0</td>\n",
       "      <td>POINT (116.24853 39.90627)</td>\n",
       "    </tr>\n",
       "    <tr>\n",
       "      <th>9083</th>\n",
       "      <td>2008-07-01T08:41:00</td>\n",
       "      <td>0</td>\n",
       "      <td>POINT (116.24890 39.90592)</td>\n",
       "    </tr>\n",
       "    <tr>\n",
       "      <th>9084</th>\n",
       "      <td>2008-07-01T08:43:00</td>\n",
       "      <td>0</td>\n",
       "      <td>POINT (116.24890 39.90592)</td>\n",
       "    </tr>\n",
       "    <tr>\n",
       "      <th>...</th>\n",
       "      <td>...</td>\n",
       "      <td>...</td>\n",
       "      <td>...</td>\n",
       "    </tr>\n",
       "    <tr>\n",
       "      <th>9216</th>\n",
       "      <td>2008-07-01T11:25:00</td>\n",
       "      <td>0</td>\n",
       "      <td>POINT (116.35274 39.98524)</td>\n",
       "    </tr>\n",
       "    <tr>\n",
       "      <th>9217</th>\n",
       "      <td>2008-07-01T11:26:00</td>\n",
       "      <td>0</td>\n",
       "      <td>POINT (116.35276 39.98523)</td>\n",
       "    </tr>\n",
       "    <tr>\n",
       "      <th>9218</th>\n",
       "      <td>2008-07-01T11:27:00</td>\n",
       "      <td>0</td>\n",
       "      <td>POINT (116.35276 39.98522)</td>\n",
       "    </tr>\n",
       "    <tr>\n",
       "      <th>9219</th>\n",
       "      <td>2008-07-01T11:28:00</td>\n",
       "      <td>0</td>\n",
       "      <td>POINT (116.35285 39.98541)</td>\n",
       "    </tr>\n",
       "    <tr>\n",
       "      <th>9220</th>\n",
       "      <td>2008-07-01T11:29:00</td>\n",
       "      <td>0</td>\n",
       "      <td>POINT (116.35286 39.98506)</td>\n",
       "    </tr>\n",
       "  </tbody>\n",
       "</table>\n",
       "<p>141 rows × 3 columns</p>\n",
       "</div>"
      ],
      "text/plain": [
       "                     date label                    geometry\n",
       "9080  2008-07-01T08:38:00     0  POINT (116.24674 39.90606)\n",
       "9081  2008-07-01T08:39:00     0  POINT (116.24727 39.90595)\n",
       "9082  2008-07-01T08:40:00     0  POINT (116.24853 39.90627)\n",
       "9083  2008-07-01T08:41:00     0  POINT (116.24890 39.90592)\n",
       "9084  2008-07-01T08:43:00     0  POINT (116.24890 39.90592)\n",
       "...                   ...   ...                         ...\n",
       "9216  2008-07-01T11:25:00     0  POINT (116.35274 39.98524)\n",
       "9217  2008-07-01T11:26:00     0  POINT (116.35276 39.98523)\n",
       "9218  2008-07-01T11:27:00     0  POINT (116.35276 39.98522)\n",
       "9219  2008-07-01T11:28:00     0  POINT (116.35285 39.98541)\n",
       "9220  2008-07-01T11:29:00     0  POINT (116.35286 39.98506)\n",
       "\n",
       "[141 rows x 3 columns]"
      ]
     },
     "execution_count": 43,
     "metadata": {},
     "output_type": "execute_result"
    }
   ],
   "source": [
    "gdf.loc[gdf.date.str[:10]==list_dates[50]]"
   ]
  },
  {
   "cell_type": "code",
   "execution_count": null,
   "metadata": {},
   "outputs": [],
   "source": []
  },
  {
   "cell_type": "code",
   "execution_count": null,
   "metadata": {},
   "outputs": [],
   "source": []
  },
  {
   "cell_type": "code",
   "execution_count": null,
   "metadata": {},
   "outputs": [],
   "source": []
  },
  {
   "cell_type": "code",
   "execution_count": null,
   "metadata": {},
   "outputs": [],
   "source": []
  },
  {
   "cell_type": "code",
   "execution_count": null,
   "metadata": {},
   "outputs": [],
   "source": []
  },
  {
   "cell_type": "code",
   "execution_count": null,
   "metadata": {},
   "outputs": [],
   "source": []
  },
  {
   "cell_type": "code",
   "execution_count": null,
   "metadata": {},
   "outputs": [],
   "source": []
  },
  {
   "cell_type": "code",
   "execution_count": null,
   "metadata": {},
   "outputs": [],
   "source": []
  },
  {
   "cell_type": "code",
   "execution_count": null,
   "metadata": {},
   "outputs": [],
   "source": []
  },
  {
   "cell_type": "code",
   "execution_count": null,
   "metadata": {},
   "outputs": [],
   "source": []
  },
  {
   "cell_type": "code",
   "execution_count": null,
   "metadata": {},
   "outputs": [],
   "source": []
  },
  {
   "cell_type": "code",
   "execution_count": null,
   "metadata": {},
   "outputs": [],
   "source": []
  },
  {
   "cell_type": "code",
   "execution_count": null,
   "metadata": {},
   "outputs": [],
   "source": []
  },
  {
   "cell_type": "code",
   "execution_count": null,
   "metadata": {},
   "outputs": [],
   "source": []
  },
  {
   "cell_type": "code",
   "execution_count": null,
   "metadata": {},
   "outputs": [],
   "source": []
  },
  {
   "cell_type": "code",
   "execution_count": 433,
   "metadata": {},
   "outputs": [
    {
     "data": {
      "text/html": [
       "<div>\n",
       "<style scoped>\n",
       "    .dataframe tbody tr th:only-of-type {\n",
       "        vertical-align: middle;\n",
       "    }\n",
       "\n",
       "    .dataframe tbody tr th {\n",
       "        vertical-align: top;\n",
       "    }\n",
       "\n",
       "    .dataframe thead th {\n",
       "        text-align: right;\n",
       "    }\n",
       "</style>\n",
       "<table border=\"1\" class=\"dataframe\">\n",
       "  <thead>\n",
       "    <tr style=\"text-align: right;\">\n",
       "      <th></th>\n",
       "      <th>marker-color</th>\n",
       "      <th>marker-size</th>\n",
       "      <th>marker-symbol</th>\n",
       "      <th>stroke</th>\n",
       "      <th>stroke-width</th>\n",
       "      <th>stroke-opacity</th>\n",
       "      <th>fill</th>\n",
       "      <th>fill-opacity</th>\n",
       "      <th>geometry</th>\n",
       "    </tr>\n",
       "  </thead>\n",
       "  <tbody>\n",
       "    <tr>\n",
       "      <th>0</th>\n",
       "      <td>#d77070</td>\n",
       "      <td>small</td>\n",
       "      <td>square</td>\n",
       "      <td>None</td>\n",
       "      <td>NaN</td>\n",
       "      <td>NaN</td>\n",
       "      <td>None</td>\n",
       "      <td>NaN</td>\n",
       "      <td>POINT (84.26239 42.79540)</td>\n",
       "    </tr>\n",
       "    <tr>\n",
       "      <th>1</th>\n",
       "      <td>None</td>\n",
       "      <td>None</td>\n",
       "      <td>None</td>\n",
       "      <td>#e7dada</td>\n",
       "      <td>2.0</td>\n",
       "      <td>1.0</td>\n",
       "      <td>#ffffff</td>\n",
       "      <td>0.0</td>\n",
       "      <td>POLYGON ((84.35303 42.86590, 84.33380 42.75710...</td>\n",
       "    </tr>\n",
       "    <tr>\n",
       "      <th>2</th>\n",
       "      <td>None</td>\n",
       "      <td>None</td>\n",
       "      <td>None</td>\n",
       "      <td>None</td>\n",
       "      <td>NaN</td>\n",
       "      <td>NaN</td>\n",
       "      <td>None</td>\n",
       "      <td>NaN</td>\n",
       "      <td>LINESTRING (84.56039 42.77323, 84.50684 42.899...</td>\n",
       "    </tr>\n",
       "  </tbody>\n",
       "</table>\n",
       "</div>"
      ],
      "text/plain": [
       "  marker-color marker-size marker-symbol   stroke  stroke-width  \\\n",
       "0      #d77070       small        square     None           NaN   \n",
       "1         None        None          None  #e7dada           2.0   \n",
       "2         None        None          None     None           NaN   \n",
       "\n",
       "   stroke-opacity     fill  fill-opacity  \\\n",
       "0             NaN     None           NaN   \n",
       "1             1.0  #ffffff           0.0   \n",
       "2             NaN     None           NaN   \n",
       "\n",
       "                                            geometry  \n",
       "0                          POINT (84.26239 42.79540)  \n",
       "1  POLYGON ((84.35303 42.86590, 84.33380 42.75710...  \n",
       "2  LINESTRING (84.56039 42.77323, 84.50684 42.899...  "
      ]
     },
     "execution_count": 433,
     "metadata": {},
     "output_type": "execute_result"
    }
   ],
   "source": [
    "\n",
    "dfxb = geopandas.read_file(\"map.geojson\")\n",
    "dfxb.w"
   ]
  },
  {
   "cell_type": "code",
   "execution_count": 432,
   "metadata": {},
   "outputs": [],
   "source": [
    "df = pd.read_pickle(\"geolife_106.zip\")\n",
    "df.drop(columns=['time','alt','label','user'],inplace=True)\n",
    "df['marker-size']=\"small\"\n",
    "df['marker-color']=\"small\""
   ]
  },
  {
   "cell_type": "code",
   "execution_count": 424,
   "metadata": {},
   "outputs": [],
   "source": [
    "gdf = geopandas.GeoDataFrame(\n",
    "    df, geometry=geopandas.points_from_xy(df.lat, df.lon))"
   ]
  },
  {
   "cell_type": "code",
   "execution_count": 426,
   "metadata": {},
   "outputs": [],
   "source": [
    "\n",
    "gdf.to_file(\"geolife_106.geojson\", driver=\"GeoJSON\")"
   ]
  },
  {
   "cell_type": "code",
   "execution_count": null,
   "metadata": {},
   "outputs": [],
   "source": []
  },
  {
   "cell_type": "code",
   "execution_count": 176,
   "metadata": {},
   "outputs": [
    {
     "data": {
      "text/html": [
       "<div>\n",
       "<style scoped>\n",
       "    .dataframe tbody tr th:only-of-type {\n",
       "        vertical-align: middle;\n",
       "    }\n",
       "\n",
       "    .dataframe tbody tr th {\n",
       "        vertical-align: top;\n",
       "    }\n",
       "\n",
       "    .dataframe thead th {\n",
       "        text-align: right;\n",
       "    }\n",
       "</style>\n",
       "<table border=\"1\" class=\"dataframe\">\n",
       "  <thead>\n",
       "    <tr style=\"text-align: right;\">\n",
       "      <th></th>\n",
       "      <th>date</th>\n",
       "      <th>label</th>\n",
       "      <th>geometry</th>\n",
       "    </tr>\n",
       "  </thead>\n",
       "  <tbody>\n",
       "    <tr>\n",
       "      <th>0</th>\n",
       "      <td>2008-10-24T04:12:00</td>\n",
       "      <td>0</td>\n",
       "      <td>POINT (116.32134 40.00415)</td>\n",
       "    </tr>\n",
       "    <tr>\n",
       "      <th>1</th>\n",
       "      <td>2008-10-24T04:13:00</td>\n",
       "      <td>0</td>\n",
       "      <td>POINT (116.32148 40.00351)</td>\n",
       "    </tr>\n",
       "    <tr>\n",
       "      <th>2</th>\n",
       "      <td>2008-10-24T04:14:00</td>\n",
       "      <td>0</td>\n",
       "      <td>POINT (116.32151 40.00173)</td>\n",
       "    </tr>\n",
       "    <tr>\n",
       "      <th>3</th>\n",
       "      <td>2008-10-24T04:15:00</td>\n",
       "      <td>0</td>\n",
       "      <td>POINT (116.32173 39.99988)</td>\n",
       "    </tr>\n",
       "    <tr>\n",
       "      <th>4</th>\n",
       "      <td>2008-10-24T04:16:00</td>\n",
       "      <td>0</td>\n",
       "      <td>POINT (116.32378 39.99957)</td>\n",
       "    </tr>\n",
       "    <tr>\n",
       "      <th>...</th>\n",
       "      <td>...</td>\n",
       "      <td>...</td>\n",
       "      <td>...</td>\n",
       "    </tr>\n",
       "    <tr>\n",
       "      <th>8757</th>\n",
       "      <td>2009-03-19T05:42:00</td>\n",
       "      <td>0</td>\n",
       "      <td>POINT (116.32462 40.00111)</td>\n",
       "    </tr>\n",
       "    <tr>\n",
       "      <th>8758</th>\n",
       "      <td>2009-03-19T05:43:00</td>\n",
       "      <td>0</td>\n",
       "      <td>POINT (116.32560 40.00109)</td>\n",
       "    </tr>\n",
       "    <tr>\n",
       "      <th>8759</th>\n",
       "      <td>2009-03-19T05:44:00</td>\n",
       "      <td>0</td>\n",
       "      <td>POINT (116.32645 40.00114)</td>\n",
       "    </tr>\n",
       "    <tr>\n",
       "      <th>8760</th>\n",
       "      <td>2009-03-19T05:45:00</td>\n",
       "      <td>0</td>\n",
       "      <td>POINT (116.32707 40.00102)</td>\n",
       "    </tr>\n",
       "    <tr>\n",
       "      <th>8761</th>\n",
       "      <td>2009-03-19T05:46:00</td>\n",
       "      <td>0</td>\n",
       "      <td>POINT (116.32729 39.99990)</td>\n",
       "    </tr>\n",
       "  </tbody>\n",
       "</table>\n",
       "<p>8762 rows × 3 columns</p>\n",
       "</div>"
      ],
      "text/plain": [
       "                     date label                    geometry\n",
       "0     2008-10-24T04:12:00     0  POINT (116.32134 40.00415)\n",
       "1     2008-10-24T04:13:00     0  POINT (116.32148 40.00351)\n",
       "2     2008-10-24T04:14:00     0  POINT (116.32151 40.00173)\n",
       "3     2008-10-24T04:15:00     0  POINT (116.32173 39.99988)\n",
       "4     2008-10-24T04:16:00     0  POINT (116.32378 39.99957)\n",
       "...                   ...   ...                         ...\n",
       "8757  2009-03-19T05:42:00     0  POINT (116.32462 40.00111)\n",
       "8758  2009-03-19T05:43:00     0  POINT (116.32560 40.00109)\n",
       "8759  2009-03-19T05:44:00     0  POINT (116.32645 40.00114)\n",
       "8760  2009-03-19T05:45:00     0  POINT (116.32707 40.00102)\n",
       "8761  2009-03-19T05:46:00     0  POINT (116.32729 39.99990)\n",
       "\n",
       "[8762 rows x 3 columns]"
      ]
     },
     "execution_count": 176,
     "metadata": {},
     "output_type": "execute_result"
    }
   ],
   "source": [
    "gdf = geopandas.read_file(\"geolife_005_simpl.geojson\")\n",
    "gdf"
   ]
  },
  {
   "cell_type": "code",
   "execution_count": 177,
   "metadata": {},
   "outputs": [
    {
     "data": {
      "text/plain": [
       "[<shapely.geometry.point.Point at 0x18c5db74608>,\n",
       " <shapely.geometry.point.Point at 0x18c59233148>,\n",
       " <shapely.geometry.point.Point at 0x18c592330c8>,\n",
       " <shapely.geometry.point.Point at 0x18c59233348>,\n",
       " <shapely.geometry.point.Point at 0x18c592333c8>,\n",
       " <shapely.geometry.point.Point at 0x18c59233588>,\n",
       " <shapely.geometry.point.Point at 0x18c59233608>,\n",
       " <shapely.geometry.point.Point at 0x18c592337c8>,\n",
       " <shapely.geometry.point.Point at 0x18c59233848>,\n",
       " <shapely.geometry.point.Point at 0x18c59233a08>,\n",
       " <shapely.geometry.point.Point at 0x18c59233ac8>,\n",
       " <shapely.geometry.point.Point at 0x18c59233e48>,\n",
       " <shapely.geometry.point.Point at 0x18c59233f88>,\n",
       " <shapely.geometry.point.Point at 0x18c5e59de48>,\n",
       " <shapely.geometry.point.Point at 0x18c5923ef48>,\n",
       " <shapely.geometry.point.Point at 0x18c592181c8>,\n",
       " <shapely.geometry.point.Point at 0x18c59218248>,\n",
       " <shapely.geometry.point.Point at 0x18c59218408>,\n",
       " <shapely.geometry.point.Point at 0x18c59218488>,\n",
       " <shapely.geometry.point.Point at 0x18c59218648>,\n",
       " <shapely.geometry.point.Point at 0x18c592186c8>,\n",
       " <shapely.geometry.point.Point at 0x18c59218888>,\n",
       " <shapely.geometry.point.Point at 0x18c59218908>,\n",
       " <shapely.geometry.point.Point at 0x18c59218ac8>,\n",
       " <shapely.geometry.point.Point at 0x18c59218b48>,\n",
       " <shapely.geometry.point.Point at 0x18c59218d08>,\n",
       " <shapely.geometry.point.Point at 0x18c59218d88>,\n",
       " <shapely.geometry.point.Point at 0x18c59218f48>,\n",
       " <shapely.geometry.point.Point at 0x18c57abfdc8>,\n",
       " <shapely.geometry.point.Point at 0x18c592011c8>,\n",
       " <shapely.geometry.point.Point at 0x18c59201248>,\n",
       " <shapely.geometry.point.Point at 0x18c59201408>,\n",
       " <shapely.geometry.point.Point at 0x18c59201488>,\n",
       " <shapely.geometry.point.Point at 0x18c59201648>,\n",
       " <shapely.geometry.point.Point at 0x18c592016c8>,\n",
       " <shapely.geometry.point.Point at 0x18c59201888>,\n",
       " <shapely.geometry.point.Point at 0x18c59201908>,\n",
       " <shapely.geometry.point.Point at 0x18c59201ac8>,\n",
       " <shapely.geometry.point.Point at 0x18c59201b48>,\n",
       " <shapely.geometry.point.Point at 0x18c59201d08>,\n",
       " <shapely.geometry.point.Point at 0x18c59201d88>,\n",
       " <shapely.geometry.point.Point at 0x18c59201f48>,\n",
       " <shapely.geometry.point.Point at 0x18c59218fc8>,\n",
       " <shapely.geometry.point.Point at 0x18c5af991c8>,\n",
       " <shapely.geometry.point.Point at 0x18c5af99248>,\n",
       " <shapely.geometry.point.Point at 0x18c5af99408>,\n",
       " <shapely.geometry.point.Point at 0x18c5af99488>,\n",
       " <shapely.geometry.point.Point at 0x18c5af99648>,\n",
       " <shapely.geometry.point.Point at 0x18c5af996c8>,\n",
       " <shapely.geometry.point.Point at 0x18c5af99888>,\n",
       " <shapely.geometry.point.Point at 0x18c5af99908>,\n",
       " <shapely.geometry.point.Point at 0x18c5af99ac8>,\n",
       " <shapely.geometry.point.Point at 0x18c5af99b48>,\n",
       " <shapely.geometry.point.Point at 0x18c5af99d08>,\n",
       " <shapely.geometry.point.Point at 0x18c5af99d88>,\n",
       " <shapely.geometry.point.Point at 0x18c5af99f48>,\n",
       " <shapely.geometry.point.Point at 0x18c59201fc8>,\n",
       " <shapely.geometry.point.Point at 0x18c5afa11c8>,\n",
       " <shapely.geometry.point.Point at 0x18c5afa1248>,\n",
       " <shapely.geometry.point.Point at 0x18c5afa1408>,\n",
       " <shapely.geometry.point.Point at 0x18c5afa1488>,\n",
       " <shapely.geometry.point.Point at 0x18c5afa1648>,\n",
       " <shapely.geometry.point.Point at 0x18c5afa16c8>,\n",
       " <shapely.geometry.point.Point at 0x18c5afa1888>,\n",
       " <shapely.geometry.point.Point at 0x18c5afa1908>,\n",
       " <shapely.geometry.point.Point at 0x18c5afa1ac8>,\n",
       " <shapely.geometry.point.Point at 0x18c5afa1b48>,\n",
       " <shapely.geometry.point.Point at 0x18c5afa1d08>,\n",
       " <shapely.geometry.point.Point at 0x18c5afa1d88>,\n",
       " <shapely.geometry.point.Point at 0x18c5afa1f48>,\n",
       " <shapely.geometry.point.Point at 0x18c5af99fc8>,\n",
       " <shapely.geometry.point.Point at 0x18c5af961c8>,\n",
       " <shapely.geometry.point.Point at 0x18c5af96248>,\n",
       " <shapely.geometry.point.Point at 0x18c5af96408>,\n",
       " <shapely.geometry.point.Point at 0x18c5af96488>,\n",
       " <shapely.geometry.point.Point at 0x18c5af96648>,\n",
       " <shapely.geometry.point.Point at 0x18c5af966c8>,\n",
       " <shapely.geometry.point.Point at 0x18c5af96888>,\n",
       " <shapely.geometry.point.Point at 0x18c5af96908>,\n",
       " <shapely.geometry.point.Point at 0x18c5af96ac8>,\n",
       " <shapely.geometry.point.Point at 0x18c5af96b48>,\n",
       " <shapely.geometry.point.Point at 0x18c5af96d08>,\n",
       " <shapely.geometry.point.Point at 0x18c5af96d88>,\n",
       " <shapely.geometry.point.Point at 0x18c5af96f48>,\n",
       " <shapely.geometry.point.Point at 0x18c5afa1fc8>,\n",
       " <shapely.geometry.point.Point at 0x18c5af921c8>,\n",
       " <shapely.geometry.point.Point at 0x18c5af92248>,\n",
       " <shapely.geometry.point.Point at 0x18c5af92408>,\n",
       " <shapely.geometry.point.Point at 0x18c5af92488>,\n",
       " <shapely.geometry.point.Point at 0x18c5af92648>]"
      ]
     },
     "execution_count": 177,
     "metadata": {},
     "output_type": "execute_result"
    }
   ],
   "source": [
    "gdf.geometry.iloc[10:100].to_list()"
   ]
  },
  {
   "cell_type": "code",
   "execution_count": null,
   "metadata": {},
   "outputs": [],
   "source": []
  },
  {
   "cell_type": "code",
   "execution_count": null,
   "metadata": {},
   "outputs": [],
   "source": []
  }
 ],
 "metadata": {
  "kernelspec": {
   "display_name": "Python 3",
   "language": "python",
   "name": "python3"
  },
  "language_info": {
   "codemirror_mode": {
    "name": "ipython",
    "version": 3
   },
   "file_extension": ".py",
   "mimetype": "text/x-python",
   "name": "python",
   "nbconvert_exporter": "python",
   "pygments_lexer": "ipython3",
   "version": "3.7.7"
  }
 },
 "nbformat": 4,
 "nbformat_minor": 4
}
