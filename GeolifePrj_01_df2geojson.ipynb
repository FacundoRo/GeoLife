{
 "cells": [
  {
   "cell_type": "markdown",
   "metadata": {},
   "source": [
    "# **GeolifePrj_01_df2gjson.ipynb**\n",
    "## Convierte los DataFrames creados en **GeolifePrj_00_plt2df** (archivos geolife_xxx.zip) a archivos GeoJson simplificados:\n",
    "## **geolife_xxx_simpl.geojson** (puntos gps=(lat,lon) y su date=\"fecha/hora\" respectiva)\n",
    "## **geolife_xxx_lines.geojson** (una linea por trayectoria)\n",
    "## **geolife_xxx_linesimpl.geojson** (lineas despues de simplificar la data)\n"
   ]
  },
  {
   "cell_type": "code",
   "execution_count": 53,
   "metadata": {},
   "outputs": [],
   "source": [
    "import geopandas\n",
    "import numpy as np\n",
    "import pandas as pd\n",
    "#from shapely.geometry import Point\n",
    "from geojson import  Point,Feature, FeatureCollection, dumps\n",
    "\n",
    "import csv, json\n",
    "\n",
    "import seaborn as sns\n",
    "\n",
    "from shapely.geometry import LineString\n",
    "from shapely.geometry import Point\n",
    "\n",
    "from dateutil.parser import parse as parsedt"
   ]
  },
  {
   "cell_type": "markdown",
   "metadata": {},
   "source": [
    "### def **plt2geojson(...):** Convierte archivo original plt a geojson\n",
    "### def **simplecsv2geojson(...)** Convierte un archivo **geolife_xxx_simpl.csv** generado por la funcion **crea_csv_simpl():** a un archivo geojson"
   ]
  },
  {
   "cell_type": "code",
   "execution_count": 9,
   "metadata": {},
   "outputs": [],
   "source": [
    "def plt2geojson(from_plt_file,to_geojson_file):\n",
    "    features = []\n",
    "    with open(from_plt_file, newline='') as csvfile:\n",
    "        reader = csv.reader(csvfile, delimiter=',')\n",
    "        for _ in range(6): next(reader)\n",
    "        for latitude,longitude,empty,altitude,days,date,time in reader:\n",
    "            latitude, longitude = map(float, (latitude, longitude))\n",
    "            features.append(\n",
    "                Feature(\n",
    "                    geometry = Point((longitude, latitude)),\n",
    "                    properties = {\n",
    "                        'altitude': altitude,\n",
    "                        'date': f\"{date} {time}\"\n",
    "                    }\n",
    "                )\n",
    "            )\n",
    "\n",
    "    collection = FeatureCollection(features)\n",
    "    with open(to_geojson_file, \"w\") as f:\n",
    "        f.write(f\"{collection}\")\n",
    "        \n",
    "def simplecsv2geojson(from_csv_file,to_geojson_file):\n",
    "    features = []\n",
    "    with open(from_csv_file, newline='') as csvfile:\n",
    "        reader = csv.reader(csvfile, delimiter=',')\n",
    "        next(reader)\n",
    "        for date,latitude,longitude,label in reader:\n",
    "            latitude, longitude = map(float, (latitude, longitude))\n",
    "            features.append(\n",
    "                Feature(\n",
    "                    geometry = Point((longitude, latitude)),\n",
    "                    properties = {\n",
    "                        'date': f\"{date}\",\n",
    "                        'label': f\"{label}\"\n",
    "                    }\n",
    "                )\n",
    "            )\n",
    "\n",
    "    collection = FeatureCollection(features)\n",
    "    with open(to_geojson_file, \"w\") as f:\n",
    "        f.write(f\"{collection}\")"
   ]
  },
  {
   "cell_type": "markdown",
   "metadata": {},
   "source": [
    "### def **df2geojson(...)** genera desde **geolife_xxx.zip** un archivo **geolife_xxx.geojson** (TODA LA DATA)"
   ]
  },
  {
   "cell_type": "code",
   "execution_count": 10,
   "metadata": {},
   "outputs": [],
   "source": [
    "def df2geojson(df,to_geojson_file):\n",
    "    df=df.astype(str)\n",
    "    lat = df['lat']\n",
    "    lng = df['lon']\n",
    "    #df = df.drop(columns=['lat', 'lon'])\n",
    "    df = df.drop(columns=['lat', 'lon','user'])    \n",
    "    \n",
    "    feat_list = []\n",
    "    failed = []\n",
    "    for i in range(0, len(df.index)):\n",
    "        props = dict(df.iloc[i])\n",
    "        try:\n",
    "            f = Feature(geometry=Point((float(lng.iloc[i]),float(lat.iloc[i]))),\n",
    "                       properties = props)\n",
    "            feat_list.append(f)\n",
    "        except Exception as ex:\n",
    "            print(\"Exception:\",ex)\n",
    "        \n",
    "    collection = FeatureCollection(feat_list)\n",
    "    with open(to_geojson_file, \"w\") as f:\n",
    "        f.write(f\"{collection}\")"
   ]
  },
  {
   "cell_type": "markdown",
   "metadata": {},
   "source": [
    "## def **crea_simpl_csv(**xxx**):** genera una version simplificada del DataFrame almacenado en **geolife_xxx.zip** y lo guarda como **geolife_xxx_simpl.csv**\n",
    "### Simplificaciones:\n",
    "### - *Guarda solo 5 digitos decimales para latitude y longitude*\n",
    "### - *Bota la columna 'user' y 'altitude'*\n",
    "### - *Guarda solo maximo UNA coordena gps por minuto (si hay mas de un punto gps por minuto desecha los sobrantes)*"
   ]
  },
  {
   "cell_type": "code",
   "execution_count": 14,
   "metadata": {},
   "outputs": [
    {
     "name": "stdout",
     "output_type": "stream",
     "text": [
      "Wall time: 0 ns\n"
     ]
    }
   ],
   "source": [
    "%%time\n",
    "#creamos una version simplificada en csv\n",
    "def crea_simpl_csv(xxx):\n",
    "    usrdf = pd.read_pickle(f'geolife_{xxx:03d}.zip')\n",
    "    usrdf.columns=['date','latitude','longitude','altitude','label','user']\n",
    "    #dejamos 5 digitos de precision, que equivale a una resolucion de 8m^2 en el mapa. Explicacion: https://planspace.org/20180719-geolocation_precision_by_digit/\n",
    "    usrdf['latitude']=usrdf['latitude'].apply(lambda x:f\"{x:.5f}\")\n",
    "    usrdf['longitude']=usrdf['longitude'].apply(lambda x:f\"{x:.5f}\")\n",
    "    usrdf.drop(columns=['user','altitude'],inplace=True)\n",
    "    usrdf=usrdf.astype(str)\n",
    "    #elimina los segundos y luego los repetidos, con lo que solo nos quedamos con una resolucion de \n",
    "    #un punto gps por minutos:\n",
    "    usrdf['date']=usrdf['date'].apply(lambda x:x[:-3]+':00')\n",
    "    usrdf = usrdf.drop_duplicates(subset='date', keep='first')\n",
    "    usrdf.to_csv(f\"geolife_{xxx:03d}_simpl.csv\", index=False)\n"
   ]
  },
  {
   "cell_type": "markdown",
   "metadata": {},
   "source": [
    "#### Creamos los CSV simplificados"
   ]
  },
  {
   "cell_type": "code",
   "execution_count": null,
   "metadata": {},
   "outputs": [],
   "source": [
    "for xxx in range(0,182):\n",
    "    crea_simpl_csv(xxx)    \n",
    "    ## Muestra avance ;) [########>-------------------------------------] \n",
    "    print(\"[\"+\"#\"*int(100*(1+xxx)/182)+\">\"+\"-\"*int(100*(181-xxx)/181)+\"]\"+f\" {xxx:03d}/182\",end=\"\\r\")"
   ]
  },
  {
   "cell_type": "markdown",
   "metadata": {},
   "source": [
    "#### Generamos **geolife_xxx_simpl.geojson** a partir de **geolife_xxx_simple.csv**"
   ]
  },
  {
   "cell_type": "code",
   "execution_count": 7,
   "metadata": {},
   "outputs": [
    {
     "name": "stdout",
     "output_type": "stream",
     "text": [
      "Wall time: 24.7 s####################################################################################>] 181/182\n"
     ]
    }
   ],
   "source": [
    "%%time\n",
    "#creamos una version simplificada en geojson\n",
    "for usuario_num in range(0,182):\n",
    "    simplecsv2geojson(f\"geolife_{usuario_num:03d}_simpl.csv\",f\"geolife_{usuario_num:03d}_simpl.geojson\")\n",
    "    ## Avance ;)\n",
    "    print(\"[\"+\"#\"*int(100*(1+usuario_num)/182)+\">\"+\"-\"*int(100*(181-usuario_num)/181)+\"]\"+f\" {usuario_num:03d}/182\",end=\"\\r\")"
   ]
  },
  {
   "cell_type": "markdown",
   "metadata": {},
   "source": [
    "## Primero generamos\n",
    "## **geolife_xxx_lines.geojson** (una linea por trayectoria= una linea por día)\n",
    "## **geolife_xxx_linesimpl.geojson** (igual pero desde version **_simpl** )"
   ]
  },
  {
   "cell_type": "markdown",
   "metadata": {},
   "source": [
    "### cargamos un **geolife_xxx_simpl.geojson** y mostramos"
   ]
  },
  {
   "cell_type": "code",
   "execution_count": 99,
   "metadata": {},
   "outputs": [
    {
     "name": "stdout",
     "output_type": "stream",
     "text": [
      "geolife_053_simpl.geojson  ->  geolife_053_linesimpl.geojson\n"
     ]
    },
    {
     "data": {
      "text/html": [
       "<div>\n",
       "<style scoped>\n",
       "    .dataframe tbody tr th:only-of-type {\n",
       "        vertical-align: middle;\n",
       "    }\n",
       "\n",
       "    .dataframe tbody tr th {\n",
       "        vertical-align: top;\n",
       "    }\n",
       "\n",
       "    .dataframe thead th {\n",
       "        text-align: right;\n",
       "    }\n",
       "</style>\n",
       "<table border=\"1\" class=\"dataframe\">\n",
       "  <thead>\n",
       "    <tr style=\"text-align: right;\">\n",
       "      <th></th>\n",
       "      <th>date</th>\n",
       "      <th>label</th>\n",
       "      <th>geometry</th>\n",
       "    </tr>\n",
       "  </thead>\n",
       "  <tbody>\n",
       "    <tr>\n",
       "      <th>0</th>\n",
       "      <td>2008-04-29T08:21:00</td>\n",
       "      <td>0</td>\n",
       "      <td>POINT (116.33038 39.97630)</td>\n",
       "    </tr>\n",
       "    <tr>\n",
       "      <th>1</th>\n",
       "      <td>2008-04-29T09:15:00</td>\n",
       "      <td>0</td>\n",
       "      <td>POINT (116.33007 39.97523)</td>\n",
       "    </tr>\n",
       "    <tr>\n",
       "      <th>2</th>\n",
       "      <td>2008-04-30T13:39:00</td>\n",
       "      <td>3</td>\n",
       "      <td>POINT (116.33028 39.97857)</td>\n",
       "    </tr>\n",
       "    <tr>\n",
       "      <th>3</th>\n",
       "      <td>2008-04-30T13:46:00</td>\n",
       "      <td>3</td>\n",
       "      <td>POINT (116.34682 39.97067)</td>\n",
       "    </tr>\n",
       "    <tr>\n",
       "      <th>4</th>\n",
       "      <td>2008-04-30T13:48:00</td>\n",
       "      <td>0</td>\n",
       "      <td>POINT (116.35105 39.96625)</td>\n",
       "    </tr>\n",
       "  </tbody>\n",
       "</table>\n",
       "</div>"
      ],
      "text/plain": [
       "                  date label                    geometry\n",
       "0  2008-04-29T08:21:00     0  POINT (116.33038 39.97630)\n",
       "1  2008-04-29T09:15:00     0  POINT (116.33007 39.97523)\n",
       "2  2008-04-30T13:39:00     3  POINT (116.33028 39.97857)\n",
       "3  2008-04-30T13:46:00     3  POINT (116.34682 39.97067)\n",
       "4  2008-04-30T13:48:00     0  POINT (116.35105 39.96625)"
      ]
     },
     "execution_count": 99,
     "metadata": {},
     "output_type": "execute_result"
    }
   ],
   "source": [
    "# generamos geolife_xxx_linesimpl.geojson donde xxx=\n",
    "xxx=53\n",
    "archivo_gj=f\"geolife_{xxx:03d}_\"\n",
    "archivo_salida_gj = archivo_gj+\"linesimpl.geojson\"\n",
    "archivo_gj=archivo_gj+\"simpl.geojson\"\n",
    "print(archivo_gj,\" -> \" ,archivo_salida_gj)\n",
    "gdf = geopandas.read_file(archivo_gj)\n",
    "gdf.head(5)"
   ]
  },
  {
   "cell_type": "markdown",
   "metadata": {},
   "source": [
    "### generamos un objeto **LineString** por cada dia"
   ]
  },
  {
   "cell_type": "code",
   "execution_count": 102,
   "metadata": {},
   "outputs": [],
   "source": [
    "list_dates=list(gdf.date.str[:10].unique())\n",
    "gempty= {'date': [], 'geometry': []}\n",
    "gdf_new=geopandas.GeoDataFrame(gempty, crs=\"EPSG:4326\")\n",
    "for dia in list_dates[1:]:\n",
    "    plst=gdf.loc[gdf.date.str[:10]==dia,'geometry'].to_list()\n",
    "    ls=LineString(plst)\n",
    "    grow = {'date': [dia], 'geometry': [ls]}\n",
    "    g1=geopandas.GeoDataFrame(grow, crs=\"EPSG:4326\")\n",
    "    gdf_new=gdf_new.append(g1)\n",
    "gdf_new['stroke']=\"#f71a3a\"\n",
    "gdf_new['stroke-width']=2\n",
    "gdf_new['stroke-opacity']=0.7"
   ]
  },
  {
   "cell_type": "markdown",
   "metadata": {},
   "source": [
    "### vemos el **geoDataFrame** producido"
   ]
  },
  {
   "cell_type": "code",
   "execution_count": 103,
   "metadata": {},
   "outputs": [
    {
     "data": {
      "text/html": [
       "<div>\n",
       "<style scoped>\n",
       "    .dataframe tbody tr th:only-of-type {\n",
       "        vertical-align: middle;\n",
       "    }\n",
       "\n",
       "    .dataframe tbody tr th {\n",
       "        vertical-align: top;\n",
       "    }\n",
       "\n",
       "    .dataframe thead th {\n",
       "        text-align: right;\n",
       "    }\n",
       "</style>\n",
       "<table border=\"1\" class=\"dataframe\">\n",
       "  <thead>\n",
       "    <tr style=\"text-align: right;\">\n",
       "      <th></th>\n",
       "      <th>date</th>\n",
       "      <th>geometry</th>\n",
       "      <th>stroke</th>\n",
       "      <th>stroke-width</th>\n",
       "      <th>stroke-opacity</th>\n",
       "    </tr>\n",
       "  </thead>\n",
       "  <tbody>\n",
       "    <tr>\n",
       "      <th>0</th>\n",
       "      <td>2008-04-30</td>\n",
       "      <td>LINESTRING (116.33028 39.97857, 116.34682 39.9...</td>\n",
       "      <td>#f71a3a</td>\n",
       "      <td>2</td>\n",
       "      <td>0.7</td>\n",
       "    </tr>\n",
       "    <tr>\n",
       "      <th>0</th>\n",
       "      <td>2008-05-01</td>\n",
       "      <td>LINESTRING (119.48115 39.81815, 119.48032 39.8...</td>\n",
       "      <td>#f71a3a</td>\n",
       "      <td>2</td>\n",
       "      <td>0.7</td>\n",
       "    </tr>\n",
       "    <tr>\n",
       "      <th>0</th>\n",
       "      <td>2008-05-02</td>\n",
       "      <td>LINESTRING (119.47575 39.81952, 119.47877 39.8...</td>\n",
       "      <td>#f71a3a</td>\n",
       "      <td>2</td>\n",
       "      <td>0.7</td>\n",
       "    </tr>\n",
       "    <tr>\n",
       "      <th>0</th>\n",
       "      <td>2008-05-05</td>\n",
       "      <td>LINESTRING (116.32932 39.97497, 116.33818 39.9...</td>\n",
       "      <td>#f71a3a</td>\n",
       "      <td>2</td>\n",
       "      <td>0.7</td>\n",
       "    </tr>\n",
       "    <tr>\n",
       "      <th>0</th>\n",
       "      <td>2008-05-06</td>\n",
       "      <td>LINESTRING (116.35533 39.96218, 116.35507 39.9...</td>\n",
       "      <td>#f71a3a</td>\n",
       "      <td>2</td>\n",
       "      <td>0.7</td>\n",
       "    </tr>\n",
       "  </tbody>\n",
       "</table>\n",
       "</div>"
      ],
      "text/plain": [
       "         date                                           geometry   stroke  \\\n",
       "0  2008-04-30  LINESTRING (116.33028 39.97857, 116.34682 39.9...  #f71a3a   \n",
       "0  2008-05-01  LINESTRING (119.48115 39.81815, 119.48032 39.8...  #f71a3a   \n",
       "0  2008-05-02  LINESTRING (119.47575 39.81952, 119.47877 39.8...  #f71a3a   \n",
       "0  2008-05-05  LINESTRING (116.32932 39.97497, 116.33818 39.9...  #f71a3a   \n",
       "0  2008-05-06  LINESTRING (116.35533 39.96218, 116.35507 39.9...  #f71a3a   \n",
       "\n",
       "   stroke-width  stroke-opacity  \n",
       "0             2             0.7  \n",
       "0             2             0.7  \n",
       "0             2             0.7  \n",
       "0             2             0.7  \n",
       "0             2             0.7  "
      ]
     },
     "execution_count": 103,
     "metadata": {},
     "output_type": "execute_result"
    }
   ],
   "source": [
    "gdf_new.head(5)"
   ]
  },
  {
   "cell_type": "markdown",
   "metadata": {},
   "source": [
    "### Lo guardamos a **geolife_xxx_linesimpl.geojson**"
   ]
  },
  {
   "cell_type": "code",
   "execution_count": 94,
   "metadata": {},
   "outputs": [],
   "source": [
    "gdf_new.to_file(archivo_salida_gj, driver=\"GeoJSON\")"
   ]
  },
  {
   "cell_type": "markdown",
   "metadata": {},
   "source": [
    "## Ahora metemos todo a la función def **simpl2lines(**xxx**):** y la iteramos"
   ]
  },
  {
   "cell_type": "code",
   "execution_count": 118,
   "metadata": {},
   "outputs": [],
   "source": [
    "def simpl2lines(xxx):\n",
    "    archivo_gj=f\"geolife_{xxx:03d}_\"\n",
    "    archivo_salida_gj = archivo_gj+\"linesimpl.geojson\"\n",
    "    archivo_gj=archivo_gj+\"simpl.geojson\"\n",
    "    print(archivo_gj,\" -> \" ,archivo_salida_gj)\n",
    "    gdf = geopandas.read_file(archivo_gj)\n",
    "    \n",
    "    list_dates=list(gdf.date.str[:10].unique())\n",
    "    gempty= {'date': [], 'geometry': []}\n",
    "    gdf_new=geopandas.GeoDataFrame(gempty, crs=\"EPSG:4326\")\n",
    "    for dia in list_dates:\n",
    "        plst=gdf.loc[gdf.date.str[:10]==dia,'geometry'].to_list()\n",
    "        if len(plst)<2:\n",
    "            continue\n",
    "        else:\n",
    "            ls=LineString(plst)\n",
    "            grow = {'date': [dia], 'geometry': [ls]}\n",
    "            g1=geopandas.GeoDataFrame(grow, crs=\"EPSG:4326\")\n",
    "            gdf_new=gdf_new.append(g1)\n",
    "    gdf_new['stroke']=\"#f71a3a\"\n",
    "    gdf_new['stroke-width']=2\n",
    "    gdf_new['stroke-opacity']=0.7\n",
    "    gdf_new.to_file(archivo_salida_gj, driver=\"GeoJSON\")"
   ]
  },
  {
   "cell_type": "code",
   "execution_count": 120,
   "metadata": {},
   "outputs": [
    {
     "name": "stdout",
     "output_type": "stream",
     "text": [
      "geolife_000_simpl.geojson  ->  geolife_000_linesimpl.geojson\n",
      "geolife_001_simpl.geojson  ->  geolife_001_linesimpl.geojson\n",
      "geolife_002_simpl.geojson  ->  geolife_002_linesimpl.geojson\n",
      "geolife_003_simpl.geojson  ->  geolife_003_linesimpl.geojson\n",
      "geolife_004_simpl.geojson  ->  geolife_004_linesimpl.geojson\n",
      "geolife_005_simpl.geojson  ->  geolife_005_linesimpl.geojson\n",
      "geolife_006_simpl.geojson  ->  geolife_006_linesimpl.geojson\n",
      "geolife_007_simpl.geojson  ->  geolife_007_linesimpl.geojson\n",
      "geolife_008_simpl.geojson  ->  geolife_008_linesimpl.geojson\n",
      "geolife_009_simpl.geojson  ->  geolife_009_linesimpl.geojson\n",
      "geolife_010_simpl.geojson  ->  geolife_010_linesimpl.geojson\n",
      "geolife_011_simpl.geojson  ->  geolife_011_linesimpl.geojson\n",
      "geolife_012_simpl.geojson  ->  geolife_012_linesimpl.geojson\n",
      "geolife_013_simpl.geojson  ->  geolife_013_linesimpl.geojson\n",
      "geolife_014_simpl.geojson  ->  geolife_014_linesimpl.geojson\n",
      "geolife_015_simpl.geojson  ->  geolife_015_linesimpl.geojson\n",
      "geolife_016_simpl.geojson  ->  geolife_016_linesimpl.geojson\n",
      "geolife_017_simpl.geojson  ->  geolife_017_linesimpl.geojson\n",
      "geolife_018_simpl.geojson  ->  geolife_018_linesimpl.geojson\n",
      "geolife_019_simpl.geojson  ->  geolife_019_linesimpl.geojson\n",
      "geolife_020_simpl.geojson  ->  geolife_020_linesimpl.geojson\n",
      "geolife_021_simpl.geojson  ->  geolife_021_linesimpl.geojson\n",
      "geolife_022_simpl.geojson  ->  geolife_022_linesimpl.geojson\n",
      "geolife_023_simpl.geojson  ->  geolife_023_linesimpl.geojson\n",
      "geolife_024_simpl.geojson  ->  geolife_024_linesimpl.geojson\n",
      "geolife_025_simpl.geojson  ->  geolife_025_linesimpl.geojson\n",
      "geolife_026_simpl.geojson  ->  geolife_026_linesimpl.geojson\n",
      "geolife_027_simpl.geojson  ->  geolife_027_linesimpl.geojson\n",
      "geolife_028_simpl.geojson  ->  geolife_028_linesimpl.geojson\n",
      "geolife_029_simpl.geojson  ->  geolife_029_linesimpl.geojson\n",
      "geolife_030_simpl.geojson  ->  geolife_030_linesimpl.geojson\n",
      "geolife_031_simpl.geojson  ->  geolife_031_linesimpl.geojson\n",
      "geolife_032_simpl.geojson  ->  geolife_032_linesimpl.geojson\n",
      "geolife_033_simpl.geojson  ->  geolife_033_linesimpl.geojson\n",
      "geolife_034_simpl.geojson  ->  geolife_034_linesimpl.geojson\n",
      "geolife_035_simpl.geojson  ->  geolife_035_linesimpl.geojson\n",
      "geolife_036_simpl.geojson  ->  geolife_036_linesimpl.geojson\n",
      "geolife_037_simpl.geojson  ->  geolife_037_linesimpl.geojson\n",
      "geolife_038_simpl.geojson  ->  geolife_038_linesimpl.geojson\n",
      "geolife_039_simpl.geojson  ->  geolife_039_linesimpl.geojson\n",
      "geolife_040_simpl.geojson  ->  geolife_040_linesimpl.geojson\n",
      "geolife_041_simpl.geojson  ->  geolife_041_linesimpl.geojson\n",
      "geolife_042_simpl.geojson  ->  geolife_042_linesimpl.geojson\n",
      "geolife_043_simpl.geojson  ->  geolife_043_linesimpl.geojson\n",
      "geolife_044_simpl.geojson  ->  geolife_044_linesimpl.geojson\n",
      "geolife_045_simpl.geojson  ->  geolife_045_linesimpl.geojson\n",
      "geolife_046_simpl.geojson  ->  geolife_046_linesimpl.geojson\n",
      "geolife_047_simpl.geojson  ->  geolife_047_linesimpl.geojson\n",
      "geolife_048_simpl.geojson  ->  geolife_048_linesimpl.geojson\n",
      "geolife_049_simpl.geojson  ->  geolife_049_linesimpl.geojson\n",
      "geolife_050_simpl.geojson  ->  geolife_050_linesimpl.geojson\n",
      "geolife_051_simpl.geojson  ->  geolife_051_linesimpl.geojson\n",
      "geolife_052_simpl.geojson  ->  geolife_052_linesimpl.geojson\n",
      "geolife_053_simpl.geojson  ->  geolife_053_linesimpl.geojson\n",
      "geolife_054_simpl.geojson  ->  geolife_054_linesimpl.geojson\n",
      "geolife_055_simpl.geojson  ->  geolife_055_linesimpl.geojson\n",
      "geolife_056_simpl.geojson  ->  geolife_056_linesimpl.geojson\n",
      "geolife_057_simpl.geojson  ->  geolife_057_linesimpl.geojson\n",
      "geolife_058_simpl.geojson  ->  geolife_058_linesimpl.geojson\n",
      "geolife_059_simpl.geojson  ->  geolife_059_linesimpl.geojson\n",
      "geolife_060_simpl.geojson  ->  geolife_060_linesimpl.geojson\n",
      "geolife_061_simpl.geojson  ->  geolife_061_linesimpl.geojson\n",
      "geolife_062_simpl.geojson  ->  geolife_062_linesimpl.geojson\n",
      "geolife_063_simpl.geojson  ->  geolife_063_linesimpl.geojson\n",
      "geolife_064_simpl.geojson  ->  geolife_064_linesimpl.geojson\n",
      "geolife_065_simpl.geojson  ->  geolife_065_linesimpl.geojson\n",
      "geolife_066_simpl.geojson  ->  geolife_066_linesimpl.geojson\n",
      "geolife_067_simpl.geojson  ->  geolife_067_linesimpl.geojson\n",
      "geolife_068_simpl.geojson  ->  geolife_068_linesimpl.geojson\n",
      "geolife_069_simpl.geojson  ->  geolife_069_linesimpl.geojson\n",
      "geolife_070_simpl.geojson  ->  geolife_070_linesimpl.geojson\n",
      "geolife_071_simpl.geojson  ->  geolife_071_linesimpl.geojson\n",
      "geolife_072_simpl.geojson  ->  geolife_072_linesimpl.geojson\n",
      "geolife_073_simpl.geojson  ->  geolife_073_linesimpl.geojson\n",
      "geolife_074_simpl.geojson  ->  geolife_074_linesimpl.geojson\n",
      "geolife_075_simpl.geojson  ->  geolife_075_linesimpl.geojson\n",
      "geolife_076_simpl.geojson  ->  geolife_076_linesimpl.geojson\n",
      "geolife_077_simpl.geojson  ->  geolife_077_linesimpl.geojson\n",
      "geolife_078_simpl.geojson  ->  geolife_078_linesimpl.geojson\n",
      "geolife_079_simpl.geojson  ->  geolife_079_linesimpl.geojson\n",
      "geolife_080_simpl.geojson  ->  geolife_080_linesimpl.geojson\n",
      "geolife_081_simpl.geojson  ->  geolife_081_linesimpl.geojson\n",
      "geolife_082_simpl.geojson  ->  geolife_082_linesimpl.geojson\n",
      "geolife_083_simpl.geojson  ->  geolife_083_linesimpl.geojson\n",
      "geolife_084_simpl.geojson  ->  geolife_084_linesimpl.geojson\n",
      "geolife_085_simpl.geojson  ->  geolife_085_linesimpl.geojson\n",
      "geolife_086_simpl.geojson  ->  geolife_086_linesimpl.geojson\n",
      "geolife_087_simpl.geojson  ->  geolife_087_linesimpl.geojson\n",
      "geolife_088_simpl.geojson  ->  geolife_088_linesimpl.geojson\n",
      "geolife_089_simpl.geojson  ->  geolife_089_linesimpl.geojson\n",
      "geolife_090_simpl.geojson  ->  geolife_090_linesimpl.geojson\n",
      "geolife_091_simpl.geojson  ->  geolife_091_linesimpl.geojson\n",
      "geolife_092_simpl.geojson  ->  geolife_092_linesimpl.geojson\n",
      "geolife_093_simpl.geojson  ->  geolife_093_linesimpl.geojson\n",
      "geolife_094_simpl.geojson  ->  geolife_094_linesimpl.geojson\n",
      "geolife_095_simpl.geojson  ->  geolife_095_linesimpl.geojson\n",
      "geolife_096_simpl.geojson  ->  geolife_096_linesimpl.geojson\n",
      "geolife_097_simpl.geojson  ->  geolife_097_linesimpl.geojson\n",
      "geolife_098_simpl.geojson  ->  geolife_098_linesimpl.geojson\n",
      "geolife_099_simpl.geojson  ->  geolife_099_linesimpl.geojson\n",
      "geolife_100_simpl.geojson  ->  geolife_100_linesimpl.geojson\n",
      "geolife_101_simpl.geojson  ->  geolife_101_linesimpl.geojson\n",
      "geolife_102_simpl.geojson  ->  geolife_102_linesimpl.geojson\n",
      "geolife_103_simpl.geojson  ->  geolife_103_linesimpl.geojson\n",
      "geolife_104_simpl.geojson  ->  geolife_104_linesimpl.geojson\n",
      "geolife_105_simpl.geojson  ->  geolife_105_linesimpl.geojson\n",
      "geolife_106_simpl.geojson  ->  geolife_106_linesimpl.geojson\n",
      "geolife_107_simpl.geojson  ->  geolife_107_linesimpl.geojson\n",
      "geolife_108_simpl.geojson  ->  geolife_108_linesimpl.geojson\n",
      "geolife_109_simpl.geojson  ->  geolife_109_linesimpl.geojson\n",
      "geolife_110_simpl.geojson  ->  geolife_110_linesimpl.geojson\n",
      "geolife_111_simpl.geojson  ->  geolife_111_linesimpl.geojson\n",
      "geolife_112_simpl.geojson  ->  geolife_112_linesimpl.geojson\n",
      "geolife_113_simpl.geojson  ->  geolife_113_linesimpl.geojson\n",
      "geolife_114_simpl.geojson  ->  geolife_114_linesimpl.geojson\n",
      "geolife_115_simpl.geojson  ->  geolife_115_linesimpl.geojson\n",
      "geolife_116_simpl.geojson  ->  geolife_116_linesimpl.geojson\n",
      "geolife_117_simpl.geojson  ->  geolife_117_linesimpl.geojson\n",
      "geolife_118_simpl.geojson  ->  geolife_118_linesimpl.geojson\n",
      "geolife_119_simpl.geojson  ->  geolife_119_linesimpl.geojson\n",
      "geolife_120_simpl.geojson  ->  geolife_120_linesimpl.geojson\n",
      "geolife_121_simpl.geojson  ->  geolife_121_linesimpl.geojson\n",
      "geolife_122_simpl.geojson  ->  geolife_122_linesimpl.geojson\n",
      "geolife_123_simpl.geojson  ->  geolife_123_linesimpl.geojson\n",
      "geolife_124_simpl.geojson  ->  geolife_124_linesimpl.geojson\n",
      "geolife_125_simpl.geojson  ->  geolife_125_linesimpl.geojson\n",
      "geolife_126_simpl.geojson  ->  geolife_126_linesimpl.geojson\n",
      "geolife_127_simpl.geojson  ->  geolife_127_linesimpl.geojson\n",
      "geolife_128_simpl.geojson  ->  geolife_128_linesimpl.geojson\n",
      "geolife_129_simpl.geojson  ->  geolife_129_linesimpl.geojson\n",
      "geolife_130_simpl.geojson  ->  geolife_130_linesimpl.geojson\n",
      "geolife_131_simpl.geojson  ->  geolife_131_linesimpl.geojson\n",
      "geolife_132_simpl.geojson  ->  geolife_132_linesimpl.geojson\n",
      "geolife_133_simpl.geojson  ->  geolife_133_linesimpl.geojson\n",
      "geolife_134_simpl.geojson  ->  geolife_134_linesimpl.geojson\n",
      "geolife_135_simpl.geojson  ->  geolife_135_linesimpl.geojson\n",
      "geolife_136_simpl.geojson  ->  geolife_136_linesimpl.geojson\n",
      "geolife_137_simpl.geojson  ->  geolife_137_linesimpl.geojson\n",
      "geolife_138_simpl.geojson  ->  geolife_138_linesimpl.geojson\n",
      "geolife_139_simpl.geojson  ->  geolife_139_linesimpl.geojson\n",
      "geolife_140_simpl.geojson  ->  geolife_140_linesimpl.geojson\n",
      "geolife_141_simpl.geojson  ->  geolife_141_linesimpl.geojson\n",
      "geolife_142_simpl.geojson  ->  geolife_142_linesimpl.geojson\n",
      "geolife_143_simpl.geojson  ->  geolife_143_linesimpl.geojson\n",
      "geolife_144_simpl.geojson  ->  geolife_144_linesimpl.geojson\n",
      "geolife_145_simpl.geojson  ->  geolife_145_linesimpl.geojson\n",
      "geolife_146_simpl.geojson  ->  geolife_146_linesimpl.geojson\n",
      "geolife_147_simpl.geojson  ->  geolife_147_linesimpl.geojson\n",
      "geolife_148_simpl.geojson  ->  geolife_148_linesimpl.geojson\n",
      "geolife_149_simpl.geojson  ->  geolife_149_linesimpl.geojson\n",
      "geolife_150_simpl.geojson  ->  geolife_150_linesimpl.geojson\n",
      "geolife_151_simpl.geojson  ->  geolife_151_linesimpl.geojson\n",
      "geolife_152_simpl.geojson  ->  geolife_152_linesimpl.geojson\n",
      "geolife_153_simpl.geojson  ->  geolife_153_linesimpl.geojson\n",
      "geolife_154_simpl.geojson  ->  geolife_154_linesimpl.geojson\n",
      "geolife_155_simpl.geojson  ->  geolife_155_linesimpl.geojson\n",
      "geolife_156_simpl.geojson  ->  geolife_156_linesimpl.geojson\n",
      "geolife_157_simpl.geojson  ->  geolife_157_linesimpl.geojson\n",
      "geolife_158_simpl.geojson  ->  geolife_158_linesimpl.geojson\n",
      "geolife_159_simpl.geojson  ->  geolife_159_linesimpl.geojson\n",
      "geolife_160_simpl.geojson  ->  geolife_160_linesimpl.geojson\n",
      "geolife_161_simpl.geojson  ->  geolife_161_linesimpl.geojson\n",
      "geolife_162_simpl.geojson  ->  geolife_162_linesimpl.geojson\n",
      "geolife_163_simpl.geojson  ->  geolife_163_linesimpl.geojson\n",
      "geolife_164_simpl.geojson  ->  geolife_164_linesimpl.geojson\n",
      "geolife_165_simpl.geojson  ->  geolife_165_linesimpl.geojson\n",
      "geolife_166_simpl.geojson  ->  geolife_166_linesimpl.geojson\n",
      "geolife_167_simpl.geojson  ->  geolife_167_linesimpl.geojson\n",
      "geolife_168_simpl.geojson  ->  geolife_168_linesimpl.geojson\n",
      "geolife_169_simpl.geojson  ->  geolife_169_linesimpl.geojson\n",
      "geolife_170_simpl.geojson  ->  geolife_170_linesimpl.geojson\n",
      "geolife_171_simpl.geojson  ->  geolife_171_linesimpl.geojson\n",
      "geolife_172_simpl.geojson  ->  geolife_172_linesimpl.geojson\n",
      "geolife_173_simpl.geojson  ->  geolife_173_linesimpl.geojson\n",
      "geolife_174_simpl.geojson  ->  geolife_174_linesimpl.geojson\n",
      "geolife_175_simpl.geojson  ->  geolife_175_linesimpl.geojson\n",
      "geolife_176_simpl.geojson  ->  geolife_176_linesimpl.geojson\n",
      "geolife_177_simpl.geojson  ->  geolife_177_linesimpl.geojson\n",
      "geolife_178_simpl.geojson  ->  geolife_178_linesimpl.geojson\n",
      "geolife_179_simpl.geojson  ->  geolife_179_linesimpl.geojson\n",
      "geolife_180_simpl.geojson  ->  geolife_180_linesimpl.geojson\n",
      "geolife_181_simpl.geojson  ->  geolife_181_linesimpl.geojson\n"
     ]
    }
   ],
   "source": [
    "for i in range(0,182):\n",
    "    simpl2lines(i)"
   ]
  },
  {
   "cell_type": "markdown",
   "metadata": {},
   "source": [
    "### **simpl2lines2()** le agrega un marcador donde empieza y donde termina la trayectoria"
   ]
  },
  {
   "cell_type": "code",
   "execution_count": 122,
   "metadata": {},
   "outputs": [],
   "source": [
    "def simpl2lines2(xxx):\n",
    "    archivo_gj=f\"geolife_{xxx:03d}_\"\n",
    "    archivo_salida_gj = archivo_gj+\"linesimpl2.geojson\"\n",
    "    archivo_gj=archivo_gj+\"simpl.geojson\"\n",
    "    print(archivo_gj,\" -> \" ,archivo_salida_gj)\n",
    "    gdf = geopandas.read_file(archivo_gj)\n",
    "    \n",
    "    gempty= {'date': [], 'geometry': []}\n",
    "    gdf_new=geopandas.GeoDataFrame(gempty, crs=\"EPSG:4326\")    \n",
    "    \n",
    "    list_dates=list(gdf.date.str[:10].unique())\n",
    "    gempty= {'date': [], 'geometry': []}\n",
    "    gdf_new=geopandas.GeoDataFrame(gempty, crs=\"EPSG:4326\")\n",
    "    for dia in list_dates:\n",
    "        plst=gdf.loc[gdf.date.str[:10]==dia,'geometry'].to_list()\n",
    "        if len(plst)<2:\n",
    "            continue\n",
    "        else:\n",
    "            ls=LineString(plst)\n",
    "            grow = {'date': [dia], 'geometry': [ls]}\n",
    "            g1=geopandas.GeoDataFrame(grow, crs=\"EPSG:4326\")\n",
    "            gdf_new=gdf_new.append(g1)\n",
    "    gdf_new['stroke']=\"#f71a3a\"\n",
    "    gdf_new['stroke-width']=2\n",
    "    gdf_new['stroke-opacity']=0.7\n",
    "    gdf_new.to_file(archivo_salida_gj, driver=\"GeoJSON\")"
   ]
  },
  {
   "cell_type": "code",
   "execution_count": null,
   "metadata": {},
   "outputs": [],
   "source": [
    "for i in range(0,182):\n",
    "    simpl2lines(i)"
   ]
  },
  {
   "cell_type": "code",
   "execution_count": 432,
   "metadata": {},
   "outputs": [],
   "source": [
    "df = pd.read_pickle(\"geolife_106.zip\")\n",
    "df.drop(columns=['time','alt','label','user'],inplace=True)\n",
    "df['marker-size']=\"small\"\n",
    "df['marker-color']=\"small\""
   ]
  },
  {
   "cell_type": "code",
   "execution_count": null,
   "metadata": {},
   "outputs": [],
   "source": []
  },
  {
   "cell_type": "code",
   "execution_count": null,
   "metadata": {},
   "outputs": [],
   "source": []
  },
  {
   "cell_type": "code",
   "execution_count": null,
   "metadata": {},
   "outputs": [],
   "source": []
  },
  {
   "cell_type": "code",
   "execution_count": null,
   "metadata": {},
   "outputs": [],
   "source": []
  },
  {
   "cell_type": "code",
   "execution_count": 96,
   "metadata": {},
   "outputs": [
    {
     "data": {
      "text/html": [
       "<div>\n",
       "<style scoped>\n",
       "    .dataframe tbody tr th:only-of-type {\n",
       "        vertical-align: middle;\n",
       "    }\n",
       "\n",
       "    .dataframe tbody tr th {\n",
       "        vertical-align: top;\n",
       "    }\n",
       "\n",
       "    .dataframe thead th {\n",
       "        text-align: right;\n",
       "    }\n",
       "</style>\n",
       "<table border=\"1\" class=\"dataframe\">\n",
       "  <thead>\n",
       "    <tr style=\"text-align: right;\">\n",
       "      <th></th>\n",
       "      <th>marker-color</th>\n",
       "      <th>marker-size</th>\n",
       "      <th>marker-symbol</th>\n",
       "      <th>stroke</th>\n",
       "      <th>stroke-width</th>\n",
       "      <th>stroke-opacity</th>\n",
       "      <th>fill</th>\n",
       "      <th>fill-opacity</th>\n",
       "      <th>geometry</th>\n",
       "    </tr>\n",
       "  </thead>\n",
       "  <tbody>\n",
       "    <tr>\n",
       "      <th>0</th>\n",
       "      <td>#d77070</td>\n",
       "      <td>small</td>\n",
       "      <td>square</td>\n",
       "      <td>None</td>\n",
       "      <td>NaN</td>\n",
       "      <td>NaN</td>\n",
       "      <td>None</td>\n",
       "      <td>NaN</td>\n",
       "      <td>POINT (84.26239 42.79540)</td>\n",
       "    </tr>\n",
       "    <tr>\n",
       "      <th>1</th>\n",
       "      <td>None</td>\n",
       "      <td>None</td>\n",
       "      <td>None</td>\n",
       "      <td>#e7dada</td>\n",
       "      <td>2.0</td>\n",
       "      <td>1.0</td>\n",
       "      <td>#ffffff</td>\n",
       "      <td>0.0</td>\n",
       "      <td>POLYGON ((84.35303 42.86590, 84.33380 42.75710...</td>\n",
       "    </tr>\n",
       "    <tr>\n",
       "      <th>2</th>\n",
       "      <td>None</td>\n",
       "      <td>None</td>\n",
       "      <td>None</td>\n",
       "      <td>None</td>\n",
       "      <td>NaN</td>\n",
       "      <td>NaN</td>\n",
       "      <td>None</td>\n",
       "      <td>NaN</td>\n",
       "      <td>LINESTRING (84.56039 42.77323, 84.50684 42.899...</td>\n",
       "    </tr>\n",
       "  </tbody>\n",
       "</table>\n",
       "</div>"
      ],
      "text/plain": [
       "  marker-color marker-size marker-symbol   stroke  stroke-width  \\\n",
       "0      #d77070       small        square     None           NaN   \n",
       "1         None        None          None  #e7dada           2.0   \n",
       "2         None        None          None     None           NaN   \n",
       "\n",
       "   stroke-opacity     fill  fill-opacity  \\\n",
       "0             NaN     None           NaN   \n",
       "1             1.0  #ffffff           0.0   \n",
       "2             NaN     None           NaN   \n",
       "\n",
       "                                            geometry  \n",
       "0                          POINT (84.26239 42.79540)  \n",
       "1  POLYGON ((84.35303 42.86590, 84.33380 42.75710...  \n",
       "2  LINESTRING (84.56039 42.77323, 84.50684 42.899...  "
      ]
     },
     "execution_count": 96,
     "metadata": {},
     "output_type": "execute_result"
    }
   ],
   "source": [
    "\n",
    "dfxb = geopandas.read_file(\"map.geojson\")\n",
    "dfxb"
   ]
  },
  {
   "cell_type": "code",
   "execution_count": 97,
   "metadata": {},
   "outputs": [],
   "source": [
    "dfxb.to_file(\"map_write.geojson\", driver=\"GeoJSON\")"
   ]
  },
  {
   "cell_type": "code",
   "execution_count": null,
   "metadata": {},
   "outputs": [],
   "source": []
  },
  {
   "cell_type": "code",
   "execution_count": 424,
   "metadata": {},
   "outputs": [],
   "source": [
    "gdf = geopandas.GeoDataFrame(\n",
    "    df, geometry=geopandas.points_from_xy(df.lat, df.lon))"
   ]
  },
  {
   "cell_type": "code",
   "execution_count": 426,
   "metadata": {},
   "outputs": [],
   "source": []
  },
  {
   "cell_type": "code",
   "execution_count": null,
   "metadata": {},
   "outputs": [],
   "source": []
  },
  {
   "cell_type": "code",
   "execution_count": null,
   "metadata": {},
   "outputs": [],
   "source": []
  }
 ],
 "metadata": {
  "kernelspec": {
   "display_name": "Python 3",
   "language": "python",
   "name": "python3"
  },
  "language_info": {
   "codemirror_mode": {
    "name": "ipython",
    "version": 3
   },
   "file_extension": ".py",
   "mimetype": "text/x-python",
   "name": "python",
   "nbconvert_exporter": "python",
   "pygments_lexer": "ipython3",
   "version": "3.7.7"
  }
 },
 "nbformat": 4,
 "nbformat_minor": 4
}
