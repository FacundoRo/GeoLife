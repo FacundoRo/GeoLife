{
 "cells": [
  {
   "cell_type": "markdown",
   "metadata": {},
   "source": [
    "# **GeolifePrj_01_df2gjson.ipynb**\n",
    "## Convierte los DataFrames creados en **GeolifePrj_00_plt2df** (archivos geolife_xxx.zip) a archivos GeoJson simplificados:\n",
    "## **geolife_xxx_simpl.geojson** (puntos gps=(lat,lon) y su date=\"fecha/hora\" respectiva)\n",
    "## **geolife_xxx_lines.geojson** (una linea por trayectoria)\n",
    "## **geolife_xxx_linesimpl.geojson** (lineas despues de simplificar la data)\n"
   ]
  },
  {
   "cell_type": "code",
   "execution_count": 53,
   "metadata": {},
   "outputs": [],
   "source": [
    "import geopandas\n",
    "import numpy as np\n",
    "import pandas as pd\n",
    "#from shapely.geometry import Point\n",
    "from geojson import  Point,Feature, FeatureCollection, dumps\n",
    "\n",
    "import csv, json\n",
    "\n",
    "import seaborn as sns\n",
    "\n",
    "from shapely.geometry import LineString\n",
    "from shapely.geometry import Point\n",
    "\n",
    "from dateutil.parser import parse as parsedt"
   ]
  },
  {
   "cell_type": "markdown",
   "metadata": {},
   "source": [
    "### def **plt2geojson(...):** Convierte archivo original plt a geojson\n",
    "### def **simplecsv2geojson(...)** Convierte un archivo **geolife_xxx_simpl.csv** generado por la funcion **crea_csv_simpl():** a un archivo geojson"
   ]
  },
  {
   "cell_type": "code",
   "execution_count": 9,
   "metadata": {},
   "outputs": [],
   "source": [
    "def plt2geojson(from_plt_file,to_geojson_file):\n",
    "    features = []\n",
    "    with open(from_plt_file, newline='') as csvfile:\n",
    "        reader = csv.reader(csvfile, delimiter=',')\n",
    "        for _ in range(6): next(reader)\n",
    "        for latitude,longitude,empty,altitude,days,date,time in reader:\n",
    "            latitude, longitude = map(float, (latitude, longitude))\n",
    "            features.append(\n",
    "                Feature(\n",
    "                    geometry = Point((longitude, latitude)),\n",
    "                    properties = {\n",
    "                        'altitude': altitude,\n",
    "                        'date': f\"{date} {time}\"\n",
    "                    }\n",
    "                )\n",
    "            )\n",
    "\n",
    "    collection = FeatureCollection(features)\n",
    "    with open(to_geojson_file, \"w\") as f:\n",
    "        f.write(f\"{collection}\")\n",
    "        \n",
    "def simplecsv2geojson(from_csv_file,to_geojson_file):\n",
    "    features = []\n",
    "    with open(from_csv_file, newline='') as csvfile:\n",
    "        reader = csv.reader(csvfile, delimiter=',')\n",
    "        next(reader)\n",
    "        for date,latitude,longitude,label in reader:\n",
    "            latitude, longitude = map(float, (latitude, longitude))\n",
    "            features.append(\n",
    "                Feature(\n",
    "                    geometry = Point((longitude, latitude)),\n",
    "                    properties = {\n",
    "                        'date': f\"{date}\",\n",
    "                        'label': f\"{label}\"\n",
    "                    }\n",
    "                )\n",
    "            )\n",
    "\n",
    "    collection = FeatureCollection(features)\n",
    "    with open(to_geojson_file, \"w\") as f:\n",
    "        f.write(f\"{collection}\")"
   ]
  },
  {
   "cell_type": "markdown",
   "metadata": {},
   "source": [
    "### def **df2geojson(...)** genera desde **geolife_xxx.zip** un archivo **geolife_xxx.geojson** (TODA LA DATA)"
   ]
  },
  {
   "cell_type": "code",
   "execution_count": 10,
   "metadata": {},
   "outputs": [],
   "source": [
    "def df2geojson(df,to_geojson_file):\n",
    "    df=df.astype(str)\n",
    "    lat = df['lat']\n",
    "    lng = df['lon']\n",
    "    #df = df.drop(columns=['lat', 'lon'])\n",
    "    df = df.drop(columns=['lat', 'lon','user'])    \n",
    "    \n",
    "    feat_list = []\n",
    "    failed = []\n",
    "    for i in range(0, len(df.index)):\n",
    "        props = dict(df.iloc[i])\n",
    "        try:\n",
    "            f = Feature(geometry=Point((float(lng.iloc[i]),float(lat.iloc[i]))),\n",
    "                       properties = props)\n",
    "            feat_list.append(f)\n",
    "        except Exception as ex:\n",
    "            print(\"Exception:\",ex)\n",
    "        \n",
    "    collection = FeatureCollection(feat_list)\n",
    "    with open(to_geojson_file, \"w\") as f:\n",
    "        f.write(f\"{collection}\")"
   ]
  },
  {
   "cell_type": "markdown",
   "metadata": {},
   "source": [
    "## def **crea_simpl_csv(**xxx**):** genera una version simplificada del DataFrame almacenado en **geolife_xxx.zip** y lo guarda como **geolife_xxx_simpl.csv**\n",
    "### Simplificaciones:\n",
    "### - *Guarda solo 5 digitos decimales para latitude y longitude*\n",
    "### - *Bota la columna 'user' y 'altitude'*\n",
    "### - *Guarda solo maximo UNA coordena gps por minuto (si hay mas de un punto gps por minuto desecha los sobrantes)*"
   ]
  },
  {
   "cell_type": "code",
   "execution_count": 14,
   "metadata": {},
   "outputs": [
    {
     "name": "stdout",
     "output_type": "stream",
     "text": [
      "Wall time: 0 ns\n"
     ]
    }
   ],
   "source": [
    "%%time\n",
    "#creamos una version simplificada en csv\n",
    "def crea_simpl_csv(xxx):\n",
    "    usrdf = pd.read_pickle(f'geolife_{xxx:03d}.zip')\n",
    "    usrdf.columns=['date','latitude','longitude','altitude','label','user']\n",
    "    #dejamos 5 digitos de precision, que equivale a una resolucion de 8m^2 en el mapa. Explicacion: https://planspace.org/20180719-geolocation_precision_by_digit/\n",
    "    usrdf['latitude']=usrdf['latitude'].apply(lambda x:f\"{x:.5f}\")\n",
    "    usrdf['longitude']=usrdf['longitude'].apply(lambda x:f\"{x:.5f}\")\n",
    "    usrdf.drop(columns=['user','altitude'],inplace=True)\n",
    "    usrdf=usrdf.astype(str)\n",
    "    #elimina los segundos y luego los repetidos, con lo que solo nos quedamos con una resolucion de \n",
    "    #un punto gps por minutos:\n",
    "    usrdf['date']=usrdf['date'].apply(lambda x:x[:-3]+':00')\n",
    "    usrdf = usrdf.drop_duplicates(subset='date', keep='first')\n",
    "    usrdf.to_csv(f\"geolife_{xxx:03d}_simpl.csv\", index=False)\n"
   ]
  },
  {
   "cell_type": "markdown",
   "metadata": {},
   "source": [
    "#### Creamos los CSV simplificados"
   ]
  },
  {
   "cell_type": "code",
   "execution_count": null,
   "metadata": {},
   "outputs": [],
   "source": [
    "for xxx in range(0,182):\n",
    "    crea_simpl_csv(xxx)    \n",
    "    ## Muestra avance ;) [########>-------------------------------------] \n",
    "    print(\"[\"+\"#\"*int(100*(1+xxx)/182)+\">\"+\"-\"*int(100*(181-xxx)/181)+\"]\"+f\" {xxx:03d}/182\",end=\"\\r\")"
   ]
  },
  {
   "cell_type": "markdown",
   "metadata": {},
   "source": [
    "#### Generamos **geolife_xxx_simpl.geojson** a partir de **geolife_xxx_simple.csv**"
   ]
  },
  {
   "cell_type": "code",
   "execution_count": 7,
   "metadata": {},
   "outputs": [
    {
     "name": "stdout",
     "output_type": "stream",
     "text": [
      "Wall time: 24.7 s####################################################################################>] 181/182\n"
     ]
    }
   ],
   "source": [
    "%%time\n",
    "#creamos una version simplificada en geojson\n",
    "for usuario_num in range(0,182):\n",
    "    simplecsv2geojson(f\"geolife_{usuario_num:03d}_simpl.csv\",f\"geolife_{usuario_num:03d}_simpl.geojson\")\n",
    "    ## Avance ;)\n",
    "    print(\"[\"+\"#\"*int(100*(1+usuario_num)/182)+\">\"+\"-\"*int(100*(181-usuario_num)/181)+\"]\"+f\" {usuario_num:03d}/182\",end=\"\\r\")"
   ]
  },
  {
   "cell_type": "markdown",
   "metadata": {},
   "source": [
    "## Primero generamos\n",
    "## **geolife_xxx_lines.geojson** (una linea por trayectoria= una linea por día)\n",
    "## **geolife_xxx_linesimpl.geojson** (igual pero desde version **_simpl** )"
   ]
  },
  {
   "cell_type": "markdown",
   "metadata": {},
   "source": [
    "### cargamos un **geolife_xxx_simpl.geojson** y mostramos"
   ]
  },
  {
   "cell_type": "code",
   "execution_count": 99,
   "metadata": {},
   "outputs": [
    {
     "name": "stdout",
     "output_type": "stream",
     "text": [
      "geolife_053_simpl.geojson  ->  geolife_053_linesimpl.geojson\n"
     ]
    },
    {
     "data": {
      "text/html": [
       "<div>\n",
       "<style scoped>\n",
       "    .dataframe tbody tr th:only-of-type {\n",
       "        vertical-align: middle;\n",
       "    }\n",
       "\n",
       "    .dataframe tbody tr th {\n",
       "        vertical-align: top;\n",
       "    }\n",
       "\n",
       "    .dataframe thead th {\n",
       "        text-align: right;\n",
       "    }\n",
       "</style>\n",
       "<table border=\"1\" class=\"dataframe\">\n",
       "  <thead>\n",
       "    <tr style=\"text-align: right;\">\n",
       "      <th></th>\n",
       "      <th>date</th>\n",
       "      <th>label</th>\n",
       "      <th>geometry</th>\n",
       "    </tr>\n",
       "  </thead>\n",
       "  <tbody>\n",
       "    <tr>\n",
       "      <th>0</th>\n",
       "      <td>2008-04-29T08:21:00</td>\n",
       "      <td>0</td>\n",
       "      <td>POINT (116.33038 39.97630)</td>\n",
       "    </tr>\n",
       "    <tr>\n",
       "      <th>1</th>\n",
       "      <td>2008-04-29T09:15:00</td>\n",
       "      <td>0</td>\n",
       "      <td>POINT (116.33007 39.97523)</td>\n",
       "    </tr>\n",
       "    <tr>\n",
       "      <th>2</th>\n",
       "      <td>2008-04-30T13:39:00</td>\n",
       "      <td>3</td>\n",
       "      <td>POINT (116.33028 39.97857)</td>\n",
       "    </tr>\n",
       "    <tr>\n",
       "      <th>3</th>\n",
       "      <td>2008-04-30T13:46:00</td>\n",
       "      <td>3</td>\n",
       "      <td>POINT (116.34682 39.97067)</td>\n",
       "    </tr>\n",
       "    <tr>\n",
       "      <th>4</th>\n",
       "      <td>2008-04-30T13:48:00</td>\n",
       "      <td>0</td>\n",
       "      <td>POINT (116.35105 39.96625)</td>\n",
       "    </tr>\n",
       "  </tbody>\n",
       "</table>\n",
       "</div>"
      ],
      "text/plain": [
       "                  date label                    geometry\n",
       "0  2008-04-29T08:21:00     0  POINT (116.33038 39.97630)\n",
       "1  2008-04-29T09:15:00     0  POINT (116.33007 39.97523)\n",
       "2  2008-04-30T13:39:00     3  POINT (116.33028 39.97857)\n",
       "3  2008-04-30T13:46:00     3  POINT (116.34682 39.97067)\n",
       "4  2008-04-30T13:48:00     0  POINT (116.35105 39.96625)"
      ]
     },
     "execution_count": 99,
     "metadata": {},
     "output_type": "execute_result"
    }
   ],
   "source": [
    "# generamos geolife_xxx_linesimpl.geojson donde xxx=\n",
    "xxx=53\n",
    "archivo_gj=f\"geolife_{xxx:03d}_\"\n",
    "archivo_salida_gj = archivo_gj+\"linesimpl.geojson\"\n",
    "archivo_gj=archivo_gj+\"simpl.geojson\"\n",
    "print(archivo_gj,\" -> \" ,archivo_salida_gj)\n",
    "gdf = geopandas.read_file(archivo_gj)\n",
    "gdf.head(5)"
   ]
  },
  {
   "cell_type": "markdown",
   "metadata": {},
   "source": [
    "### generamos un objeto **LineString** por cada dia"
   ]
  },
  {
   "cell_type": "code",
   "execution_count": 102,
   "metadata": {},
   "outputs": [],
   "source": [
    "list_dates=list(gdf.date.str[:10].unique())\n",
    "gempty= {'date': [], 'geometry': []}\n",
    "gdf_new=geopandas.GeoDataFrame(gempty, crs=\"EPSG:4326\")\n",
    "for dia in list_dates[1:]:\n",
    "    plst=gdf.loc[gdf.date.str[:10]==dia,'geometry'].to_list()\n",
    "    ls=LineString(plst)\n",
    "    grow = {'date': [dia], 'geometry': [ls]}\n",
    "    g1=geopandas.GeoDataFrame(grow, crs=\"EPSG:4326\")\n",
    "    gdf_new=gdf_new.append(g1)\n",
    "gdf_new['stroke']=\"#f71a3a\"\n",
    "gdf_new['stroke-width']=2\n",
    "gdf_new['stroke-opacity']=0.7"
   ]
  },
  {
   "cell_type": "markdown",
   "metadata": {},
   "source": [
    "### vemos el **geoDataFrame** producido"
   ]
  },
  {
   "cell_type": "code",
   "execution_count": 103,
   "metadata": {},
   "outputs": [
    {
     "data": {
      "text/html": [
       "<div>\n",
       "<style scoped>\n",
       "    .dataframe tbody tr th:only-of-type {\n",
       "        vertical-align: middle;\n",
       "    }\n",
       "\n",
       "    .dataframe tbody tr th {\n",
       "        vertical-align: top;\n",
       "    }\n",
       "\n",
       "    .dataframe thead th {\n",
       "        text-align: right;\n",
       "    }\n",
       "</style>\n",
       "<table border=\"1\" class=\"dataframe\">\n",
       "  <thead>\n",
       "    <tr style=\"text-align: right;\">\n",
       "      <th></th>\n",
       "      <th>date</th>\n",
       "      <th>geometry</th>\n",
       "      <th>stroke</th>\n",
       "      <th>stroke-width</th>\n",
       "      <th>stroke-opacity</th>\n",
       "    </tr>\n",
       "  </thead>\n",
       "  <tbody>\n",
       "    <tr>\n",
       "      <th>0</th>\n",
       "      <td>2008-04-30</td>\n",
       "      <td>LINESTRING (116.33028 39.97857, 116.34682 39.9...</td>\n",
       "      <td>#f71a3a</td>\n",
       "      <td>2</td>\n",
       "      <td>0.7</td>\n",
       "    </tr>\n",
       "    <tr>\n",
       "      <th>0</th>\n",
       "      <td>2008-05-01</td>\n",
       "      <td>LINESTRING (119.48115 39.81815, 119.48032 39.8...</td>\n",
       "      <td>#f71a3a</td>\n",
       "      <td>2</td>\n",
       "      <td>0.7</td>\n",
       "    </tr>\n",
       "    <tr>\n",
       "      <th>0</th>\n",
       "      <td>2008-05-02</td>\n",
       "      <td>LINESTRING (119.47575 39.81952, 119.47877 39.8...</td>\n",
       "      <td>#f71a3a</td>\n",
       "      <td>2</td>\n",
       "      <td>0.7</td>\n",
       "    </tr>\n",
       "    <tr>\n",
       "      <th>0</th>\n",
       "      <td>2008-05-05</td>\n",
       "      <td>LINESTRING (116.32932 39.97497, 116.33818 39.9...</td>\n",
       "      <td>#f71a3a</td>\n",
       "      <td>2</td>\n",
       "      <td>0.7</td>\n",
       "    </tr>\n",
       "    <tr>\n",
       "      <th>0</th>\n",
       "      <td>2008-05-06</td>\n",
       "      <td>LINESTRING (116.35533 39.96218, 116.35507 39.9...</td>\n",
       "      <td>#f71a3a</td>\n",
       "      <td>2</td>\n",
       "      <td>0.7</td>\n",
       "    </tr>\n",
       "  </tbody>\n",
       "</table>\n",
       "</div>"
      ],
      "text/plain": [
       "         date                                           geometry   stroke  \\\n",
       "0  2008-04-30  LINESTRING (116.33028 39.97857, 116.34682 39.9...  #f71a3a   \n",
       "0  2008-05-01  LINESTRING (119.48115 39.81815, 119.48032 39.8...  #f71a3a   \n",
       "0  2008-05-02  LINESTRING (119.47575 39.81952, 119.47877 39.8...  #f71a3a   \n",
       "0  2008-05-05  LINESTRING (116.32932 39.97497, 116.33818 39.9...  #f71a3a   \n",
       "0  2008-05-06  LINESTRING (116.35533 39.96218, 116.35507 39.9...  #f71a3a   \n",
       "\n",
       "   stroke-width  stroke-opacity  \n",
       "0             2             0.7  \n",
       "0             2             0.7  \n",
       "0             2             0.7  \n",
       "0             2             0.7  \n",
       "0             2             0.7  "
      ]
     },
     "execution_count": 103,
     "metadata": {},
     "output_type": "execute_result"
    }
   ],
   "source": [
    "gdf_new.head(5)"
   ]
  },
  {
   "cell_type": "markdown",
   "metadata": {},
   "source": [
    "### Lo guardamos a **geolife_xxx_linesimpl.geojson**"
   ]
  },
  {
   "cell_type": "code",
   "execution_count": 94,
   "metadata": {},
   "outputs": [],
   "source": [
    "gdf_new.to_file(archivo_salida_gj, driver=\"GeoJSON\")"
   ]
  },
  {
   "cell_type": "markdown",
   "metadata": {},
   "source": [
    "## Ahora metemos todo a la función def **simpl2lines(**xxx**):** y la iteramos"
   ]
  },
  {
   "cell_type": "code",
   "execution_count": 118,
   "metadata": {},
   "outputs": [],
   "source": [
    "def simpl2lines(xxx):\n",
    "    archivo_gj=f\"geolife_{xxx:03d}_\"\n",
    "    archivo_salida_gj = archivo_gj+\"linesimpl.geojson\"\n",
    "    archivo_gj=archivo_gj+\"simpl.geojson\"\n",
    "    print(archivo_gj,\" -> \" ,archivo_salida_gj)\n",
    "    gdf = geopandas.read_file(archivo_gj)\n",
    "    \n",
    "    list_dates=list(gdf.date.str[:10].unique())\n",
    "    gempty= {'date': [], 'geometry': []}\n",
    "    gdf_new=geopandas.GeoDataFrame(gempty, crs=\"EPSG:4326\")\n",
    "    for dia in list_dates:\n",
    "        plst=gdf.loc[gdf.date.str[:10]==dia,'geometry'].to_list()\n",
    "        if len(plst)<2:\n",
    "            continue\n",
    "        else:\n",
    "            ls=LineString(plst)\n",
    "            grow = {'date': [dia], 'geometry': [ls]}\n",
    "            g1=geopandas.GeoDataFrame(grow, crs=\"EPSG:4326\")\n",
    "            gdf_new=gdf_new.append(g1)\n",
    "    gdf_new['stroke']=\"#f71a3a\"\n",
    "    gdf_new['stroke-width']=2\n",
    "    gdf_new['stroke-opacity']=0.7\n",
    "    gdf_new.to_file(archivo_salida_gj, driver=\"GeoJSON\")"
   ]
  },
  {
   "cell_type": "code",
   "execution_count": null,
   "metadata": {},
   "outputs": [
    {
     "name": "stdout",
     "output_type": "stream",
     "text": [
      "geolife_000_simpl.geojson  ->  geolife_000_linesimpl.geojson\n",
      "geolife_001_simpl.geojson  ->  geolife_001_linesimpl.geojson\n",
      "geolife_002_simpl.geojson  ->  geolife_002_linesimpl.geojson\n",
      "geolife_003_simpl.geojson  ->  geolife_003_linesimpl.geojson\n",
      "geolife_004_simpl.geojson  ->  geolife_004_linesimpl.geojson\n",
      "geolife_005_simpl.geojson  ->  geolife_005_linesimpl.geojson\n",
      "geolife_006_simpl.geojson  ->  geolife_006_linesimpl.geojson\n",
      "geolife_007_simpl.geojson  ->  geolife_007_linesimpl.geojson\n",
      "geolife_008_simpl.geojson  ->  geolife_008_linesimpl.geojson\n",
      "geolife_009_simpl.geojson  ->  geolife_009_linesimpl.geojson\n",
      "geolife_010_simpl.geojson  ->  geolife_010_linesimpl.geojson\n",
      "geolife_011_simpl.geojson  ->  geolife_011_linesimpl.geojson\n",
      "geolife_012_simpl.geojson  ->  geolife_012_linesimpl.geojson\n",
      "geolife_013_simpl.geojson  ->  geolife_013_linesimpl.geojson\n",
      "geolife_014_simpl.geojson  ->  geolife_014_linesimpl.geojson\n",
      "geolife_015_simpl.geojson  ->  geolife_015_linesimpl.geojson\n",
      "geolife_016_simpl.geojson  ->  geolife_016_linesimpl.geojson\n",
      "geolife_017_simpl.geojson  ->  geolife_017_linesimpl.geojson\n",
      "geolife_018_simpl.geojson  ->  geolife_018_linesimpl.geojson\n",
      "geolife_019_simpl.geojson  ->  geolife_019_linesimpl.geojson\n",
      "geolife_020_simpl.geojson  ->  geolife_020_linesimpl.geojson\n",
      "geolife_021_simpl.geojson  ->  geolife_021_linesimpl.geojson\n",
      "geolife_022_simpl.geojson  ->  geolife_022_linesimpl.geojson\n",
      "geolife_023_simpl.geojson  ->  geolife_023_linesimpl.geojson\n",
      "geolife_024_simpl.geojson  ->  geolife_024_linesimpl.geojson\n",
      "geolife_025_simpl.geojson  ->  geolife_025_linesimpl.geojson\n",
      "geolife_026_simpl.geojson  ->  geolife_026_linesimpl.geojson\n",
      "geolife_027_simpl.geojson  ->  geolife_027_linesimpl.geojson\n",
      "geolife_028_simpl.geojson  ->  geolife_028_linesimpl.geojson\n",
      "geolife_029_simpl.geojson  ->  geolife_029_linesimpl.geojson\n",
      "geolife_030_simpl.geojson  ->  geolife_030_linesimpl.geojson\n",
      "geolife_031_simpl.geojson  ->  geolife_031_linesimpl.geojson\n",
      "geolife_032_simpl.geojson  ->  geolife_032_linesimpl.geojson\n",
      "geolife_033_simpl.geojson  ->  geolife_033_linesimpl.geojson\n",
      "geolife_034_simpl.geojson  ->  geolife_034_linesimpl.geojson\n",
      "geolife_035_simpl.geojson  ->  geolife_035_linesimpl.geojson\n",
      "geolife_036_simpl.geojson  ->  geolife_036_linesimpl.geojson\n",
      "geolife_037_simpl.geojson  ->  geolife_037_linesimpl.geojson\n",
      "geolife_038_simpl.geojson  ->  geolife_038_linesimpl.geojson\n",
      "geolife_039_simpl.geojson  ->  geolife_039_linesimpl.geojson\n"
     ]
    }
   ],
   "source": [
    "for i in range(0,182):\n",
    "    simpl2lines(i)"
   ]
  },
  {
   "cell_type": "code",
   "execution_count": null,
   "metadata": {},
   "outputs": [],
   "source": [
    "### **simpl2lines2()** le agrega un marcador donde empieza y donde termina la trayectoria"
   ]
  },
  {
   "cell_type": "code",
   "execution_count": 118,
   "metadata": {},
   "outputs": [],
   "source": [
    "def simpl2lines2(xxx):\n",
    "    archivo_gj=f\"geolife_{xxx:03d}_\"\n",
    "    archivo_salida_gj = archivo_gj+\"linesimpl.geojson\"\n",
    "    archivo_gj=archivo_gj+\"simpl.geojson\"\n",
    "    print(archivo_gj,\" -> \" ,archivo_salida_gj)\n",
    "    gdf = geopandas.read_file(archivo_gj)\n",
    "    \n",
    "    gempty= {'date': [], 'geometry': []}\n",
    "    gdf_new=geopandas.GeoDataFrame(gempty, crs=\"EPSG:4326\")    \n",
    "    \n",
    "    list_dates=list(gdf.date.str[:10].unique())\n",
    "    gempty= {'date': [], 'geometry': []}\n",
    "    gdf_new=geopandas.GeoDataFrame(gempty, crs=\"EPSG:4326\")\n",
    "    for dia in list_dates:\n",
    "        plst=gdf.loc[gdf.date.str[:10]==dia,'geometry'].to_list()\n",
    "        if len(plst)<2:\n",
    "            continue\n",
    "        else:\n",
    "            ls=LineString(plst)\n",
    "            grow = {'date': [dia], 'geometry': [ls]}\n",
    "            g1=geopandas.GeoDataFrame(grow, crs=\"EPSG:4326\")\n",
    "            gdf_new=gdf_new.append(g1)\n",
    "    gdf_new['stroke']=\"#f71a3a\"\n",
    "    gdf_new['stroke-width']=2\n",
    "    gdf_new['stroke-opacity']=0.7\n",
    "    gdf_new.to_file(archivo_salida_gj, driver=\"GeoJSON\")"
   ]
  },
  {
   "cell_type": "code",
   "execution_count": 119,
   "metadata": {},
   "outputs": [
    {
     "name": "stdout",
     "output_type": "stream",
     "text": [
      "geolife_000_simpl.geojson  ->  geolife_000_linesimpl.geojson\n",
      "geolife_001_simpl.geojson  ->  geolife_001_linesimpl.geojson\n"
     ]
    },
    {
     "ename": "KeyboardInterrupt",
     "evalue": "",
     "output_type": "error",
     "traceback": [
      "\u001b[1;31m---------------------------------------------------------------------------\u001b[0m",
      "\u001b[1;31mKeyboardInterrupt\u001b[0m                         Traceback (most recent call last)",
      "\u001b[1;32m<ipython-input-119-fdc0880fe34c>\u001b[0m in \u001b[0;36m<module>\u001b[1;34m\u001b[0m\n\u001b[0;32m      1\u001b[0m \u001b[1;32mfor\u001b[0m \u001b[0mi\u001b[0m \u001b[1;32min\u001b[0m \u001b[0mrange\u001b[0m\u001b[1;33m(\u001b[0m\u001b[1;36m0\u001b[0m\u001b[1;33m,\u001b[0m\u001b[1;36m182\u001b[0m\u001b[1;33m)\u001b[0m\u001b[1;33m:\u001b[0m\u001b[1;33m\u001b[0m\u001b[1;33m\u001b[0m\u001b[0m\n\u001b[1;32m----> 2\u001b[1;33m     \u001b[0msimpl2lines\u001b[0m\u001b[1;33m(\u001b[0m\u001b[0mi\u001b[0m\u001b[1;33m)\u001b[0m\u001b[1;33m\u001b[0m\u001b[1;33m\u001b[0m\u001b[0m\n\u001b[0m",
      "\u001b[1;32m<ipython-input-118-0f21a769ea8d>\u001b[0m in \u001b[0;36msimpl2lines\u001b[1;34m(xxx)\u001b[0m\n\u001b[0;32m     16\u001b[0m             \u001b[0mls\u001b[0m\u001b[1;33m=\u001b[0m\u001b[0mLineString\u001b[0m\u001b[1;33m(\u001b[0m\u001b[0mplst\u001b[0m\u001b[1;33m)\u001b[0m\u001b[1;33m\u001b[0m\u001b[1;33m\u001b[0m\u001b[0m\n\u001b[0;32m     17\u001b[0m             \u001b[0mgrow\u001b[0m \u001b[1;33m=\u001b[0m \u001b[1;33m{\u001b[0m\u001b[1;34m'date'\u001b[0m\u001b[1;33m:\u001b[0m \u001b[1;33m[\u001b[0m\u001b[0mdia\u001b[0m\u001b[1;33m]\u001b[0m\u001b[1;33m,\u001b[0m \u001b[1;34m'geometry'\u001b[0m\u001b[1;33m:\u001b[0m \u001b[1;33m[\u001b[0m\u001b[0mls\u001b[0m\u001b[1;33m]\u001b[0m\u001b[1;33m}\u001b[0m\u001b[1;33m\u001b[0m\u001b[1;33m\u001b[0m\u001b[0m\n\u001b[1;32m---> 18\u001b[1;33m             \u001b[0mg1\u001b[0m\u001b[1;33m=\u001b[0m\u001b[0mgeopandas\u001b[0m\u001b[1;33m.\u001b[0m\u001b[0mGeoDataFrame\u001b[0m\u001b[1;33m(\u001b[0m\u001b[0mgrow\u001b[0m\u001b[1;33m,\u001b[0m \u001b[0mcrs\u001b[0m\u001b[1;33m=\u001b[0m\u001b[1;34m\"EPSG:4326\"\u001b[0m\u001b[1;33m)\u001b[0m\u001b[1;33m\u001b[0m\u001b[1;33m\u001b[0m\u001b[0m\n\u001b[0m\u001b[0;32m     19\u001b[0m             \u001b[0mgdf_new\u001b[0m\u001b[1;33m=\u001b[0m\u001b[0mgdf_new\u001b[0m\u001b[1;33m.\u001b[0m\u001b[0mappend\u001b[0m\u001b[1;33m(\u001b[0m\u001b[0mg1\u001b[0m\u001b[1;33m)\u001b[0m\u001b[1;33m\u001b[0m\u001b[1;33m\u001b[0m\u001b[0m\n\u001b[0;32m     20\u001b[0m     \u001b[0mgdf_new\u001b[0m\u001b[1;33m[\u001b[0m\u001b[1;34m'stroke'\u001b[0m\u001b[1;33m]\u001b[0m\u001b[1;33m=\u001b[0m\u001b[1;34m\"#f71a3a\"\u001b[0m\u001b[1;33m\u001b[0m\u001b[1;33m\u001b[0m\u001b[0m\n",
      "\u001b[1;32mD:\\Anaconda3\\lib\\site-packages\\geopandas\\geodataframe.py\u001b[0m in \u001b[0;36m__init__\u001b[1;34m(self, *args, **kwargs)\u001b[0m\n\u001b[0;32m    120\u001b[0m                     )\n\u001b[0;32m    121\u001b[0m                     \u001b[1;31m# TODO: raise error in 0.9 or 0.10.\u001b[0m\u001b[1;33m\u001b[0m\u001b[1;33m\u001b[0m\u001b[1;33m\u001b[0m\u001b[0m\n\u001b[1;32m--> 122\u001b[1;33m                 \u001b[0mself\u001b[0m\u001b[1;33m[\u001b[0m\u001b[1;34m\"geometry\"\u001b[0m\u001b[1;33m]\u001b[0m \u001b[1;33m=\u001b[0m \u001b[0m_ensure_geometry\u001b[0m\u001b[1;33m(\u001b[0m\u001b[0mself\u001b[0m\u001b[1;33m[\u001b[0m\u001b[1;34m\"geometry\"\u001b[0m\u001b[1;33m]\u001b[0m\u001b[1;33m.\u001b[0m\u001b[0mvalues\u001b[0m\u001b[1;33m,\u001b[0m \u001b[0mcrs\u001b[0m\u001b[1;33m)\u001b[0m\u001b[1;33m\u001b[0m\u001b[1;33m\u001b[0m\u001b[0m\n\u001b[0m\u001b[0;32m    123\u001b[0m             \u001b[1;32mexcept\u001b[0m \u001b[0mTypeError\u001b[0m\u001b[1;33m:\u001b[0m\u001b[1;33m\u001b[0m\u001b[1;33m\u001b[0m\u001b[0m\n\u001b[0;32m    124\u001b[0m                 \u001b[1;32mpass\u001b[0m\u001b[1;33m\u001b[0m\u001b[1;33m\u001b[0m\u001b[0m\n",
      "\u001b[1;32mD:\\Anaconda3\\lib\\site-packages\\geopandas\\geodataframe.py\u001b[0m in \u001b[0;36m_ensure_geometry\u001b[1;34m(data, crs)\u001b[0m\n\u001b[0;32m     40\u001b[0m             \u001b[1;32mreturn\u001b[0m \u001b[0mGeoSeries\u001b[0m\u001b[1;33m(\u001b[0m\u001b[0mout\u001b[0m\u001b[1;33m,\u001b[0m \u001b[0mindex\u001b[0m\u001b[1;33m=\u001b[0m\u001b[0mdata\u001b[0m\u001b[1;33m.\u001b[0m\u001b[0mindex\u001b[0m\u001b[1;33m,\u001b[0m \u001b[0mname\u001b[0m\u001b[1;33m=\u001b[0m\u001b[0mdata\u001b[0m\u001b[1;33m.\u001b[0m\u001b[0mname\u001b[0m\u001b[1;33m)\u001b[0m\u001b[1;33m\u001b[0m\u001b[1;33m\u001b[0m\u001b[0m\n\u001b[0;32m     41\u001b[0m         \u001b[1;32melse\u001b[0m\u001b[1;33m:\u001b[0m\u001b[1;33m\u001b[0m\u001b[1;33m\u001b[0m\u001b[0m\n\u001b[1;32m---> 42\u001b[1;33m             \u001b[0mout\u001b[0m \u001b[1;33m=\u001b[0m \u001b[0mfrom_shapely\u001b[0m\u001b[1;33m(\u001b[0m\u001b[0mdata\u001b[0m\u001b[1;33m,\u001b[0m \u001b[0mcrs\u001b[0m\u001b[1;33m=\u001b[0m\u001b[0mcrs\u001b[0m\u001b[1;33m)\u001b[0m\u001b[1;33m\u001b[0m\u001b[1;33m\u001b[0m\u001b[0m\n\u001b[0m\u001b[0;32m     43\u001b[0m             \u001b[1;32mreturn\u001b[0m \u001b[0mout\u001b[0m\u001b[1;33m\u001b[0m\u001b[1;33m\u001b[0m\u001b[0m\n\u001b[0;32m     44\u001b[0m \u001b[1;33m\u001b[0m\u001b[0m\n",
      "\u001b[1;32mD:\\Anaconda3\\lib\\site-packages\\geopandas\\array.py\u001b[0m in \u001b[0;36mfrom_shapely\u001b[1;34m(data, crs)\u001b[0m\n\u001b[0;32m    164\u001b[0m \u001b[1;33m\u001b[0m\u001b[0m\n\u001b[0;32m    165\u001b[0m     \"\"\"\n\u001b[1;32m--> 166\u001b[1;33m     \u001b[1;32mreturn\u001b[0m \u001b[0mGeometryArray\u001b[0m\u001b[1;33m(\u001b[0m\u001b[0mvectorized\u001b[0m\u001b[1;33m.\u001b[0m\u001b[0mfrom_shapely\u001b[0m\u001b[1;33m(\u001b[0m\u001b[0mdata\u001b[0m\u001b[1;33m)\u001b[0m\u001b[1;33m,\u001b[0m \u001b[0mcrs\u001b[0m\u001b[1;33m=\u001b[0m\u001b[0mcrs\u001b[0m\u001b[1;33m)\u001b[0m\u001b[1;33m\u001b[0m\u001b[1;33m\u001b[0m\u001b[0m\n\u001b[0m\u001b[0;32m    167\u001b[0m \u001b[1;33m\u001b[0m\u001b[0m\n\u001b[0;32m    168\u001b[0m \u001b[1;33m\u001b[0m\u001b[0m\n",
      "\u001b[1;32mD:\\Anaconda3\\lib\\site-packages\\geopandas\\array.py\u001b[0m in \u001b[0;36m__init__\u001b[1;34m(self, data, crs)\u001b[0m\n\u001b[0;32m    279\u001b[0m \u001b[1;33m\u001b[0m\u001b[0m\n\u001b[0;32m    280\u001b[0m         \u001b[0mself\u001b[0m\u001b[1;33m.\u001b[0m\u001b[0m_crs\u001b[0m \u001b[1;33m=\u001b[0m \u001b[1;32mNone\u001b[0m\u001b[1;33m\u001b[0m\u001b[1;33m\u001b[0m\u001b[0m\n\u001b[1;32m--> 281\u001b[1;33m         \u001b[0mself\u001b[0m\u001b[1;33m.\u001b[0m\u001b[0mcrs\u001b[0m \u001b[1;33m=\u001b[0m \u001b[0mcrs\u001b[0m\u001b[1;33m\u001b[0m\u001b[1;33m\u001b[0m\u001b[0m\n\u001b[0m\u001b[0;32m    282\u001b[0m \u001b[1;33m\u001b[0m\u001b[0m\n\u001b[0;32m    283\u001b[0m     \u001b[1;33m@\u001b[0m\u001b[0mproperty\u001b[0m\u001b[1;33m\u001b[0m\u001b[1;33m\u001b[0m\u001b[0m\n",
      "\u001b[1;32mD:\\Anaconda3\\lib\\site-packages\\geopandas\\array.py\u001b[0m in \u001b[0;36mcrs\u001b[1;34m(self, value)\u001b[0m\n\u001b[0;32m    298\u001b[0m     \u001b[1;32mdef\u001b[0m \u001b[0mcrs\u001b[0m\u001b[1;33m(\u001b[0m\u001b[0mself\u001b[0m\u001b[1;33m,\u001b[0m \u001b[0mvalue\u001b[0m\u001b[1;33m)\u001b[0m\u001b[1;33m:\u001b[0m\u001b[1;33m\u001b[0m\u001b[1;33m\u001b[0m\u001b[0m\n\u001b[0;32m    299\u001b[0m         \u001b[1;34m\"\"\"Sets the value of the crs\"\"\"\u001b[0m\u001b[1;33m\u001b[0m\u001b[1;33m\u001b[0m\u001b[0m\n\u001b[1;32m--> 300\u001b[1;33m         \u001b[0mself\u001b[0m\u001b[1;33m.\u001b[0m\u001b[0m_crs\u001b[0m \u001b[1;33m=\u001b[0m \u001b[1;32mNone\u001b[0m \u001b[1;32mif\u001b[0m \u001b[1;32mnot\u001b[0m \u001b[0mvalue\u001b[0m \u001b[1;32melse\u001b[0m \u001b[0mCRS\u001b[0m\u001b[1;33m.\u001b[0m\u001b[0mfrom_user_input\u001b[0m\u001b[1;33m(\u001b[0m\u001b[0mvalue\u001b[0m\u001b[1;33m)\u001b[0m\u001b[1;33m\u001b[0m\u001b[1;33m\u001b[0m\u001b[0m\n\u001b[0m\u001b[0;32m    301\u001b[0m \u001b[1;33m\u001b[0m\u001b[0m\n\u001b[0;32m    302\u001b[0m     \u001b[1;32mdef\u001b[0m \u001b[0mcheck_geographic_crs\u001b[0m\u001b[1;33m(\u001b[0m\u001b[0mself\u001b[0m\u001b[1;33m,\u001b[0m \u001b[0mstacklevel\u001b[0m\u001b[1;33m)\u001b[0m\u001b[1;33m:\u001b[0m\u001b[1;33m\u001b[0m\u001b[1;33m\u001b[0m\u001b[0m\n",
      "\u001b[1;32mD:\\Anaconda3\\lib\\site-packages\\pyproj\\crs\\crs.py\u001b[0m in \u001b[0;36mfrom_user_input\u001b[1;34m(value, **kwargs)\u001b[0m\n\u001b[0;32m    438\u001b[0m         \u001b[1;32mif\u001b[0m \u001b[0misinstance\u001b[0m\u001b[1;33m(\u001b[0m\u001b[0mvalue\u001b[0m\u001b[1;33m,\u001b[0m \u001b[0mCRS\u001b[0m\u001b[1;33m)\u001b[0m\u001b[1;33m:\u001b[0m\u001b[1;33m\u001b[0m\u001b[1;33m\u001b[0m\u001b[0m\n\u001b[0;32m    439\u001b[0m             \u001b[1;32mreturn\u001b[0m \u001b[0mvalue\u001b[0m\u001b[1;33m\u001b[0m\u001b[1;33m\u001b[0m\u001b[0m\n\u001b[1;32m--> 440\u001b[1;33m         \u001b[1;32mreturn\u001b[0m \u001b[0mCRS\u001b[0m\u001b[1;33m(\u001b[0m\u001b[0mvalue\u001b[0m\u001b[1;33m,\u001b[0m \u001b[1;33m**\u001b[0m\u001b[0mkwargs\u001b[0m\u001b[1;33m)\u001b[0m\u001b[1;33m\u001b[0m\u001b[1;33m\u001b[0m\u001b[0m\n\u001b[0m\u001b[0;32m    441\u001b[0m \u001b[1;33m\u001b[0m\u001b[0m\n\u001b[0;32m    442\u001b[0m     \u001b[1;32mdef\u001b[0m \u001b[0mget_geod\u001b[0m\u001b[1;33m(\u001b[0m\u001b[0mself\u001b[0m\u001b[1;33m)\u001b[0m \u001b[1;33m->\u001b[0m \u001b[0mOptional\u001b[0m\u001b[1;33m[\u001b[0m\u001b[0mGeod\u001b[0m\u001b[1;33m]\u001b[0m\u001b[1;33m:\u001b[0m\u001b[1;33m\u001b[0m\u001b[1;33m\u001b[0m\u001b[0m\n",
      "\u001b[1;32mD:\\Anaconda3\\lib\\site-packages\\pyproj\\crs\\crs.py\u001b[0m in \u001b[0;36m__init__\u001b[1;34m(self, projparams, **kwargs)\u001b[0m\n\u001b[0;32m    294\u001b[0m             \u001b[0mprojstring\u001b[0m \u001b[1;33m=\u001b[0m \u001b[0m_prepare_from_string\u001b[0m\u001b[1;33m(\u001b[0m\u001b[1;34m\" \"\u001b[0m\u001b[1;33m.\u001b[0m\u001b[0mjoin\u001b[0m\u001b[1;33m(\u001b[0m\u001b[1;33m(\u001b[0m\u001b[0mprojstring\u001b[0m\u001b[1;33m,\u001b[0m \u001b[0mprojkwargs\u001b[0m\u001b[1;33m)\u001b[0m\u001b[1;33m)\u001b[0m\u001b[1;33m)\u001b[0m\u001b[1;33m\u001b[0m\u001b[1;33m\u001b[0m\u001b[0m\n\u001b[0;32m    295\u001b[0m \u001b[1;33m\u001b[0m\u001b[0m\n\u001b[1;32m--> 296\u001b[1;33m         \u001b[0msuper\u001b[0m\u001b[1;33m(\u001b[0m\u001b[1;33m)\u001b[0m\u001b[1;33m.\u001b[0m\u001b[0m__init__\u001b[0m\u001b[1;33m(\u001b[0m\u001b[0mprojstring\u001b[0m\u001b[1;33m)\u001b[0m\u001b[1;33m\u001b[0m\u001b[1;33m\u001b[0m\u001b[0m\n\u001b[0m\u001b[0;32m    297\u001b[0m \u001b[1;33m\u001b[0m\u001b[0m\n\u001b[0;32m    298\u001b[0m     \u001b[1;33m@\u001b[0m\u001b[0mstaticmethod\u001b[0m\u001b[1;33m\u001b[0m\u001b[1;33m\u001b[0m\u001b[0m\n",
      "\u001b[1;32mpyproj\\_crs.pyx\u001b[0m in \u001b[0;36mpyproj._crs._CRS.__init__\u001b[1;34m()\u001b[0m\n",
      "\u001b[1;32mD:\\Anaconda3\\lib\\site-packages\\pyproj\\compat.py\u001b[0m in \u001b[0;36mpystrdecode\u001b[1;34m(cstr)\u001b[0m\n\u001b[0;32m     20\u001b[0m     \u001b[0mDecode\u001b[0m \u001b[0ma\u001b[0m \u001b[0mstring\u001b[0m \u001b[0mto\u001b[0m \u001b[0ma\u001b[0m \u001b[0mpython\u001b[0m \u001b[0mstring\u001b[0m\u001b[1;33m.\u001b[0m\u001b[1;33m\u001b[0m\u001b[1;33m\u001b[0m\u001b[0m\n\u001b[0;32m     21\u001b[0m     \"\"\"\n\u001b[1;32m---> 22\u001b[1;33m     \u001b[1;32mtry\u001b[0m\u001b[1;33m:\u001b[0m\u001b[1;33m\u001b[0m\u001b[1;33m\u001b[0m\u001b[0m\n\u001b[0m\u001b[0;32m     23\u001b[0m         \u001b[1;32mreturn\u001b[0m \u001b[0mcstr\u001b[0m\u001b[1;33m.\u001b[0m\u001b[0mdecode\u001b[0m\u001b[1;33m(\u001b[0m\u001b[1;34m\"utf-8\"\u001b[0m\u001b[1;33m)\u001b[0m\u001b[1;33m\u001b[0m\u001b[1;33m\u001b[0m\u001b[0m\n\u001b[0;32m     24\u001b[0m     \u001b[1;32mexcept\u001b[0m \u001b[0mAttributeError\u001b[0m\u001b[1;33m:\u001b[0m\u001b[1;33m\u001b[0m\u001b[1;33m\u001b[0m\u001b[0m\n",
      "\u001b[1;31mKeyboardInterrupt\u001b[0m: "
     ]
    }
   ],
   "source": [
    "for i in range(0,182):\n",
    "    simpl2lines(i)"
   ]
  },
  {
   "cell_type": "code",
   "execution_count": 432,
   "metadata": {},
   "outputs": [],
   "source": [
    "df = pd.read_pickle(\"geolife_106.zip\")\n",
    "df.drop(columns=['time','alt','label','user'],inplace=True)\n",
    "df['marker-size']=\"small\"\n",
    "df['marker-color']=\"small\""
   ]
  },
  {
   "cell_type": "code",
   "execution_count": null,
   "metadata": {},
   "outputs": [],
   "source": []
  },
  {
   "cell_type": "code",
   "execution_count": null,
   "metadata": {},
   "outputs": [],
   "source": []
  },
  {
   "cell_type": "code",
   "execution_count": null,
   "metadata": {},
   "outputs": [],
   "source": []
  },
  {
   "cell_type": "code",
   "execution_count": null,
   "metadata": {},
   "outputs": [],
   "source": []
  },
  {
   "cell_type": "code",
   "execution_count": 96,
   "metadata": {},
   "outputs": [
    {
     "data": {
      "text/html": [
       "<div>\n",
       "<style scoped>\n",
       "    .dataframe tbody tr th:only-of-type {\n",
       "        vertical-align: middle;\n",
       "    }\n",
       "\n",
       "    .dataframe tbody tr th {\n",
       "        vertical-align: top;\n",
       "    }\n",
       "\n",
       "    .dataframe thead th {\n",
       "        text-align: right;\n",
       "    }\n",
       "</style>\n",
       "<table border=\"1\" class=\"dataframe\">\n",
       "  <thead>\n",
       "    <tr style=\"text-align: right;\">\n",
       "      <th></th>\n",
       "      <th>marker-color</th>\n",
       "      <th>marker-size</th>\n",
       "      <th>marker-symbol</th>\n",
       "      <th>stroke</th>\n",
       "      <th>stroke-width</th>\n",
       "      <th>stroke-opacity</th>\n",
       "      <th>fill</th>\n",
       "      <th>fill-opacity</th>\n",
       "      <th>geometry</th>\n",
       "    </tr>\n",
       "  </thead>\n",
       "  <tbody>\n",
       "    <tr>\n",
       "      <th>0</th>\n",
       "      <td>#d77070</td>\n",
       "      <td>small</td>\n",
       "      <td>square</td>\n",
       "      <td>None</td>\n",
       "      <td>NaN</td>\n",
       "      <td>NaN</td>\n",
       "      <td>None</td>\n",
       "      <td>NaN</td>\n",
       "      <td>POINT (84.26239 42.79540)</td>\n",
       "    </tr>\n",
       "    <tr>\n",
       "      <th>1</th>\n",
       "      <td>None</td>\n",
       "      <td>None</td>\n",
       "      <td>None</td>\n",
       "      <td>#e7dada</td>\n",
       "      <td>2.0</td>\n",
       "      <td>1.0</td>\n",
       "      <td>#ffffff</td>\n",
       "      <td>0.0</td>\n",
       "      <td>POLYGON ((84.35303 42.86590, 84.33380 42.75710...</td>\n",
       "    </tr>\n",
       "    <tr>\n",
       "      <th>2</th>\n",
       "      <td>None</td>\n",
       "      <td>None</td>\n",
       "      <td>None</td>\n",
       "      <td>None</td>\n",
       "      <td>NaN</td>\n",
       "      <td>NaN</td>\n",
       "      <td>None</td>\n",
       "      <td>NaN</td>\n",
       "      <td>LINESTRING (84.56039 42.77323, 84.50684 42.899...</td>\n",
       "    </tr>\n",
       "  </tbody>\n",
       "</table>\n",
       "</div>"
      ],
      "text/plain": [
       "  marker-color marker-size marker-symbol   stroke  stroke-width  \\\n",
       "0      #d77070       small        square     None           NaN   \n",
       "1         None        None          None  #e7dada           2.0   \n",
       "2         None        None          None     None           NaN   \n",
       "\n",
       "   stroke-opacity     fill  fill-opacity  \\\n",
       "0             NaN     None           NaN   \n",
       "1             1.0  #ffffff           0.0   \n",
       "2             NaN     None           NaN   \n",
       "\n",
       "                                            geometry  \n",
       "0                          POINT (84.26239 42.79540)  \n",
       "1  POLYGON ((84.35303 42.86590, 84.33380 42.75710...  \n",
       "2  LINESTRING (84.56039 42.77323, 84.50684 42.899...  "
      ]
     },
     "execution_count": 96,
     "metadata": {},
     "output_type": "execute_result"
    }
   ],
   "source": [
    "\n",
    "dfxb = geopandas.read_file(\"map.geojson\")\n",
    "dfxb"
   ]
  },
  {
   "cell_type": "code",
   "execution_count": 97,
   "metadata": {},
   "outputs": [],
   "source": [
    "dfxb.to_file(\"map_write.geojson\", driver=\"GeoJSON\")"
   ]
  },
  {
   "cell_type": "code",
   "execution_count": null,
   "metadata": {},
   "outputs": [],
   "source": []
  },
  {
   "cell_type": "code",
   "execution_count": 424,
   "metadata": {},
   "outputs": [],
   "source": [
    "gdf = geopandas.GeoDataFrame(\n",
    "    df, geometry=geopandas.points_from_xy(df.lat, df.lon))"
   ]
  },
  {
   "cell_type": "code",
   "execution_count": 426,
   "metadata": {},
   "outputs": [],
   "source": []
  },
  {
   "cell_type": "code",
   "execution_count": null,
   "metadata": {},
   "outputs": [],
   "source": []
  },
  {
   "cell_type": "code",
   "execution_count": null,
   "metadata": {},
   "outputs": [],
   "source": []
  }
 ],
 "metadata": {
  "kernelspec": {
   "display_name": "Python 3",
   "language": "python",
   "name": "python3"
  },
  "language_info": {
   "codemirror_mode": {
    "name": "ipython",
    "version": 3
   },
   "file_extension": ".py",
   "mimetype": "text/x-python",
   "name": "python",
   "nbconvert_exporter": "python",
   "pygments_lexer": "ipython3",
   "version": "3.7.7"
  }
 },
 "nbformat": 4,
 "nbformat_minor": 4
}
