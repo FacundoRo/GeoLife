{
 "cells": [
  {
   "cell_type": "markdown",
   "metadata": {},
   "source": [
    "# Archivo:GeolifePrj_01_df2gjson\n",
    "## Convierte los DataFrames a GeoJson"
   ]
  },
  {
   "cell_type": "code",
   "execution_count": 1,
   "metadata": {},
   "outputs": [],
   "source": [
    "import geopandas\n",
    "import numpy as np\n",
    "import pandas as pd\n",
    "#from shapely.geometry import Point\n",
    "from geojson import  Point,Feature, FeatureCollection, dumps\n",
    "\n",
    "import csv, json\n",
    "\n",
    "import seaborn as sns"
   ]
  },
  {
   "cell_type": "code",
   "execution_count": 6,
   "metadata": {},
   "outputs": [],
   "source": [
    "def plt2geojson(from_plt_file,to_geojson_file):\n",
    "    features = []\n",
    "    with open(from_plt_file, newline='') as csvfile:\n",
    "        reader = csv.reader(csvfile, delimiter=',')\n",
    "        for _ in range(6): next(reader)\n",
    "        for latitude,longitude,empty,altitude,days,date,time in reader:\n",
    "            latitude, longitude = map(float, (latitude, longitude))\n",
    "            features.append(\n",
    "                Feature(\n",
    "                    geometry = Point((longitude, latitude)),\n",
    "                    properties = {\n",
    "                        'altitude': altitude,\n",
    "                        'date': f\"{date} {time}\"\n",
    "                    }\n",
    "                )\n",
    "            )\n",
    "\n",
    "    collection = FeatureCollection(features)\n",
    "    with open(to_geojson_file, \"w\") as f:\n",
    "        f.write(f\"{collection}\")\n",
    "        \n",
    "def simplecsv2geojson(from_csv_file,to_geojson_file):\n",
    "    features = []\n",
    "    with open(from_csv_file, newline='') as csvfile:\n",
    "        reader = csv.reader(csvfile, delimiter=',')\n",
    "        next(reader)\n",
    "        for date,latitude,longitude,label in reader:\n",
    "            latitude, longitude = map(float, (latitude, longitude))\n",
    "            features.append(\n",
    "                Feature(\n",
    "                    geometry = Point((longitude, latitude)),\n",
    "                    properties = {\n",
    "                        'date': f\"{date}\",\n",
    "                        'label': f\"{label}\"\n",
    "                    }\n",
    "                )\n",
    "            )\n",
    "\n",
    "    collection = FeatureCollection(features)\n",
    "    with open(to_geojson_file, \"w\") as f:\n",
    "        f.write(f\"{collection}\")"
   ]
  },
  {
   "cell_type": "code",
   "execution_count": 3,
   "metadata": {},
   "outputs": [],
   "source": [
    "def df2geojson(df,to_geojson_file):\n",
    "    df=df.astype(str)\n",
    "    lat = df['lat']\n",
    "    lng = df['lon']\n",
    "    #df = df.drop(columns=['lat', 'lon'])\n",
    "    df = df.drop(columns=['lat', 'lon','label','user'])    \n",
    "    \n",
    "    feat_list = []\n",
    "    failed = []\n",
    "    for i in range(0, len(df.index)):\n",
    "        props = dict(df.iloc[i])\n",
    "        try:\n",
    "            f = Feature(geometry=Point((float(lng.iloc[i]),float(lat.iloc[i]))),\n",
    "                       properties = props)\n",
    "            feat_list.append(f)\n",
    "        except Exception as ex:\n",
    "            print(\"Exception:\",ex)\n",
    "        \n",
    "    collection = FeatureCollection(feat_list)\n",
    "    with open(to_geojson_file, \"w\") as f:\n",
    "        f.write(f\"{collection}\")"
   ]
  },
  {
   "cell_type": "code",
   "execution_count": 4,
   "metadata": {},
   "outputs": [
    {
     "name": "stdout",
     "output_type": "stream",
     "text": [
      "Wall time: 2min 14s##################################################################################>] 181/182\n"
     ]
    }
   ],
   "source": [
    "%%time\n",
    "#creamos una version simplificada en csv\n",
    "sin_avance = \"[\"+\"-\"*100+\"]\"\n",
    "usuarios_df={}\n",
    "for usuario_num in range(0,182):\n",
    "    usuarios_df[usuario_num] = pd.read_pickle(f'geolife_{usuario_num:03d}.zip')\n",
    "    usuarios_df[usuario_num].columns=['date','latitude','longitude','altitude','label','user']\n",
    "    #dejamos 4 digitos de precision, que equivale a una resolucion de 8m^2 en el mapa. Explicacion: https://planspace.org/20180719-geolocation_precision_by_digit/\n",
    "    usuarios_df[usuario_num]['latitude']=usuarios_df[usuario_num]['latitude'].apply(lambda x:f\"{x:.5f}\")\n",
    "    usuarios_df[usuario_num]['longitude']=usuarios_df[usuario_num]['longitude'].apply(lambda x:f\"{x:.5f}\")\n",
    "    usuarios_df[usuario_num].drop(columns=['user','altitude'],inplace=True)\n",
    "    usuarios_df[usuario_num]=usuarios_df[usuario_num].astype(str)\n",
    "    #elimina los segundos y luego los repetidos, con lo que solo nos quedamos con una resolucion de \n",
    "    usuarios_df[usuario_num]['date']=usuarios_df[usuario_num]['date'].apply(lambda x:x[:-3]+':00')\n",
    "    usuarios_df[usuario_num] = usuarios_df[usuario_num].drop_duplicates(subset='date', keep='first')\n",
    "    usuarios_df[usuario_num].to_csv(f\"geolife_{usuario_num:03d}_simpl.csv\", index=False)\n",
    "    ## Avance ;)\n",
    "    print(\"[\"+\"#\"*int(100*(1+usuario_num)/182)+\">\"+\"-\"*int(100*(181-usuario_num)/181)+\"]\"+f\" {usuario_num:03d}/182\",end=\"\\r\")\n"
   ]
  },
  {
   "cell_type": "code",
   "execution_count": 7,
   "metadata": {},
   "outputs": [
    {
     "name": "stdout",
     "output_type": "stream",
     "text": [
      "Wall time: 24.7 s####################################################################################>] 181/182\n"
     ]
    }
   ],
   "source": [
    "%%time\n",
    "#creamos una version simplificada en geojson\n",
    "for usuario_num in range(0,182):\n",
    "    simplecsv2geojson(f\"geolife_{usuario_num:03d}_simpl.csv\",f\"geolife_{usuario_num:03d}_simpl.geojson\")\n",
    "    ## Avance ;)\n",
    "    print(\"[\"+\"#\"*int(100*(1+usuario_num)/182)+\">\"+\"-\"*int(100*(181-usuario_num)/181)+\"]\"+f\" {usuario_num:03d}/182\",end=\"\\r\")\n"
   ]
  },
  {
   "cell_type": "code",
   "execution_count": 180,
   "metadata": {},
   "outputs": [],
   "source": [
    "plt2geojson(\"data/007/Trajectory/20081028161937.plt\",\"geo_007.geojson\")"
   ]
  },
  {
   "cell_type": "code",
   "execution_count": null,
   "metadata": {},
   "outputs": [],
   "source": [
    "\n",
    "usuarios_df[usuario_num]['date']=usuarios_df[usuario_num]['date'].apply(lambda x:x[:-3]+':00')\n",
    "usuarios_df[usuario_num] = usuarios_df[usuario_num].drop_duplicates(subset='date', keep='first')"
   ]
  },
  {
   "cell_type": "code",
   "execution_count": 358,
   "metadata": {},
   "outputs": [
    {
     "data": {
      "text/html": [
       "<div>\n",
       "<style scoped>\n",
       "    .dataframe tbody tr th:only-of-type {\n",
       "        vertical-align: middle;\n",
       "    }\n",
       "\n",
       "    .dataframe tbody tr th {\n",
       "        vertical-align: top;\n",
       "    }\n",
       "\n",
       "    .dataframe thead th {\n",
       "        text-align: right;\n",
       "    }\n",
       "</style>\n",
       "<table border=\"1\" class=\"dataframe\">\n",
       "  <thead>\n",
       "    <tr style=\"text-align: right;\">\n",
       "      <th></th>\n",
       "      <th>date</th>\n",
       "      <th>geometry</th>\n",
       "    </tr>\n",
       "  </thead>\n",
       "  <tbody>\n",
       "    <tr>\n",
       "      <th>0</th>\n",
       "      <td>2011-02-24T18:45:00</td>\n",
       "      <td>POINT (116.32880 39.97520)</td>\n",
       "    </tr>\n",
       "    <tr>\n",
       "      <th>1</th>\n",
       "      <td>2011-02-24T18:46:00</td>\n",
       "      <td>POINT (116.32930 39.97530)</td>\n",
       "    </tr>\n",
       "    <tr>\n",
       "      <th>2</th>\n",
       "      <td>2011-02-24T18:47:00</td>\n",
       "      <td>POINT (116.32930 39.97530)</td>\n",
       "    </tr>\n",
       "    <tr>\n",
       "      <th>3</th>\n",
       "      <td>2011-02-24T18:48:00</td>\n",
       "      <td>POINT (116.32970 39.97490)</td>\n",
       "    </tr>\n",
       "    <tr>\n",
       "      <th>4</th>\n",
       "      <td>2011-02-24T18:49:00</td>\n",
       "      <td>POINT (116.32950 39.97530)</td>\n",
       "    </tr>\n",
       "    <tr>\n",
       "      <th>...</th>\n",
       "      <td>...</td>\n",
       "      <td>...</td>\n",
       "    </tr>\n",
       "    <tr>\n",
       "      <th>2921</th>\n",
       "      <td>2011-05-19T09:19:00</td>\n",
       "      <td>POINT (116.30290 39.97510)</td>\n",
       "    </tr>\n",
       "    <tr>\n",
       "      <th>2922</th>\n",
       "      <td>2011-05-19T09:20:00</td>\n",
       "      <td>POINT (116.30280 39.97580)</td>\n",
       "    </tr>\n",
       "    <tr>\n",
       "      <th>2923</th>\n",
       "      <td>2011-05-19T09:21:00</td>\n",
       "      <td>POINT (116.30280 39.97670)</td>\n",
       "    </tr>\n",
       "    <tr>\n",
       "      <th>2924</th>\n",
       "      <td>2011-05-19T09:22:00</td>\n",
       "      <td>POINT (116.30280 39.97730)</td>\n",
       "    </tr>\n",
       "    <tr>\n",
       "      <th>2925</th>\n",
       "      <td>2011-05-19T09:23:00</td>\n",
       "      <td>POINT (116.30340 39.97780)</td>\n",
       "    </tr>\n",
       "  </tbody>\n",
       "</table>\n",
       "<p>2926 rows × 2 columns</p>\n",
       "</div>"
      ],
      "text/plain": [
       "                     date                    geometry\n",
       "0     2011-02-24T18:45:00  POINT (116.32880 39.97520)\n",
       "1     2011-02-24T18:46:00  POINT (116.32930 39.97530)\n",
       "2     2011-02-24T18:47:00  POINT (116.32930 39.97530)\n",
       "3     2011-02-24T18:48:00  POINT (116.32970 39.97490)\n",
       "4     2011-02-24T18:49:00  POINT (116.32950 39.97530)\n",
       "...                   ...                         ...\n",
       "2921  2011-05-19T09:19:00  POINT (116.30290 39.97510)\n",
       "2922  2011-05-19T09:20:00  POINT (116.30280 39.97580)\n",
       "2923  2011-05-19T09:21:00  POINT (116.30280 39.97670)\n",
       "2924  2011-05-19T09:22:00  POINT (116.30280 39.97730)\n",
       "2925  2011-05-19T09:23:00  POINT (116.30340 39.97780)\n",
       "\n",
       "[2926 rows x 2 columns]"
      ]
     },
     "execution_count": 358,
     "metadata": {},
     "output_type": "execute_result"
    }
   ],
   "source": [
    "dfx = geopandas.read_file(\"geolife_simpl_147.geojson\")\n",
    "geopandas.to_\n"
   ]
  },
  {
   "cell_type": "code",
   "execution_count": 332,
   "metadata": {},
   "outputs": [
    {
     "data": {
      "text/html": [
       "<div>\n",
       "<style scoped>\n",
       "    .dataframe tbody tr th:only-of-type {\n",
       "        vertical-align: middle;\n",
       "    }\n",
       "\n",
       "    .dataframe tbody tr th {\n",
       "        vertical-align: top;\n",
       "    }\n",
       "\n",
       "    .dataframe thead th {\n",
       "        text-align: right;\n",
       "    }\n",
       "</style>\n",
       "<table border=\"1\" class=\"dataframe\">\n",
       "  <thead>\n",
       "    <tr style=\"text-align: right;\">\n",
       "      <th></th>\n",
       "      <th>date</th>\n",
       "      <th>geometry</th>\n",
       "    </tr>\n",
       "  </thead>\n",
       "  <tbody>\n",
       "    <tr>\n",
       "      <th>0</th>\n",
       "      <td>2008-10-23T06:59:00</td>\n",
       "      <td>POINT (116.32010 39.98410)</td>\n",
       "    </tr>\n",
       "    <tr>\n",
       "      <th>1</th>\n",
       "      <td>2008-10-23T07:00:00</td>\n",
       "      <td>POINT (116.31970 39.98490)</td>\n",
       "    </tr>\n",
       "    <tr>\n",
       "      <th>2</th>\n",
       "      <td>2008-10-23T07:01:00</td>\n",
       "      <td>POINT (116.31960 39.98520)</td>\n",
       "    </tr>\n",
       "    <tr>\n",
       "      <th>3</th>\n",
       "      <td>2008-10-23T07:02:00</td>\n",
       "      <td>POINT (116.32010 39.98510)</td>\n",
       "    </tr>\n",
       "    <tr>\n",
       "      <th>4</th>\n",
       "      <td>2008-10-23T07:03:00</td>\n",
       "      <td>POINT (116.32050 39.98470)</td>\n",
       "    </tr>\n",
       "    <tr>\n",
       "      <th>...</th>\n",
       "      <td>...</td>\n",
       "      <td>...</td>\n",
       "    </tr>\n",
       "    <tr>\n",
       "      <th>2730</th>\n",
       "      <td>2008-12-11T08:18:00</td>\n",
       "      <td>POINT (116.34230 39.98200)</td>\n",
       "    </tr>\n",
       "    <tr>\n",
       "      <th>2731</th>\n",
       "      <td>2008-12-11T08:19:00</td>\n",
       "      <td>POINT (116.34140 39.98170)</td>\n",
       "    </tr>\n",
       "    <tr>\n",
       "      <th>2732</th>\n",
       "      <td>2008-12-11T08:20:00</td>\n",
       "      <td>POINT (116.34010 39.98210)</td>\n",
       "    </tr>\n",
       "    <tr>\n",
       "      <th>2733</th>\n",
       "      <td>2008-12-11T08:21:00</td>\n",
       "      <td>POINT (116.33960 39.98180)</td>\n",
       "    </tr>\n",
       "    <tr>\n",
       "      <th>2734</th>\n",
       "      <td>2008-12-11T08:22:00</td>\n",
       "      <td>POINT (116.33930 39.98150)</td>\n",
       "    </tr>\n",
       "  </tbody>\n",
       "</table>\n",
       "<p>2735 rows × 2 columns</p>\n",
       "</div>"
      ],
      "text/plain": [
       "                     date                    geometry\n",
       "0     2008-10-23T06:59:00  POINT (116.32010 39.98410)\n",
       "1     2008-10-23T07:00:00  POINT (116.31970 39.98490)\n",
       "2     2008-10-23T07:01:00  POINT (116.31960 39.98520)\n",
       "3     2008-10-23T07:02:00  POINT (116.32010 39.98510)\n",
       "4     2008-10-23T07:03:00  POINT (116.32050 39.98470)\n",
       "...                   ...                         ...\n",
       "2730  2008-12-11T08:18:00  POINT (116.34230 39.98200)\n",
       "2731  2008-12-11T08:19:00  POINT (116.34140 39.98170)\n",
       "2732  2008-12-11T08:20:00  POINT (116.34010 39.98210)\n",
       "2733  2008-12-11T08:21:00  POINT (116.33960 39.98180)\n",
       "2734  2008-12-11T08:22:00  POINT (116.33930 39.98150)\n",
       "\n",
       "[2735 rows x 2 columns]"
      ]
     },
     "execution_count": 332,
     "metadata": {},
     "output_type": "execute_result"
    }
   ],
   "source": [
    "dfx = geopandas.read_file(\"geolife_simpl_006.geojson\")\n",
    "dfx"
   ]
  },
  {
   "cell_type": "code",
   "execution_count": 419,
   "metadata": {},
   "outputs": [
    {
     "data": {
      "text/plain": [
       "date         object\n",
       "latitude     object\n",
       "longitude    object\n",
       "dtype: object"
      ]
     },
     "execution_count": 419,
     "metadata": {},
     "output_type": "execute_result"
    }
   ],
   "source": [
    "usuario_num=106\n",
    "usuarios_df[usuario_num] = pd.read_csv(f'geolife_simpl_{usuario_num:03d}.csv').astype(str)\n",
    "usuarios_df[usuario_num].dtypes"
   ]
  },
  {
   "cell_type": "code",
   "execution_count": 383,
   "metadata": {},
   "outputs": [
    {
     "data": {
      "text/plain": [
       "str"
      ]
     },
     "execution_count": 383,
     "metadata": {},
     "output_type": "execute_result"
    }
   ],
   "source": [
    "#for i in range(0,200):\n",
    "#    print(i,usuarios_df[usuario_num].iloc[i].tolist())\n",
    "    \n",
    "type(usuarios_df[usuario_num].iloc[1].tolist()[1])"
   ]
  },
  {
   "cell_type": "code",
   "execution_count": 420,
   "metadata": {},
   "outputs": [
    {
     "data": {
      "text/html": [
       "<div>\n",
       "<style scoped>\n",
       "    .dataframe tbody tr th:only-of-type {\n",
       "        vertical-align: middle;\n",
       "    }\n",
       "\n",
       "    .dataframe tbody tr th {\n",
       "        vertical-align: top;\n",
       "    }\n",
       "\n",
       "    .dataframe thead th {\n",
       "        text-align: right;\n",
       "    }\n",
       "</style>\n",
       "<table border=\"1\" class=\"dataframe\">\n",
       "  <thead>\n",
       "    <tr style=\"text-align: right;\">\n",
       "      <th></th>\n",
       "      <th>date</th>\n",
       "      <th>latitude</th>\n",
       "      <th>longitude</th>\n",
       "    </tr>\n",
       "  </thead>\n",
       "  <tbody>\n",
       "    <tr>\n",
       "      <th>0</th>\n",
       "      <td>2007-10-08 01:56:00</td>\n",
       "      <td>40.0137</td>\n",
       "      <td>116.4735</td>\n",
       "    </tr>\n",
       "    <tr>\n",
       "      <th>1</th>\n",
       "      <td>2007-10-08 01:57:00</td>\n",
       "      <td>40.0116</td>\n",
       "      <td>116.4798</td>\n",
       "    </tr>\n",
       "    <tr>\n",
       "      <th>2</th>\n",
       "      <td>2007-10-08 01:58:00</td>\n",
       "      <td>40.0006</td>\n",
       "      <td>116.4908</td>\n",
       "    </tr>\n",
       "    <tr>\n",
       "      <th>3</th>\n",
       "      <td>2007-10-08 01:59:00</td>\n",
       "      <td>39.9972</td>\n",
       "      <td>116.4926</td>\n",
       "    </tr>\n",
       "    <tr>\n",
       "      <th>4</th>\n",
       "      <td>2007-10-08 02:00:00</td>\n",
       "      <td>40.0041</td>\n",
       "      <td>116.4993</td>\n",
       "    </tr>\n",
       "    <tr>\n",
       "      <th>...</th>\n",
       "      <td>...</td>\n",
       "      <td>...</td>\n",
       "      <td>...</td>\n",
       "    </tr>\n",
       "    <tr>\n",
       "      <th>839</th>\n",
       "      <td>2007-10-10 13:15:00</td>\n",
       "      <td>39.9755</td>\n",
       "      <td>116.3395</td>\n",
       "    </tr>\n",
       "    <tr>\n",
       "      <th>840</th>\n",
       "      <td>2007-10-10 13:16:00</td>\n",
       "      <td>39.9754</td>\n",
       "      <td>116.3378</td>\n",
       "    </tr>\n",
       "    <tr>\n",
       "      <th>841</th>\n",
       "      <td>2007-10-10 13:17:00</td>\n",
       "      <td>39.9753</td>\n",
       "      <td>116.3306</td>\n",
       "    </tr>\n",
       "    <tr>\n",
       "      <th>842</th>\n",
       "      <td>2007-10-10 13:18:00</td>\n",
       "      <td>39.9757</td>\n",
       "      <td>116.3309</td>\n",
       "    </tr>\n",
       "    <tr>\n",
       "      <th>843</th>\n",
       "      <td>2007-10-10 13:24:00</td>\n",
       "      <td>39.9756</td>\n",
       "      <td>116.3309</td>\n",
       "    </tr>\n",
       "  </tbody>\n",
       "</table>\n",
       "<p>844 rows × 3 columns</p>\n",
       "</div>"
      ],
      "text/plain": [
       "                    date latitude longitude\n",
       "0    2007-10-08 01:56:00  40.0137  116.4735\n",
       "1    2007-10-08 01:57:00  40.0116  116.4798\n",
       "2    2007-10-08 01:58:00  40.0006  116.4908\n",
       "3    2007-10-08 01:59:00  39.9972  116.4926\n",
       "4    2007-10-08 02:00:00  40.0041  116.4993\n",
       "..                   ...      ...       ...\n",
       "839  2007-10-10 13:15:00  39.9755  116.3395\n",
       "840  2007-10-10 13:16:00  39.9754  116.3378\n",
       "841  2007-10-10 13:17:00  39.9753  116.3306\n",
       "842  2007-10-10 13:18:00  39.9757  116.3309\n",
       "843  2007-10-10 13:24:00  39.9756  116.3309\n",
       "\n",
       "[844 rows x 3 columns]"
      ]
     },
     "execution_count": 420,
     "metadata": {},
     "output_type": "execute_result"
    }
   ],
   "source": [
    "usuarios_df[usuario_num]"
   ]
  },
  {
   "cell_type": "code",
   "execution_count": 351,
   "metadata": {},
   "outputs": [],
   "source": []
  },
  {
   "cell_type": "code",
   "execution_count": null,
   "metadata": {},
   "outputs": [],
   "source": []
  },
  {
   "cell_type": "code",
   "execution_count": 417,
   "metadata": {},
   "outputs": [
    {
     "data": {
      "text/plain": [
       "KMeans(algorithm='auto', copy_x=True, init='k-means++', max_iter=300,\n",
       "       n_clusters=8, n_init=10, n_jobs=None, precompute_distances='auto',\n",
       "       random_state=None, tol=0.0001, verbose=0)"
      ]
     },
     "execution_count": 417,
     "metadata": {},
     "output_type": "execute_result"
    }
   ],
   "source": [
    "from sklearn.cluster import KMeans\n",
    "import numpy as np\n",
    "\n",
    "x = usuarios_df[usuario_num][['latitude','longitude']].astype(float).to_numpy()\n",
    "\n",
    "km = KMeans()\n",
    "km.fit(x)"
   ]
  },
  {
   "cell_type": "code",
   "execution_count": 418,
   "metadata": {},
   "outputs": [
    {
     "data": {
      "text/plain": [
       "array([[ 39.91043291, 116.41469304],\n",
       "       [ 39.9872506 , 116.33174458],\n",
       "       [ 40.02404235, 116.51449294],\n",
       "       [ 39.91366571, 116.21412286],\n",
       "       [ 39.99766739, 116.46560507],\n",
       "       [ 39.88887091, 116.48109182],\n",
       "       [ 39.9972    , 116.23950435],\n",
       "       [ 39.96227717, 116.4286937 ]])"
      ]
     },
     "execution_count": 418,
     "metadata": {},
     "output_type": "execute_result"
    }
   ],
   "source": [
    "km.cluster_centers_"
   ]
  },
  {
   "cell_type": "code",
   "execution_count": 403,
   "metadata": {},
   "outputs": [],
   "source": [
    " X = np.array([[1, 2,4], [1, 4,3], [1, 0,2], [10, 2,9]])"
   ]
  },
  {
   "cell_type": "code",
   "execution_count": 406,
   "metadata": {},
   "outputs": [
    {
     "data": {
      "text/plain": [
       "array([[ 1,  2,  4],\n",
       "       [ 1,  4,  3],\n",
       "       [ 1,  0,  2],\n",
       "       [10,  2,  9]])"
      ]
     },
     "execution_count": 406,
     "metadata": {},
     "output_type": "execute_result"
    }
   ],
   "source": [
    "np.array([[1, 2,4], [1, 4,3], [1, 0,2], [10, 2,9]])\n"
   ]
  },
  {
   "cell_type": "code",
   "execution_count": 416,
   "metadata": {},
   "outputs": [
    {
     "data": {
      "text/plain": [
       "array([[ 40.0137, 116.4735],\n",
       "       [ 40.0116, 116.4798],\n",
       "       [ 40.0006, 116.4908],\n",
       "       ...,\n",
       "       [ 39.9753, 116.3306],\n",
       "       [ 39.9757, 116.3309],\n",
       "       [ 39.9756, 116.3309]])"
      ]
     },
     "execution_count": 416,
     "metadata": {},
     "output_type": "execute_result"
    }
   ],
   "source": [
    "usuarios_df[usuario_num][['latitude','longitude']].astype(float).to_numpy()\n"
   ]
  },
  {
   "cell_type": "code",
   "execution_count": null,
   "metadata": {},
   "outputs": [],
   "source": []
  },
  {
   "cell_type": "code",
   "execution_count": null,
   "metadata": {},
   "outputs": [],
   "source": []
  },
  {
   "cell_type": "code",
   "execution_count": 422,
   "metadata": {},
   "outputs": [
    {
     "data": {
      "text/html": [
       "<div>\n",
       "<style scoped>\n",
       "    .dataframe tbody tr th:only-of-type {\n",
       "        vertical-align: middle;\n",
       "    }\n",
       "\n",
       "    .dataframe tbody tr th {\n",
       "        vertical-align: top;\n",
       "    }\n",
       "\n",
       "    .dataframe thead th {\n",
       "        text-align: right;\n",
       "    }\n",
       "</style>\n",
       "<table border=\"1\" class=\"dataframe\">\n",
       "  <thead>\n",
       "    <tr style=\"text-align: right;\">\n",
       "      <th></th>\n",
       "      <th>date</th>\n",
       "      <th>geometry</th>\n",
       "    </tr>\n",
       "  </thead>\n",
       "  <tbody>\n",
       "    <tr>\n",
       "      <th>0</th>\n",
       "      <td>2007-10-08T01:56:00</td>\n",
       "      <td>POINT (116.47350 40.01370)</td>\n",
       "    </tr>\n",
       "    <tr>\n",
       "      <th>1</th>\n",
       "      <td>2007-10-08T01:57:00</td>\n",
       "      <td>POINT (116.47980 40.01160)</td>\n",
       "    </tr>\n",
       "    <tr>\n",
       "      <th>2</th>\n",
       "      <td>2007-10-08T01:58:00</td>\n",
       "      <td>POINT (116.49080 40.00060)</td>\n",
       "    </tr>\n",
       "    <tr>\n",
       "      <th>3</th>\n",
       "      <td>2007-10-08T01:59:00</td>\n",
       "      <td>POINT (116.49260 39.99720)</td>\n",
       "    </tr>\n",
       "    <tr>\n",
       "      <th>4</th>\n",
       "      <td>2007-10-08T02:00:00</td>\n",
       "      <td>POINT (116.49930 40.00410)</td>\n",
       "    </tr>\n",
       "    <tr>\n",
       "      <th>...</th>\n",
       "      <td>...</td>\n",
       "      <td>...</td>\n",
       "    </tr>\n",
       "    <tr>\n",
       "      <th>839</th>\n",
       "      <td>2007-10-10T13:15:00</td>\n",
       "      <td>POINT (116.33950 39.97550)</td>\n",
       "    </tr>\n",
       "    <tr>\n",
       "      <th>840</th>\n",
       "      <td>2007-10-10T13:16:00</td>\n",
       "      <td>POINT (116.33780 39.97540)</td>\n",
       "    </tr>\n",
       "    <tr>\n",
       "      <th>841</th>\n",
       "      <td>2007-10-10T13:17:00</td>\n",
       "      <td>POINT (116.33060 39.97530)</td>\n",
       "    </tr>\n",
       "    <tr>\n",
       "      <th>842</th>\n",
       "      <td>2007-10-10T13:18:00</td>\n",
       "      <td>POINT (116.33090 39.97570)</td>\n",
       "    </tr>\n",
       "    <tr>\n",
       "      <th>843</th>\n",
       "      <td>2007-10-10T13:24:00</td>\n",
       "      <td>POINT (116.33090 39.97560)</td>\n",
       "    </tr>\n",
       "  </tbody>\n",
       "</table>\n",
       "<p>844 rows × 2 columns</p>\n",
       "</div>"
      ],
      "text/plain": [
       "                    date                    geometry\n",
       "0    2007-10-08T01:56:00  POINT (116.47350 40.01370)\n",
       "1    2007-10-08T01:57:00  POINT (116.47980 40.01160)\n",
       "2    2007-10-08T01:58:00  POINT (116.49080 40.00060)\n",
       "3    2007-10-08T01:59:00  POINT (116.49260 39.99720)\n",
       "4    2007-10-08T02:00:00  POINT (116.49930 40.00410)\n",
       "..                   ...                         ...\n",
       "839  2007-10-10T13:15:00  POINT (116.33950 39.97550)\n",
       "840  2007-10-10T13:16:00  POINT (116.33780 39.97540)\n",
       "841  2007-10-10T13:17:00  POINT (116.33060 39.97530)\n",
       "842  2007-10-10T13:18:00  POINT (116.33090 39.97570)\n",
       "843  2007-10-10T13:24:00  POINT (116.33090 39.97560)\n",
       "\n",
       "[844 rows x 2 columns]"
      ]
     },
     "execution_count": 422,
     "metadata": {},
     "output_type": "execute_result"
    }
   ],
   "source": [
    "dfx = geopandas.read_file(\"geolife_simpl_106.geojson\")\n",
    "dfx"
   ]
  },
  {
   "cell_type": "code",
   "execution_count": 433,
   "metadata": {},
   "outputs": [
    {
     "data": {
      "text/html": [
       "<div>\n",
       "<style scoped>\n",
       "    .dataframe tbody tr th:only-of-type {\n",
       "        vertical-align: middle;\n",
       "    }\n",
       "\n",
       "    .dataframe tbody tr th {\n",
       "        vertical-align: top;\n",
       "    }\n",
       "\n",
       "    .dataframe thead th {\n",
       "        text-align: right;\n",
       "    }\n",
       "</style>\n",
       "<table border=\"1\" class=\"dataframe\">\n",
       "  <thead>\n",
       "    <tr style=\"text-align: right;\">\n",
       "      <th></th>\n",
       "      <th>marker-color</th>\n",
       "      <th>marker-size</th>\n",
       "      <th>marker-symbol</th>\n",
       "      <th>stroke</th>\n",
       "      <th>stroke-width</th>\n",
       "      <th>stroke-opacity</th>\n",
       "      <th>fill</th>\n",
       "      <th>fill-opacity</th>\n",
       "      <th>geometry</th>\n",
       "    </tr>\n",
       "  </thead>\n",
       "  <tbody>\n",
       "    <tr>\n",
       "      <th>0</th>\n",
       "      <td>#d77070</td>\n",
       "      <td>small</td>\n",
       "      <td>square</td>\n",
       "      <td>None</td>\n",
       "      <td>NaN</td>\n",
       "      <td>NaN</td>\n",
       "      <td>None</td>\n",
       "      <td>NaN</td>\n",
       "      <td>POINT (84.26239 42.79540)</td>\n",
       "    </tr>\n",
       "    <tr>\n",
       "      <th>1</th>\n",
       "      <td>None</td>\n",
       "      <td>None</td>\n",
       "      <td>None</td>\n",
       "      <td>#e7dada</td>\n",
       "      <td>2.0</td>\n",
       "      <td>1.0</td>\n",
       "      <td>#ffffff</td>\n",
       "      <td>0.0</td>\n",
       "      <td>POLYGON ((84.35303 42.86590, 84.33380 42.75710...</td>\n",
       "    </tr>\n",
       "    <tr>\n",
       "      <th>2</th>\n",
       "      <td>None</td>\n",
       "      <td>None</td>\n",
       "      <td>None</td>\n",
       "      <td>None</td>\n",
       "      <td>NaN</td>\n",
       "      <td>NaN</td>\n",
       "      <td>None</td>\n",
       "      <td>NaN</td>\n",
       "      <td>LINESTRING (84.56039 42.77323, 84.50684 42.899...</td>\n",
       "    </tr>\n",
       "  </tbody>\n",
       "</table>\n",
       "</div>"
      ],
      "text/plain": [
       "  marker-color marker-size marker-symbol   stroke  stroke-width  \\\n",
       "0      #d77070       small        square     None           NaN   \n",
       "1         None        None          None  #e7dada           2.0   \n",
       "2         None        None          None     None           NaN   \n",
       "\n",
       "   stroke-opacity     fill  fill-opacity  \\\n",
       "0             NaN     None           NaN   \n",
       "1             1.0  #ffffff           0.0   \n",
       "2             NaN     None           NaN   \n",
       "\n",
       "                                            geometry  \n",
       "0                          POINT (84.26239 42.79540)  \n",
       "1  POLYGON ((84.35303 42.86590, 84.33380 42.75710...  \n",
       "2  LINESTRING (84.56039 42.77323, 84.50684 42.899...  "
      ]
     },
     "execution_count": 433,
     "metadata": {},
     "output_type": "execute_result"
    }
   ],
   "source": [
    "\n",
    "dfxb = geopandas.read_file(\"map.geojson\")\n",
    "dfxb.w"
   ]
  },
  {
   "cell_type": "code",
   "execution_count": 423,
   "metadata": {},
   "outputs": [
    {
     "data": {
      "text/html": [
       "<div>\n",
       "<style scoped>\n",
       "    .dataframe tbody tr th:only-of-type {\n",
       "        vertical-align: middle;\n",
       "    }\n",
       "\n",
       "    .dataframe tbody tr th {\n",
       "        vertical-align: top;\n",
       "    }\n",
       "\n",
       "    .dataframe thead th {\n",
       "        text-align: right;\n",
       "    }\n",
       "</style>\n",
       "<table border=\"1\" class=\"dataframe\">\n",
       "  <thead>\n",
       "    <tr style=\"text-align: right;\">\n",
       "      <th></th>\n",
       "      <th>time</th>\n",
       "      <th>lat</th>\n",
       "      <th>lon</th>\n",
       "      <th>alt</th>\n",
       "      <th>label</th>\n",
       "      <th>user</th>\n",
       "    </tr>\n",
       "  </thead>\n",
       "  <tbody>\n",
       "    <tr>\n",
       "      <th>0</th>\n",
       "      <td>2007-10-08 01:56:45</td>\n",
       "      <td>40.013683</td>\n",
       "      <td>116.473467</td>\n",
       "      <td>154.199475</td>\n",
       "      <td>4</td>\n",
       "      <td>106</td>\n",
       "    </tr>\n",
       "    <tr>\n",
       "      <th>1</th>\n",
       "      <td>2007-10-08 01:56:58</td>\n",
       "      <td>40.012967</td>\n",
       "      <td>116.476683</td>\n",
       "      <td>154.199475</td>\n",
       "      <td>4</td>\n",
       "      <td>106</td>\n",
       "    </tr>\n",
       "    <tr>\n",
       "      <th>2</th>\n",
       "      <td>2007-10-08 01:57:13</td>\n",
       "      <td>40.011567</td>\n",
       "      <td>116.479800</td>\n",
       "      <td>147.637795</td>\n",
       "      <td>4</td>\n",
       "      <td>106</td>\n",
       "    </tr>\n",
       "    <tr>\n",
       "      <th>3</th>\n",
       "      <td>2007-10-08 01:57:26</td>\n",
       "      <td>40.009733</td>\n",
       "      <td>116.482167</td>\n",
       "      <td>141.076115</td>\n",
       "      <td>4</td>\n",
       "      <td>106</td>\n",
       "    </tr>\n",
       "    <tr>\n",
       "      <th>4</th>\n",
       "      <td>2007-10-08 01:58:37</td>\n",
       "      <td>40.000600</td>\n",
       "      <td>116.490833</td>\n",
       "      <td>147.637795</td>\n",
       "      <td>4</td>\n",
       "      <td>106</td>\n",
       "    </tr>\n",
       "    <tr>\n",
       "      <th>...</th>\n",
       "      <td>...</td>\n",
       "      <td>...</td>\n",
       "      <td>...</td>\n",
       "      <td>...</td>\n",
       "      <td>...</td>\n",
       "      <td>...</td>\n",
       "    </tr>\n",
       "    <tr>\n",
       "      <th>452</th>\n",
       "      <td>2007-10-10 13:17:14</td>\n",
       "      <td>39.975367</td>\n",
       "      <td>116.330433</td>\n",
       "      <td>180.446194</td>\n",
       "      <td>4</td>\n",
       "      <td>106</td>\n",
       "    </tr>\n",
       "    <tr>\n",
       "      <th>453</th>\n",
       "      <td>2007-10-10 13:17:34</td>\n",
       "      <td>39.975483</td>\n",
       "      <td>116.331583</td>\n",
       "      <td>173.884514</td>\n",
       "      <td>4</td>\n",
       "      <td>106</td>\n",
       "    </tr>\n",
       "    <tr>\n",
       "      <th>454</th>\n",
       "      <td>2007-10-10 13:17:45</td>\n",
       "      <td>39.975700</td>\n",
       "      <td>116.331733</td>\n",
       "      <td>177.165354</td>\n",
       "      <td>4</td>\n",
       "      <td>106</td>\n",
       "    </tr>\n",
       "    <tr>\n",
       "      <th>455</th>\n",
       "      <td>2007-10-10 13:18:08</td>\n",
       "      <td>39.975733</td>\n",
       "      <td>116.330900</td>\n",
       "      <td>180.446194</td>\n",
       "      <td>4</td>\n",
       "      <td>106</td>\n",
       "    </tr>\n",
       "    <tr>\n",
       "      <th>456</th>\n",
       "      <td>2007-10-10 13:24:01</td>\n",
       "      <td>39.975633</td>\n",
       "      <td>116.330900</td>\n",
       "      <td>180.446194</td>\n",
       "      <td>4</td>\n",
       "      <td>106</td>\n",
       "    </tr>\n",
       "  </tbody>\n",
       "</table>\n",
       "<p>1985 rows × 6 columns</p>\n",
       "</div>"
      ],
      "text/plain": [
       "                   time        lat         lon         alt  label  user\n",
       "0   2007-10-08 01:56:45  40.013683  116.473467  154.199475      4   106\n",
       "1   2007-10-08 01:56:58  40.012967  116.476683  154.199475      4   106\n",
       "2   2007-10-08 01:57:13  40.011567  116.479800  147.637795      4   106\n",
       "3   2007-10-08 01:57:26  40.009733  116.482167  141.076115      4   106\n",
       "4   2007-10-08 01:58:37  40.000600  116.490833  147.637795      4   106\n",
       "..                  ...        ...         ...         ...    ...   ...\n",
       "452 2007-10-10 13:17:14  39.975367  116.330433  180.446194      4   106\n",
       "453 2007-10-10 13:17:34  39.975483  116.331583  173.884514      4   106\n",
       "454 2007-10-10 13:17:45  39.975700  116.331733  177.165354      4   106\n",
       "455 2007-10-10 13:18:08  39.975733  116.330900  180.446194      4   106\n",
       "456 2007-10-10 13:24:01  39.975633  116.330900  180.446194      4   106\n",
       "\n",
       "[1985 rows x 6 columns]"
      ]
     },
     "execution_count": 423,
     "metadata": {},
     "output_type": "execute_result"
    }
   ],
   "source": [
    "df = pd.read_pickle(\"geolife_106.zip\")\n",
    "df.drop(['time','a'])"
   ]
  },
  {
   "cell_type": "code",
   "execution_count": 421,
   "metadata": {},
   "outputs": [
    {
     "ename": "NameError",
     "evalue": "name 'p1' is not defined",
     "output_type": "error",
     "traceback": [
      "\u001b[1;31m---------------------------------------------------------------------------\u001b[0m",
      "\u001b[1;31mNameError\u001b[0m                                 Traceback (most recent call last)",
      "\u001b[1;32m<ipython-input-421-d7a903fa06f4>\u001b[0m in \u001b[0;36m<module>\u001b[1;34m\u001b[0m\n\u001b[0;32m      1\u001b[0m \u001b[1;32mfrom\u001b[0m \u001b[0mgeopy\u001b[0m\u001b[1;33m.\u001b[0m\u001b[0mdistance\u001b[0m \u001b[1;32mimport\u001b[0m \u001b[0mdistance\u001b[0m\u001b[1;33m\u001b[0m\u001b[1;33m\u001b[0m\u001b[0m\n\u001b[1;32m----> 2\u001b[1;33m \u001b[0mdistance\u001b[0m\u001b[1;33m(\u001b[0m\u001b[0mp1\u001b[0m\u001b[1;33m,\u001b[0m \u001b[0mp2\u001b[0m\u001b[1;33m)\u001b[0m\u001b[1;33m\u001b[0m\u001b[1;33m\u001b[0m\u001b[0m\n\u001b[0m\u001b[0;32m      3\u001b[0m \u001b[0mOut\u001b[0m\u001b[1;33m:\u001b[0m \u001b[0mDistance\u001b[0m\u001b[1;33m(\u001b[0m\u001b[1;36m229.883275249\u001b[0m\u001b[1;33m)\u001b[0m\u001b[1;33m\u001b[0m\u001b[1;33m\u001b[0m\u001b[0m\n\u001b[0;32m      4\u001b[0m \u001b[0mdistance\u001b[0m\u001b[1;33m(\u001b[0m\u001b[0mp1\u001b[0m\u001b[1;33m,\u001b[0m \u001b[0mp2\u001b[0m\u001b[1;33m)\u001b[0m\u001b[1;33m.\u001b[0m\u001b[0mkm\u001b[0m\u001b[1;33m\u001b[0m\u001b[1;33m\u001b[0m\u001b[0m\n\u001b[0;32m      5\u001b[0m \u001b[0mOut\u001b[0m\u001b[1;33m:\u001b[0m \u001b[1;36m229.88327524944066\u001b[0m\u001b[1;33m\u001b[0m\u001b[1;33m\u001b[0m\u001b[0m\n",
      "\u001b[1;31mNameError\u001b[0m: name 'p1' is not defined"
     ]
    }
   ],
   "source": [
    "\n",
    "\n",
    "from geopy.distance import distance\n",
    "distance(p1, p2)\n",
    "Out: Distance(229.883275249)\n",
    "distance(p1, p2).km\n",
    "Out: 229.88327524944066"
   ]
  },
  {
   "cell_type": "code",
   "execution_count": 432,
   "metadata": {},
   "outputs": [],
   "source": [
    "df = pd.read_pickle(\"geolife_106.zip\")\n",
    "df.drop(columns=['time','alt','label','user'],inplace=True)\n",
    "df['marker-size']=\"small\"\n",
    "df['marker-color']=\"small\""
   ]
  },
  {
   "cell_type": "code",
   "execution_count": 424,
   "metadata": {},
   "outputs": [],
   "source": [
    "gdf = geopandas.GeoDataFrame(\n",
    "    df, geometry=geopandas.points_from_xy(df.lat, df.lon))"
   ]
  },
  {
   "cell_type": "code",
   "execution_count": 426,
   "metadata": {},
   "outputs": [],
   "source": [
    "\n",
    "gdf.to_file(\"geolife_106.geojson\", driver=\"GeoJSON\")"
   ]
  },
  {
   "cell_type": "code",
   "execution_count": null,
   "metadata": {},
   "outputs": [],
   "source": []
  },
  {
   "cell_type": "code",
   "execution_count": null,
   "metadata": {},
   "outputs": [],
   "source": []
  }
 ],
 "metadata": {
  "kernelspec": {
   "display_name": "Python 3",
   "language": "python",
   "name": "python3"
  },
  "language_info": {
   "codemirror_mode": {
    "name": "ipython",
    "version": 3
   },
   "file_extension": ".py",
   "mimetype": "text/x-python",
   "name": "python",
   "nbconvert_exporter": "python",
   "pygments_lexer": "ipython3",
   "version": "3.7.7"
  }
 },
 "nbformat": 4,
 "nbformat_minor": 4
}
